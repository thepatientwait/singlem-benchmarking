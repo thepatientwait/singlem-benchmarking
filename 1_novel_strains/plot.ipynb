{
 "cells": [
  {
   "cell_type": "code",
   "execution_count": 1,
   "metadata": {
    "vscode": {
     "languageId": "r"
    }
   },
   "outputs": [],
   "source": [
    "library(ggplot2)\n",
    "library(data.table)\n",
    "theme_set(theme_bw())"
   ]
  },
  {
   "cell_type": "code",
   "execution_count": 2,
   "metadata": {
    "vscode": {
     "languageId": "r"
    }
   },
   "outputs": [],
   "source": [
    "tools = c('singlem', 'metaphlan', 'motus', 'kracken', 'sourmash')"
   ]
  },
  {
   "cell_type": "code",
   "execution_count": 7,
   "metadata": {
    "vscode": {
     "languageId": "r"
    }
   },
   "outputs": [],
   "source": [
    "setwd('~/m/msingle/mess/124_singlem-benchmarking/1_novel_strains/')\n",
    "base_dir = 'full_run1/checkout/1_novel_strains/'"
   ]
  },
  {
   "cell_type": "code",
   "execution_count": 8,
   "metadata": {
    "vscode": {
     "languageId": "r"
    }
   },
   "outputs": [
    {
     "data": {
      "text/html": [
       "<style>\n",
       ".list-inline {list-style: none; margin:0; padding: 0}\n",
       ".list-inline>li {display: inline-block}\n",
       ".list-inline>li:not(:last-child)::after {content: \"\\00b7\"; padding: 0 .5ex}\n",
       "</style>\n",
       "<ol class=list-inline><li>'marine0'</li><li>'marine1'</li><li>'marine2'</li><li>'marine3'</li><li>'marine4'</li><li>'marine5'</li><li>'marine6'</li><li>'marine7'</li><li>'marine8'</li><li>'marine9'</li></ol>\n"
      ],
      "text/latex": [
       "\\begin{enumerate*}\n",
       "\\item 'marine0'\n",
       "\\item 'marine1'\n",
       "\\item 'marine2'\n",
       "\\item 'marine3'\n",
       "\\item 'marine4'\n",
       "\\item 'marine5'\n",
       "\\item 'marine6'\n",
       "\\item 'marine7'\n",
       "\\item 'marine8'\n",
       "\\item 'marine9'\n",
       "\\end{enumerate*}\n"
      ],
      "text/markdown": [
       "1. 'marine0'\n",
       "2. 'marine1'\n",
       "3. 'marine2'\n",
       "4. 'marine3'\n",
       "5. 'marine4'\n",
       "6. 'marine5'\n",
       "7. 'marine6'\n",
       "8. 'marine7'\n",
       "9. 'marine8'\n",
       "10. 'marine9'\n",
       "\n",
       "\n"
      ],
      "text/plain": [
       " [1] \"marine0\" \"marine1\" \"marine2\" \"marine3\" \"marine4\" \"marine5\" \"marine6\"\n",
       " [8] \"marine7\" \"marine8\" \"marine9\""
      ]
     },
     "metadata": {},
     "output_type": "display_data"
    }
   ],
   "source": [
    "communities = gsub('^','marine',as.character(0:9))\n",
    "communities"
   ]
  },
  {
   "cell_type": "code",
   "execution_count": 9,
   "metadata": {
    "vscode": {
     "languageId": "r"
    }
   },
   "outputs": [
    {
     "data": {
      "text/html": [
       "<table class=\"dataframe\">\n",
       "<caption>A data.table: 3 × 2</caption>\n",
       "<thead>\n",
       "\t<tr><th scope=col>tool</th><th scope=col>community</th></tr>\n",
       "\t<tr><th scope=col>&lt;fct&gt;</th><th scope=col>&lt;fct&gt;</th></tr>\n",
       "</thead>\n",
       "<tbody>\n",
       "\t<tr><td>singlem  </td><td>marine0</td></tr>\n",
       "\t<tr><td>metaphlan</td><td>marine0</td></tr>\n",
       "\t<tr><td>motus    </td><td>marine0</td></tr>\n",
       "</tbody>\n",
       "</table>\n"
      ],
      "text/latex": [
       "A data.table: 3 × 2\n",
       "\\begin{tabular}{ll}\n",
       " tool & community\\\\\n",
       " <fct> & <fct>\\\\\n",
       "\\hline\n",
       "\t singlem   & marine0\\\\\n",
       "\t metaphlan & marine0\\\\\n",
       "\t motus     & marine0\\\\\n",
       "\\end{tabular}\n"
      ],
      "text/markdown": [
       "\n",
       "A data.table: 3 × 2\n",
       "\n",
       "| tool &lt;fct&gt; | community &lt;fct&gt; |\n",
       "|---|---|\n",
       "| singlem   | marine0 |\n",
       "| metaphlan | marine0 |\n",
       "| motus     | marine0 |\n",
       "\n"
      ],
      "text/plain": [
       "  tool      community\n",
       "1 singlem   marine0  \n",
       "2 metaphlan marine0  \n",
       "3 motus     marine0  "
      ]
     },
     "metadata": {},
     "output_type": "display_data"
    }
   ],
   "source": [
    "d1 = data.table(expand.grid(tools, communities))\n",
    "setnames(d1, c('tool', 'community'))\n",
    "d1[1:3]"
   ]
  },
  {
   "cell_type": "code",
   "execution_count": 10,
   "metadata": {
    "vscode": {
     "languageId": "r"
    }
   },
   "outputs": [
    {
     "data": {
      "text/html": [
       "<table class=\"dataframe\">\n",
       "<caption>A data.table: 3 × 7</caption>\n",
       "<thead>\n",
       "\t<tr><th scope=col>tool</th><th scope=col>community</th><th scope=col>tool</th><th scope=col>rank</th><th scope=col>metric</th><th scope=col>sample</th><th scope=col>value</th></tr>\n",
       "\t<tr><th scope=col>&lt;fct&gt;</th><th scope=col>&lt;fct&gt;</th><th scope=col>&lt;chr&gt;</th><th scope=col>&lt;chr&gt;</th><th scope=col>&lt;chr&gt;</th><th scope=col>&lt;chr&gt;</th><th scope=col>&lt;dbl&gt;</th></tr>\n",
       "</thead>\n",
       "<tbody>\n",
       "\t<tr><td>singlem</td><td>marine0</td><td>Gold standard</td><td>kingdom</td><td>Bray-Curtis distance</td><td>SAMPLEID</td><td>0</td></tr>\n",
       "\t<tr><td>singlem</td><td>marine0</td><td>Gold standard</td><td>phylum </td><td>Bray-Curtis distance</td><td>SAMPLEID</td><td>0</td></tr>\n",
       "\t<tr><td>singlem</td><td>marine0</td><td>Gold standard</td><td>class  </td><td>Bray-Curtis distance</td><td>SAMPLEID</td><td>0</td></tr>\n",
       "</tbody>\n",
       "</table>\n"
      ],
      "text/latex": [
       "A data.table: 3 × 7\n",
       "\\begin{tabular}{lllllll}\n",
       " tool & community & tool & rank & metric & sample & value\\\\\n",
       " <fct> & <fct> & <chr> & <chr> & <chr> & <chr> & <dbl>\\\\\n",
       "\\hline\n",
       "\t singlem & marine0 & Gold standard & kingdom & Bray-Curtis distance & SAMPLEID & 0\\\\\n",
       "\t singlem & marine0 & Gold standard & phylum  & Bray-Curtis distance & SAMPLEID & 0\\\\\n",
       "\t singlem & marine0 & Gold standard & class   & Bray-Curtis distance & SAMPLEID & 0\\\\\n",
       "\\end{tabular}\n"
      ],
      "text/markdown": [
       "\n",
       "A data.table: 3 × 7\n",
       "\n",
       "| tool &lt;fct&gt; | community &lt;fct&gt; | tool &lt;chr&gt; | rank &lt;chr&gt; | metric &lt;chr&gt; | sample &lt;chr&gt; | value &lt;dbl&gt; |\n",
       "|---|---|---|---|---|---|---|\n",
       "| singlem | marine0 | Gold standard | kingdom | Bray-Curtis distance | SAMPLEID | 0 |\n",
       "| singlem | marine0 | Gold standard | phylum  | Bray-Curtis distance | SAMPLEID | 0 |\n",
       "| singlem | marine0 | Gold standard | class   | Bray-Curtis distance | SAMPLEID | 0 |\n",
       "\n"
      ],
      "text/plain": [
       "  tool    community tool          rank    metric               sample   value\n",
       "1 singlem marine0   Gold standard kingdom Bray-Curtis distance SAMPLEID 0    \n",
       "2 singlem marine0   Gold standard phylum  Bray-Curtis distance SAMPLEID 0    \n",
       "3 singlem marine0   Gold standard class   Bray-Curtis distance SAMPLEID 0    "
      ]
     },
     "metadata": {},
     "output_type": "display_data"
    }
   ],
   "source": [
    "# output_singlem/opal/GCA_022615805.1_genomic.opal_report\n",
    "d2 = d1[, fread(paste(base_dir,'output_',tool,sep='','/opal/',community,'.opal_report')), by=list(tool,community)]\n",
    "d2[1:3]"
   ]
  },
  {
   "cell_type": "code",
   "execution_count": 11,
   "metadata": {
    "vscode": {
     "languageId": "r"
    }
   },
   "outputs": [
    {
     "data": {
      "text/html": [
       "<style>\n",
       ".list-inline {list-style: none; margin:0; padding: 0}\n",
       ".list-inline>li {display: inline-block}\n",
       ".list-inline>li:not(:last-child)::after {content: \"\\00b7\"; padding: 0 .5ex}\n",
       "</style>\n",
       "<ol class=list-inline><li>9100</li><li>7</li></ol>\n"
      ],
      "text/latex": [
       "\\begin{enumerate*}\n",
       "\\item 9100\n",
       "\\item 7\n",
       "\\end{enumerate*}\n"
      ],
      "text/markdown": [
       "1. 9100\n",
       "2. 7\n",
       "\n",
       "\n"
      ],
      "text/plain": [
       "[1] 9100    7"
      ]
     },
     "metadata": {},
     "output_type": "display_data"
    }
   ],
   "source": [
    "dim(d2)"
   ]
  },
  {
   "cell_type": "code",
   "execution_count": 12,
   "metadata": {
    "vscode": {
     "languageId": "r"
    }
   },
   "outputs": [
    {
     "data": {
      "text/html": [
       "<table class=\"dataframe\">\n",
       "<caption>A data.table: 3 × 5</caption>\n",
       "<thead>\n",
       "\t<tr><th scope=col>tool</th><th scope=col>community</th><th scope=col>rank</th><th scope=col>metric</th><th scope=col>value</th></tr>\n",
       "\t<tr><th scope=col>&lt;fct&gt;</th><th scope=col>&lt;fct&gt;</th><th scope=col>&lt;chr&gt;</th><th scope=col>&lt;chr&gt;</th><th scope=col>&lt;dbl&gt;</th></tr>\n",
       "</thead>\n",
       "<tbody>\n",
       "\t<tr><td>singlem</td><td>marine0</td><td>kingdom</td><td>Bray-Curtis distance</td><td>0.0006384981</td></tr>\n",
       "\t<tr><td>singlem</td><td>marine0</td><td>phylum </td><td>Bray-Curtis distance</td><td>0.0187318686</td></tr>\n",
       "\t<tr><td>singlem</td><td>marine0</td><td>class  </td><td>Bray-Curtis distance</td><td>0.0219429962</td></tr>\n",
       "</tbody>\n",
       "</table>\n"
      ],
      "text/latex": [
       "A data.table: 3 × 5\n",
       "\\begin{tabular}{lllll}\n",
       " tool & community & rank & metric & value\\\\\n",
       " <fct> & <fct> & <chr> & <chr> & <dbl>\\\\\n",
       "\\hline\n",
       "\t singlem & marine0 & kingdom & Bray-Curtis distance & 0.0006384981\\\\\n",
       "\t singlem & marine0 & phylum  & Bray-Curtis distance & 0.0187318686\\\\\n",
       "\t singlem & marine0 & class   & Bray-Curtis distance & 0.0219429962\\\\\n",
       "\\end{tabular}\n"
      ],
      "text/markdown": [
       "\n",
       "A data.table: 3 × 5\n",
       "\n",
       "| tool &lt;fct&gt; | community &lt;fct&gt; | rank &lt;chr&gt; | metric &lt;chr&gt; | value &lt;dbl&gt; |\n",
       "|---|---|---|---|---|\n",
       "| singlem | marine0 | kingdom | Bray-Curtis distance | 0.0006384981 |\n",
       "| singlem | marine0 | phylum  | Bray-Curtis distance | 0.0187318686 |\n",
       "| singlem | marine0 | class   | Bray-Curtis distance | 0.0219429962 |\n",
       "\n"
      ],
      "text/plain": [
       "  tool    community rank    metric               value       \n",
       "1 singlem marine0   kingdom Bray-Curtis distance 0.0006384981\n",
       "2 singlem marine0   phylum  Bray-Curtis distance 0.0187318686\n",
       "3 singlem marine0   class   Bray-Curtis distance 0.0219429962"
      ]
     },
     "metadata": {},
     "output_type": "display_data"
    },
    {
     "data": {
      "text/html": [
       "<style>\n",
       ".list-inline {list-style: none; margin:0; padding: 0}\n",
       ".list-inline>li {display: inline-block}\n",
       ".list-inline>li:not(:last-child)::after {content: \"\\00b7\"; padding: 0 .5ex}\n",
       "</style>\n",
       "<ol class=list-inline><li>4550</li><li>5</li></ol>\n"
      ],
      "text/latex": [
       "\\begin{enumerate*}\n",
       "\\item 4550\n",
       "\\item 5\n",
       "\\end{enumerate*}\n"
      ],
      "text/markdown": [
       "1. 4550\n",
       "2. 5\n",
       "\n",
       "\n"
      ],
      "text/plain": [
       "[1] 4550    5"
      ]
     },
     "metadata": {},
     "output_type": "display_data"
    }
   ],
   "source": [
    "setnames(d2, c('tool','community','blah','rank','metric','sample','value'))\n",
    "d3 = d2[blah != 'Gold standard'][,.(tool, community, rank, metric, value)]\n",
    "d3[1:3]\n",
    "dim(d3)"
   ]
  },
  {
   "cell_type": "code",
   "execution_count": 13,
   "metadata": {
    "vscode": {
     "languageId": "r"
    }
   },
   "outputs": [
    {
     "data": {
      "text/html": [
       "<style>\n",
       ".list-inline {list-style: none; margin:0; padding: 0}\n",
       ".list-inline>li {display: inline-block}\n",
       ".list-inline>li:not(:last-child)::after {content: \"\\00b7\"; padding: 0 .5ex}\n",
       "</style>\n",
       "<ol class=list-inline><li>350</li><li>5</li></ol>\n"
      ],
      "text/latex": [
       "\\begin{enumerate*}\n",
       "\\item 350\n",
       "\\item 5\n",
       "\\end{enumerate*}\n"
      ],
      "text/markdown": [
       "1. 350\n",
       "2. 5\n",
       "\n",
       "\n"
      ],
      "text/plain": [
       "[1] 350   5"
      ]
     },
     "metadata": {},
     "output_type": "display_data"
    },
    {
     "data": {
      "text/html": [
       "<table class=\"dataframe\">\n",
       "<caption>A data.table: 10 × 5</caption>\n",
       "<thead>\n",
       "\t<tr><th scope=col>tool</th><th scope=col>community</th><th scope=col>rank</th><th scope=col>metric</th><th scope=col>value</th></tr>\n",
       "\t<tr><th scope=col>&lt;fct&gt;</th><th scope=col>&lt;fct&gt;</th><th scope=col>&lt;chr&gt;</th><th scope=col>&lt;chr&gt;</th><th scope=col>&lt;dbl&gt;</th></tr>\n",
       "</thead>\n",
       "<tbody>\n",
       "\t<tr><td>singlem  </td><td>marine0</td><td>kingdom</td><td>Bray-Curtis distance</td><td>0.0006384981</td></tr>\n",
       "\t<tr><td>singlem  </td><td>marine0</td><td>phylum </td><td>Bray-Curtis distance</td><td>0.0187318686</td></tr>\n",
       "\t<tr><td>singlem  </td><td>marine0</td><td>class  </td><td>Bray-Curtis distance</td><td>0.0219429962</td></tr>\n",
       "\t<tr><td>singlem  </td><td>marine0</td><td>order  </td><td>Bray-Curtis distance</td><td>0.0354324722</td></tr>\n",
       "\t<tr><td>singlem  </td><td>marine0</td><td>family </td><td>Bray-Curtis distance</td><td>0.0408631406</td></tr>\n",
       "\t<tr><td>singlem  </td><td>marine0</td><td>genus  </td><td>Bray-Curtis distance</td><td>0.0514502975</td></tr>\n",
       "\t<tr><td>singlem  </td><td>marine0</td><td>species</td><td>Bray-Curtis distance</td><td>0.1120054614</td></tr>\n",
       "\t<tr><td>metaphlan</td><td>marine0</td><td>kingdom</td><td>Bray-Curtis distance</td><td>0.0000000000</td></tr>\n",
       "\t<tr><td>metaphlan</td><td>marine0</td><td>phylum </td><td>Bray-Curtis distance</td><td>0.1181981795</td></tr>\n",
       "\t<tr><td>metaphlan</td><td>marine0</td><td>class  </td><td>Bray-Curtis distance</td><td>0.1369693139</td></tr>\n",
       "</tbody>\n",
       "</table>\n"
      ],
      "text/latex": [
       "A data.table: 10 × 5\n",
       "\\begin{tabular}{lllll}\n",
       " tool & community & rank & metric & value\\\\\n",
       " <fct> & <fct> & <chr> & <chr> & <dbl>\\\\\n",
       "\\hline\n",
       "\t singlem   & marine0 & kingdom & Bray-Curtis distance & 0.0006384981\\\\\n",
       "\t singlem   & marine0 & phylum  & Bray-Curtis distance & 0.0187318686\\\\\n",
       "\t singlem   & marine0 & class   & Bray-Curtis distance & 0.0219429962\\\\\n",
       "\t singlem   & marine0 & order   & Bray-Curtis distance & 0.0354324722\\\\\n",
       "\t singlem   & marine0 & family  & Bray-Curtis distance & 0.0408631406\\\\\n",
       "\t singlem   & marine0 & genus   & Bray-Curtis distance & 0.0514502975\\\\\n",
       "\t singlem   & marine0 & species & Bray-Curtis distance & 0.1120054614\\\\\n",
       "\t metaphlan & marine0 & kingdom & Bray-Curtis distance & 0.0000000000\\\\\n",
       "\t metaphlan & marine0 & phylum  & Bray-Curtis distance & 0.1181981795\\\\\n",
       "\t metaphlan & marine0 & class   & Bray-Curtis distance & 0.1369693139\\\\\n",
       "\\end{tabular}\n"
      ],
      "text/markdown": [
       "\n",
       "A data.table: 10 × 5\n",
       "\n",
       "| tool &lt;fct&gt; | community &lt;fct&gt; | rank &lt;chr&gt; | metric &lt;chr&gt; | value &lt;dbl&gt; |\n",
       "|---|---|---|---|---|\n",
       "| singlem   | marine0 | kingdom | Bray-Curtis distance | 0.0006384981 |\n",
       "| singlem   | marine0 | phylum  | Bray-Curtis distance | 0.0187318686 |\n",
       "| singlem   | marine0 | class   | Bray-Curtis distance | 0.0219429962 |\n",
       "| singlem   | marine0 | order   | Bray-Curtis distance | 0.0354324722 |\n",
       "| singlem   | marine0 | family  | Bray-Curtis distance | 0.0408631406 |\n",
       "| singlem   | marine0 | genus   | Bray-Curtis distance | 0.0514502975 |\n",
       "| singlem   | marine0 | species | Bray-Curtis distance | 0.1120054614 |\n",
       "| metaphlan | marine0 | kingdom | Bray-Curtis distance | 0.0000000000 |\n",
       "| metaphlan | marine0 | phylum  | Bray-Curtis distance | 0.1181981795 |\n",
       "| metaphlan | marine0 | class   | Bray-Curtis distance | 0.1369693139 |\n",
       "\n"
      ],
      "text/plain": [
       "   tool      community rank    metric               value       \n",
       "1  singlem   marine0   kingdom Bray-Curtis distance 0.0006384981\n",
       "2  singlem   marine0   phylum  Bray-Curtis distance 0.0187318686\n",
       "3  singlem   marine0   class   Bray-Curtis distance 0.0219429962\n",
       "4  singlem   marine0   order   Bray-Curtis distance 0.0354324722\n",
       "5  singlem   marine0   family  Bray-Curtis distance 0.0408631406\n",
       "6  singlem   marine0   genus   Bray-Curtis distance 0.0514502975\n",
       "7  singlem   marine0   species Bray-Curtis distance 0.1120054614\n",
       "8  metaphlan marine0   kingdom Bray-Curtis distance 0.0000000000\n",
       "9  metaphlan marine0   phylum  Bray-Curtis distance 0.1181981795\n",
       "10 metaphlan marine0   class   Bray-Curtis distance 0.1369693139"
      ]
     },
     "metadata": {},
     "output_type": "display_data"
    }
   ],
   "source": [
    "bc = d3[metric=='Bray-Curtis distance']\n",
    "dim(bc)\n",
    "bc[1:10]"
   ]
  },
  {
   "cell_type": "code",
   "execution_count": 14,
   "metadata": {
    "vscode": {
     "languageId": "r"
    }
   },
   "outputs": [
    {
     "data": {
      "text/html": [
       "<table class=\"dataframe\">\n",
       "<caption>A data.table: 3 × 5</caption>\n",
       "<thead>\n",
       "\t<tr><th scope=col>tool</th><th scope=col>community</th><th scope=col>rank</th><th scope=col>metric</th><th scope=col>value</th></tr>\n",
       "\t<tr><th scope=col>&lt;fct&gt;</th><th scope=col>&lt;fct&gt;</th><th scope=col>&lt;fct&gt;</th><th scope=col>&lt;chr&gt;</th><th scope=col>&lt;dbl&gt;</th></tr>\n",
       "</thead>\n",
       "<tbody>\n",
       "\t<tr><td>singlem</td><td>marine0</td><td>kingdom</td><td>Bray-Curtis distance</td><td>0.0006384981</td></tr>\n",
       "\t<tr><td>singlem</td><td>marine0</td><td>phylum </td><td>Bray-Curtis distance</td><td>0.0187318686</td></tr>\n",
       "\t<tr><td>singlem</td><td>marine0</td><td>class  </td><td>Bray-Curtis distance</td><td>0.0219429962</td></tr>\n",
       "</tbody>\n",
       "</table>\n"
      ],
      "text/latex": [
       "A data.table: 3 × 5\n",
       "\\begin{tabular}{lllll}\n",
       " tool & community & rank & metric & value\\\\\n",
       " <fct> & <fct> & <fct> & <chr> & <dbl>\\\\\n",
       "\\hline\n",
       "\t singlem & marine0 & kingdom & Bray-Curtis distance & 0.0006384981\\\\\n",
       "\t singlem & marine0 & phylum  & Bray-Curtis distance & 0.0187318686\\\\\n",
       "\t singlem & marine0 & class   & Bray-Curtis distance & 0.0219429962\\\\\n",
       "\\end{tabular}\n"
      ],
      "text/markdown": [
       "\n",
       "A data.table: 3 × 5\n",
       "\n",
       "| tool &lt;fct&gt; | community &lt;fct&gt; | rank &lt;fct&gt; | metric &lt;chr&gt; | value &lt;dbl&gt; |\n",
       "|---|---|---|---|---|\n",
       "| singlem | marine0 | kingdom | Bray-Curtis distance | 0.0006384981 |\n",
       "| singlem | marine0 | phylum  | Bray-Curtis distance | 0.0187318686 |\n",
       "| singlem | marine0 | class   | Bray-Curtis distance | 0.0219429962 |\n",
       "\n"
      ],
      "text/plain": [
       "  tool    community rank    metric               value       \n",
       "1 singlem marine0   kingdom Bray-Curtis distance 0.0006384981\n",
       "2 singlem marine0   phylum  Bray-Curtis distance 0.0187318686\n",
       "3 singlem marine0   class   Bray-Curtis distance 0.0219429962"
      ]
     },
     "metadata": {},
     "output_type": "display_data"
    }
   ],
   "source": [
    "orders = c('kingdom','phylum','class','order','family','genus','species')\n",
    "bc[, rank := factor(rank, levels=orders)]\n",
    "bc[1:3]"
   ]
  },
  {
   "cell_type": "code",
   "execution_count": 15,
   "metadata": {
    "vscode": {
     "languageId": "r"
    }
   },
   "outputs": [],
   "source": [
    "average_bc = bc[, mean(value), by=list(tool)][order(V1)]\n",
    "tool_order = average_bc$tool\n",
    "bc[, tool := factor(tool, levels=tool_order)]"
   ]
  },
  {
   "cell_type": "code",
   "execution_count": 16,
   "metadata": {
    "vscode": {
     "languageId": "r"
    }
   },
   "outputs": [
    {
     "name": "stderr",
     "output_type": "stream",
     "text": [
      "Warning message:\n",
      "“\u001b[1m\u001b[22m`qplot()` was deprecated in ggplot2 3.4.0.”\n"
     ]
    },
    {
     "data": {
      "image/png": "[encoded data removed]",
      "text/plain": [
       "plot without title"
      ]
     },
     "metadata": {
      "image/png": {
       "height": 420,
       "width": 420
      }
     },
     "output_type": "display_data"
    }
   ],
   "source": [
    "qplot(data=bc, rank, 1-value, geom='boxplot', fill=tool, ylab='Bray-Curtis similarity to truth', main='Accuracy on community of novel strains') + theme(axis.text.x = element_text(angle = 45, hjust = 1))"
   ]
  },
  {
   "cell_type": "code",
   "execution_count": 17,
   "metadata": {
    "vscode": {
     "languageId": "r"
    }
   },
   "outputs": [
    {
     "data": {
      "text/html": [
       "<table class=\"dataframe\">\n",
       "<caption>A data.table: 5 × 2</caption>\n",
       "<thead>\n",
       "\t<tr><th scope=col>tool</th><th scope=col>V1</th></tr>\n",
       "\t<tr><th scope=col>&lt;fct&gt;</th><th scope=col>&lt;dbl&gt;</th></tr>\n",
       "</thead>\n",
       "<tbody>\n",
       "\t<tr><td>motus    </td><td>0.4384480</td></tr>\n",
       "\t<tr><td>sourmash </td><td>0.4092881</td></tr>\n",
       "\t<tr><td>metaphlan</td><td>0.2722743</td></tr>\n",
       "\t<tr><td>kracken  </td><td>0.2721300</td></tr>\n",
       "\t<tr><td>singlem  </td><td>0.1375454</td></tr>\n",
       "</tbody>\n",
       "</table>\n"
      ],
      "text/latex": [
       "A data.table: 5 × 2\n",
       "\\begin{tabular}{ll}\n",
       " tool & V1\\\\\n",
       " <fct> & <dbl>\\\\\n",
       "\\hline\n",
       "\t motus     & 0.4384480\\\\\n",
       "\t sourmash  & 0.4092881\\\\\n",
       "\t metaphlan & 0.2722743\\\\\n",
       "\t kracken   & 0.2721300\\\\\n",
       "\t singlem   & 0.1375454\\\\\n",
       "\\end{tabular}\n"
      ],
      "text/markdown": [
       "\n",
       "A data.table: 5 × 2\n",
       "\n",
       "| tool &lt;fct&gt; | V1 &lt;dbl&gt; |\n",
       "|---|---|\n",
       "| motus     | 0.4384480 |\n",
       "| sourmash  | 0.4092881 |\n",
       "| metaphlan | 0.2722743 |\n",
       "| kracken   | 0.2721300 |\n",
       "| singlem   | 0.1375454 |\n",
       "\n"
      ],
      "text/plain": [
       "  tool      V1       \n",
       "1 motus     0.4384480\n",
       "2 sourmash  0.4092881\n",
       "3 metaphlan 0.2722743\n",
       "4 kracken   0.2721300\n",
       "5 singlem   0.1375454"
      ]
     },
     "metadata": {},
     "output_type": "display_data"
    },
    {
     "data": {
      "text/html": [
       "-0.134584640048047"
      ],
      "text/latex": [
       "-0.134584640048047"
      ],
      "text/markdown": [
       "-0.134584640048047"
      ],
      "text/plain": [
       "[1] -0.1345846"
      ]
     },
     "metadata": {},
     "output_type": "display_data"
    }
   ],
   "source": [
    "# How much better is singlem than the next best tool?\n",
    "means = bc[rank=='species', mean(value), by=tool][order(-V1)]\n",
    "means\n",
    "means[tool=='singlem', V1] - means[tool!='singlem', min(V1)]"
   ]
  },
  {
   "cell_type": "code",
   "execution_count": 18,
   "metadata": {
    "vscode": {
     "languageId": "r"
    }
   },
   "outputs": [],
   "source": [
    "# write out bc\n",
    "fwrite(bc, 'bray-curtis.csv', sep='\\t')"
   ]
  },
  {
   "attachments": {},
   "cell_type": "markdown",
   "metadata": {},
   "source": [
    "# Runtime comparison"
   ]
  },
  {
   "cell_type": "code",
   "execution_count": 19,
   "metadata": {
    "vscode": {
     "languageId": "r"
    }
   },
   "outputs": [],
   "source": [
    "thread_numbers = as.character(c(1,8,32))"
   ]
  },
  {
   "cell_type": "code",
   "execution_count": 20,
   "metadata": {
    "vscode": {
     "languageId": "r"
    }
   },
   "outputs": [
    {
     "data": {
      "text/html": [
       "<table class=\"dataframe\">\n",
       "<caption>A data.table: 3 × 3</caption>\n",
       "<thead>\n",
       "\t<tr><th scope=col>tool</th><th scope=col>threads</th><th scope=col>community</th></tr>\n",
       "\t<tr><th scope=col>&lt;fct&gt;</th><th scope=col>&lt;fct&gt;</th><th scope=col>&lt;fct&gt;</th></tr>\n",
       "</thead>\n",
       "<tbody>\n",
       "\t<tr><td>singlem  </td><td>1</td><td>marine0</td></tr>\n",
       "\t<tr><td>metaphlan</td><td>1</td><td>marine0</td></tr>\n",
       "\t<tr><td>motus    </td><td>1</td><td>marine0</td></tr>\n",
       "</tbody>\n",
       "</table>\n"
      ],
      "text/latex": [
       "A data.table: 3 × 3\n",
       "\\begin{tabular}{lll}\n",
       " tool & threads & community\\\\\n",
       " <fct> & <fct> & <fct>\\\\\n",
       "\\hline\n",
       "\t singlem   & 1 & marine0\\\\\n",
       "\t metaphlan & 1 & marine0\\\\\n",
       "\t motus     & 1 & marine0\\\\\n",
       "\\end{tabular}\n"
      ],
      "text/markdown": [
       "\n",
       "A data.table: 3 × 3\n",
       "\n",
       "| tool &lt;fct&gt; | threads &lt;fct&gt; | community &lt;fct&gt; |\n",
       "|---|---|---|\n",
       "| singlem   | 1 | marine0 |\n",
       "| metaphlan | 1 | marine0 |\n",
       "| motus     | 1 | marine0 |\n",
       "\n"
      ],
      "text/plain": [
       "  tool      threads community\n",
       "1 singlem   1       marine0  \n",
       "2 metaphlan 1       marine0  \n",
       "3 motus     1       marine0  "
      ]
     },
     "metadata": {},
     "output_type": "display_data"
    }
   ],
   "source": [
    "r1 = data.table(expand.grid(tools, thread_numbers, communities))\n",
    "setnames(r1, c('tool', 'threads', 'community'))\n",
    "r1[1:3]"
   ]
  },
  {
   "cell_type": "code",
   "execution_count": 21,
   "metadata": {
    "vscode": {
     "languageId": "r"
    }
   },
   "outputs": [
    {
     "data": {
      "text/html": [
       "'/mnt/hpccs01/work/microbiome/msingle/mess/124_singlem-benchmarking/1_novel_strains'"
      ],
      "text/latex": [
       "'/mnt/hpccs01/work/microbiome/msingle/mess/124\\_singlem-benchmarking/1\\_novel\\_strains'"
      ],
      "text/markdown": [
       "'/mnt/hpccs01/work/microbiome/msingle/mess/124_singlem-benchmarking/1_novel_strains'"
      ],
      "text/plain": [
       "[1] \"/mnt/hpccs01/work/microbiome/msingle/mess/124_singlem-benchmarking/1_novel_strains\""
      ]
     },
     "metadata": {},
     "output_type": "display_data"
    },
    {
     "data": {
      "text/html": [
       "<table class=\"dataframe\">\n",
       "<caption>A data.table: 3 × 13</caption>\n",
       "<thead>\n",
       "\t<tr><th scope=col>tool</th><th scope=col>threads</th><th scope=col>community</th><th scope=col>s</th><th scope=col>h:m:s</th><th scope=col>max_rss</th><th scope=col>max_vms</th><th scope=col>max_uss</th><th scope=col>max_pss</th><th scope=col>io_in</th><th scope=col>io_out</th><th scope=col>mean_load</th><th scope=col>cpu_time</th></tr>\n",
       "\t<tr><th scope=col>&lt;fct&gt;</th><th scope=col>&lt;fct&gt;</th><th scope=col>&lt;fct&gt;</th><th scope=col>&lt;dbl&gt;</th><th scope=col>&lt;chr&gt;</th><th scope=col>&lt;dbl&gt;</th><th scope=col>&lt;dbl&gt;</th><th scope=col>&lt;dbl&gt;</th><th scope=col>&lt;dbl&gt;</th><th scope=col>&lt;dbl&gt;</th><th scope=col>&lt;dbl&gt;</th><th scope=col>&lt;dbl&gt;</th><th scope=col>&lt;dbl&gt;</th></tr>\n",
       "</thead>\n",
       "<tbody>\n",
       "\t<tr><td>singlem  </td><td>1</td><td>marine0</td><td> 5536.106</td><td>1:32:16</td><td> 1612.55</td><td> 3158.88</td><td> 1587.71</td><td> 1591.02</td><td>64.15</td><td>1495.66</td><td> 83.78</td><td>346.71</td></tr>\n",
       "\t<tr><td>metaphlan</td><td>1</td><td>marine0</td><td>24349.448</td><td>6:45:49</td><td>17523.12</td><td>18052.73</td><td>17485.55</td><td>17499.47</td><td> 7.82</td><td>9705.83</td><td>106.70</td><td> 94.03</td></tr>\n",
       "\t<tr><td>motus    </td><td>1</td><td>marine0</td><td>26097.818</td><td>7:14:57</td><td>10893.61</td><td>11030.97</td><td>10886.74</td><td>10887.10</td><td> 0.00</td><td>   0.01</td><td>101.56</td><td>406.26</td></tr>\n",
       "</tbody>\n",
       "</table>\n"
      ],
      "text/latex": [
       "A data.table: 3 × 13\n",
       "\\begin{tabular}{lllllllllllll}\n",
       " tool & threads & community & s & h:m:s & max\\_rss & max\\_vms & max\\_uss & max\\_pss & io\\_in & io\\_out & mean\\_load & cpu\\_time\\\\\n",
       " <fct> & <fct> & <fct> & <dbl> & <chr> & <dbl> & <dbl> & <dbl> & <dbl> & <dbl> & <dbl> & <dbl> & <dbl>\\\\\n",
       "\\hline\n",
       "\t singlem   & 1 & marine0 &  5536.106 & 1:32:16 &  1612.55 &  3158.88 &  1587.71 &  1591.02 & 64.15 & 1495.66 &  83.78 & 346.71\\\\\n",
       "\t metaphlan & 1 & marine0 & 24349.448 & 6:45:49 & 17523.12 & 18052.73 & 17485.55 & 17499.47 &  7.82 & 9705.83 & 106.70 &  94.03\\\\\n",
       "\t motus     & 1 & marine0 & 26097.818 & 7:14:57 & 10893.61 & 11030.97 & 10886.74 & 10887.10 &  0.00 &    0.01 & 101.56 & 406.26\\\\\n",
       "\\end{tabular}\n"
      ],
      "text/markdown": [
       "\n",
       "A data.table: 3 × 13\n",
       "\n",
       "| tool &lt;fct&gt; | threads &lt;fct&gt; | community &lt;fct&gt; | s &lt;dbl&gt; | h:m:s &lt;chr&gt; | max_rss &lt;dbl&gt; | max_vms &lt;dbl&gt; | max_uss &lt;dbl&gt; | max_pss &lt;dbl&gt; | io_in &lt;dbl&gt; | io_out &lt;dbl&gt; | mean_load &lt;dbl&gt; | cpu_time &lt;dbl&gt; |\n",
       "|---|---|---|---|---|---|---|---|---|---|---|---|---|\n",
       "| singlem   | 1 | marine0 |  5536.106 | 1:32:16 |  1612.55 |  3158.88 |  1587.71 |  1591.02 | 64.15 | 1495.66 |  83.78 | 346.71 |\n",
       "| metaphlan | 1 | marine0 | 24349.448 | 6:45:49 | 17523.12 | 18052.73 | 17485.55 | 17499.47 |  7.82 | 9705.83 | 106.70 |  94.03 |\n",
       "| motus     | 1 | marine0 | 26097.818 | 7:14:57 | 10893.61 | 11030.97 | 10886.74 | 10887.10 |  0.00 |    0.01 | 101.56 | 406.26 |\n",
       "\n"
      ],
      "text/plain": [
       "  tool      threads community s         h:m:s   max_rss  max_vms  max_uss \n",
       "1 singlem   1       marine0    5536.106 1:32:16  1612.55  3158.88  1587.71\n",
       "2 metaphlan 1       marine0   24349.448 6:45:49 17523.12 18052.73 17485.55\n",
       "3 motus     1       marine0   26097.818 7:14:57 10893.61 11030.97 10886.74\n",
       "  max_pss  io_in io_out  mean_load cpu_time\n",
       "1  1591.02 64.15 1495.66  83.78    346.71  \n",
       "2 17499.47  7.82 9705.83 106.70     94.03  \n",
       "3 10887.10  0.00    0.01 101.56    406.26  "
      ]
     },
     "metadata": {},
     "output_type": "display_data"
    }
   ],
   "source": [
    "r1[tool=='kracken', tool := 'kraken']\n",
    "reed = function(tool,threads,community){\n",
    "    # print(x)\n",
    "    # f = paste(base_dir,'benchmarks/',x$tool,'/',x$community,'-',x$threads,'threads.benchmark',sep='')\n",
    "    f = paste(base_dir,'benchmarks/',tool,'/',community,'-',threads,'threads.benchmark',sep='')\n",
    "    # print(f)\n",
    "    return(fread(f))\n",
    "}\n",
    "r2 = r1[, reed(tool,threads,community), by=list(tool,threads,community)]\n",
    "getwd()\n",
    "r2[1:3]"
   ]
  },
  {
   "cell_type": "code",
   "execution_count": 22,
   "metadata": {
    "vscode": {
     "languageId": "r"
    }
   },
   "outputs": [
    {
     "data": {
      "image/png": "[encoded data removed]",
      "text/plain": [
       "plot without title"
      ]
     },
     "metadata": {
      "image/png": {
       "height": 420,
       "width": 420
      }
     },
     "output_type": "display_data"
    }
   ],
   "source": [
    "qplot(data=r2, threads, s/60, geom='boxplot', fill=tool, ylab='Time (minutes)', main='Runtime on community of novel strains') + theme(axis.text.x = element_text(angle = 45, hjust = 1))"
   ]
  },
  {
   "cell_type": "code",
   "execution_count": 23,
   "metadata": {
    "vscode": {
     "languageId": "r"
    }
   },
   "outputs": [
    {
     "data": {
      "image/png": "[encoded data removed]",
      "text/plain": [
       "plot without title"
      ]
     },
     "metadata": {
      "image/png": {
       "height": 420,
       "width": 420
      }
     },
     "output_type": "display_data"
    }
   ],
   "source": [
    "r3 = r2[, .(mean_s = mean(s)), by=list(tool,threads)]\n",
    "# r3\n",
    "qplot(data=r3, as.numeric(threads), mean_s/60, geom='point', ylab='Time (minutes)', xlab='# threads', main='Runtime on community of novel strains', colour=tool)+geom_line()+scale_x_continuous(breaks=c(1,2,3), labels=c(1,8,32))"
   ]
  },
  {
   "cell_type": "code",
   "execution_count": 24,
   "metadata": {
    "vscode": {
     "languageId": "r"
    }
   },
   "outputs": [
    {
     "data": {
      "image/png": "[encoded data removed]",
      "text/plain": [
       "plot without title"
      ]
     },
     "metadata": {
      "image/png": {
       "height": 420,
       "width": 420
      }
     },
     "output_type": "display_data"
    }
   ],
   "source": [
    "# RAM\n",
    "r4 = r2[, .(mean_mem = mean(max_rss)), by=list(tool,threads)]\n",
    "qplot(data=r4, as.numeric(threads), mean_mem/1000, geom='point', ylab='Memory (GB)', xlab='# threads', main='Memory usage on community of novel strains', colour=tool)+geom_line()+scale_x_continuous(breaks=c(1,2,3), labels=c(1,8,32))"
   ]
  },
  {
   "cell_type": "code",
   "execution_count": 25,
   "metadata": {
    "vscode": {
     "languageId": "r"
    }
   },
   "outputs": [
    {
     "data": {
      "text/html": [
       "<table class=\"dataframe\">\n",
       "<caption>A data.table: 15 × 3</caption>\n",
       "<thead>\n",
       "\t<tr><th scope=col>tool</th><th scope=col>threads</th><th scope=col>mean_mem</th></tr>\n",
       "\t<tr><th scope=col>&lt;fct&gt;</th><th scope=col>&lt;fct&gt;</th><th scope=col>&lt;dbl&gt;</th></tr>\n",
       "</thead>\n",
       "<tbody>\n",
       "\t<tr><td>singlem  </td><td>1 </td><td>  1579.178</td></tr>\n",
       "\t<tr><td>metaphlan</td><td>1 </td><td> 17525.802</td></tr>\n",
       "\t<tr><td>motus    </td><td>1 </td><td>  9853.306</td></tr>\n",
       "\t<tr><td>kraken   </td><td>1 </td><td>295104.452</td></tr>\n",
       "\t<tr><td>sourmash </td><td>1 </td><td> 47996.189</td></tr>\n",
       "\t<tr><td>singlem  </td><td>8 </td><td>  2014.938</td></tr>\n",
       "\t<tr><td>metaphlan</td><td>8 </td><td> 17713.070</td></tr>\n",
       "\t<tr><td>motus    </td><td>8 </td><td> 10912.689</td></tr>\n",
       "\t<tr><td>kraken   </td><td>8 </td><td>295936.022</td></tr>\n",
       "\t<tr><td>sourmash </td><td>8 </td><td> 47815.083</td></tr>\n",
       "\t<tr><td>singlem  </td><td>32</td><td>  2916.039</td></tr>\n",
       "\t<tr><td>metaphlan</td><td>32</td><td> 18137.250</td></tr>\n",
       "\t<tr><td>motus    </td><td>32</td><td> 13932.975</td></tr>\n",
       "\t<tr><td>kraken   </td><td>32</td><td>297967.374</td></tr>\n",
       "\t<tr><td>sourmash </td><td>32</td><td> 47880.624</td></tr>\n",
       "</tbody>\n",
       "</table>\n"
      ],
      "text/latex": [
       "A data.table: 15 × 3\n",
       "\\begin{tabular}{lll}\n",
       " tool & threads & mean\\_mem\\\\\n",
       " <fct> & <fct> & <dbl>\\\\\n",
       "\\hline\n",
       "\t singlem   & 1  &   1579.178\\\\\n",
       "\t metaphlan & 1  &  17525.802\\\\\n",
       "\t motus     & 1  &   9853.306\\\\\n",
       "\t kraken    & 1  & 295104.452\\\\\n",
       "\t sourmash  & 1  &  47996.189\\\\\n",
       "\t singlem   & 8  &   2014.938\\\\\n",
       "\t metaphlan & 8  &  17713.070\\\\\n",
       "\t motus     & 8  &  10912.689\\\\\n",
       "\t kraken    & 8  & 295936.022\\\\\n",
       "\t sourmash  & 8  &  47815.083\\\\\n",
       "\t singlem   & 32 &   2916.039\\\\\n",
       "\t metaphlan & 32 &  18137.250\\\\\n",
       "\t motus     & 32 &  13932.975\\\\\n",
       "\t kraken    & 32 & 297967.374\\\\\n",
       "\t sourmash  & 32 &  47880.624\\\\\n",
       "\\end{tabular}\n"
      ],
      "text/markdown": [
       "\n",
       "A data.table: 15 × 3\n",
       "\n",
       "| tool &lt;fct&gt; | threads &lt;fct&gt; | mean_mem &lt;dbl&gt; |\n",
       "|---|---|---|\n",
       "| singlem   | 1  |   1579.178 |\n",
       "| metaphlan | 1  |  17525.802 |\n",
       "| motus     | 1  |   9853.306 |\n",
       "| kraken    | 1  | 295104.452 |\n",
       "| sourmash  | 1  |  47996.189 |\n",
       "| singlem   | 8  |   2014.938 |\n",
       "| metaphlan | 8  |  17713.070 |\n",
       "| motus     | 8  |  10912.689 |\n",
       "| kraken    | 8  | 295936.022 |\n",
       "| sourmash  | 8  |  47815.083 |\n",
       "| singlem   | 32 |   2916.039 |\n",
       "| metaphlan | 32 |  18137.250 |\n",
       "| motus     | 32 |  13932.975 |\n",
       "| kraken    | 32 | 297967.374 |\n",
       "| sourmash  | 32 |  47880.624 |\n",
       "\n"
      ],
      "text/plain": [
       "   tool      threads mean_mem  \n",
       "1  singlem   1         1579.178\n",
       "2  metaphlan 1        17525.802\n",
       "3  motus     1         9853.306\n",
       "4  kraken    1       295104.452\n",
       "5  sourmash  1        47996.189\n",
       "6  singlem   8         2014.938\n",
       "7  metaphlan 8        17713.070\n",
       "8  motus     8        10912.689\n",
       "9  kraken    8       295936.022\n",
       "10 sourmash  8        47815.083\n",
       "11 singlem   32        2916.039\n",
       "12 metaphlan 32       18137.250\n",
       "13 motus     32       13932.975\n",
       "14 kraken    32      297967.374\n",
       "15 sourmash  32       47880.624"
      ]
     },
     "metadata": {},
     "output_type": "display_data"
    }
   ],
   "source": [
    "r4"
   ]
  },
  {
   "cell_type": "code",
   "execution_count": 26,
   "metadata": {
    "vscode": {
     "languageId": "r"
    }
   },
   "outputs": [
    {
     "data": {
      "text/html": [
       "<table class=\"dataframe\">\n",
       "<caption>A data.table: 10 × 2</caption>\n",
       "<thead>\n",
       "\t<tr><th scope=col>community</th><th scope=col>V1</th></tr>\n",
       "\t<tr><th scope=col>&lt;chr&gt;</th><th scope=col>&lt;int&gt;</th></tr>\n",
       "</thead>\n",
       "<tbody>\n",
       "\t<tr><td>marine0</td><td>237109868</td></tr>\n",
       "\t<tr><td>marine1</td><td>        0</td></tr>\n",
       "\t<tr><td>marine2</td><td>        0</td></tr>\n",
       "\t<tr><td>marine3</td><td>        0</td></tr>\n",
       "\t<tr><td>marine4</td><td>        0</td></tr>\n",
       "\t<tr><td>marine5</td><td>        0</td></tr>\n",
       "\t<tr><td>marine6</td><td>        0</td></tr>\n",
       "\t<tr><td>marine7</td><td>        0</td></tr>\n",
       "\t<tr><td>marine8</td><td>        0</td></tr>\n",
       "\t<tr><td>marine9</td><td>        0</td></tr>\n",
       "</tbody>\n",
       "</table>\n"
      ],
      "text/latex": [
       "A data.table: 10 × 2\n",
       "\\begin{tabular}{ll}\n",
       " community & V1\\\\\n",
       " <chr> & <int>\\\\\n",
       "\\hline\n",
       "\t marine0 & 237109868\\\\\n",
       "\t marine1 &         0\\\\\n",
       "\t marine2 &         0\\\\\n",
       "\t marine3 &         0\\\\\n",
       "\t marine4 &         0\\\\\n",
       "\t marine5 &         0\\\\\n",
       "\t marine6 &         0\\\\\n",
       "\t marine7 &         0\\\\\n",
       "\t marine8 &         0\\\\\n",
       "\t marine9 &         0\\\\\n",
       "\\end{tabular}\n"
      ],
      "text/markdown": [
       "\n",
       "A data.table: 10 × 2\n",
       "\n",
       "| community &lt;chr&gt; | V1 &lt;int&gt; |\n",
       "|---|---|\n",
       "| marine0 | 237109868 |\n",
       "| marine1 |         0 |\n",
       "| marine2 |         0 |\n",
       "| marine3 |         0 |\n",
       "| marine4 |         0 |\n",
       "| marine5 |         0 |\n",
       "| marine6 |         0 |\n",
       "| marine7 |         0 |\n",
       "| marine8 |         0 |\n",
       "| marine9 |         0 |\n",
       "\n"
      ],
      "text/plain": [
       "   community V1       \n",
       "1  marine0   237109868\n",
       "2  marine1           0\n",
       "3  marine2           0\n",
       "4  marine3           0\n",
       "5  marine4           0\n",
       "6  marine5           0\n",
       "7  marine6           0\n",
       "8  marine7           0\n",
       "9  marine8           0\n",
       "10 marine9           0"
      ]
     },
     "metadata": {},
     "output_type": "display_data"
    }
   ],
   "source": [
    "# Reads per minute\n",
    "read_counts = data.table(community=communities)\n",
    "read_counts2 = read_counts[, fread(cmd=paste('zcat local_reads/',community,'.1.fq.gz | wc -l',sep='')), by=community]\n",
    "read_counts2"
   ]
  },
  {
   "cell_type": "code",
   "execution_count": 27,
   "metadata": {
    "vscode": {
     "languageId": "r"
    }
   },
   "outputs": [
    {
     "data": {
      "text/html": [
       "<table class=\"dataframe\">\n",
       "<caption>A data.table: 50 × 15</caption>\n",
       "<thead>\n",
       "\t<tr><th scope=col>community</th><th scope=col>tool</th><th scope=col>threads</th><th scope=col>s</th><th scope=col>h:m:s</th><th scope=col>max_rss</th><th scope=col>max_vms</th><th scope=col>max_uss</th><th scope=col>max_pss</th><th scope=col>io_in</th><th scope=col>io_out</th><th scope=col>mean_load</th><th scope=col>cpu_time</th><th scope=col>V1</th><th scope=col>rpm</th></tr>\n",
       "\t<tr><th scope=col>&lt;chr&gt;</th><th scope=col>&lt;fct&gt;</th><th scope=col>&lt;fct&gt;</th><th scope=col>&lt;dbl&gt;</th><th scope=col>&lt;chr&gt;</th><th scope=col>&lt;dbl&gt;</th><th scope=col>&lt;dbl&gt;</th><th scope=col>&lt;dbl&gt;</th><th scope=col>&lt;dbl&gt;</th><th scope=col>&lt;dbl&gt;</th><th scope=col>&lt;dbl&gt;</th><th scope=col>&lt;dbl&gt;</th><th scope=col>&lt;dbl&gt;</th><th scope=col>&lt;int&gt;</th><th scope=col>&lt;dbl&gt;</th></tr>\n",
       "</thead>\n",
       "<tbody>\n",
       "\t<tr><td>marine0</td><td>singlem  </td><td>1</td><td> 5536.106</td><td>1:32:16</td><td>  1612.55</td><td>  3158.88</td><td>  1587.71</td><td>  1591.02</td><td>   64.15</td><td>1495.66</td><td> 83.78</td><td> 346.71</td><td>237109868</td><td>1284891.7</td></tr>\n",
       "\t<tr><td>marine0</td><td>metaphlan</td><td>1</td><td>24349.448</td><td>6:45:49</td><td> 17523.12</td><td> 18052.73</td><td> 17485.55</td><td> 17499.47</td><td>    7.82</td><td>9705.83</td><td>106.70</td><td>  94.03</td><td>237109868</td><td> 292133.8</td></tr>\n",
       "\t<tr><td>marine0</td><td>motus    </td><td>1</td><td>26097.818</td><td>7:14:57</td><td> 10893.61</td><td> 11030.97</td><td> 10886.74</td><td> 10887.10</td><td>    0.00</td><td>   0.01</td><td>101.56</td><td> 406.26</td><td>237109868</td><td> 272562.9</td></tr>\n",
       "\t<tr><td>marine0</td><td>kraken   </td><td>1</td><td> 2215.115</td><td>0:36:55</td><td>295166.14</td><td>295200.25</td><td>295161.32</td><td>295161.85</td><td> 6035.12</td><td>   0.00</td><td>100.86</td><td>2234.52</td><td>237109868</td><td>3211253.6</td></tr>\n",
       "\t<tr><td>marine0</td><td>sourmash </td><td>1</td><td> 7617.124</td><td>2:06:57</td><td> 49766.79</td><td> 49875.14</td><td> 47998.55</td><td> 48876.79</td><td>   61.38</td><td> 163.79</td><td> 99.38</td><td>5400.24</td><td>237109868</td><td> 933855.8</td></tr>\n",
       "\t<tr><td>marine1</td><td>singlem  </td><td>1</td><td> 4180.836</td><td>1:09:40</td><td>  1577.89</td><td>  3000.46</td><td>  1552.90</td><td>  1557.52</td><td>   85.96</td><td>1097.00</td><td> 80.76</td><td> 253.13</td><td>        0</td><td>      0.0</td></tr>\n",
       "\t<tr><td>marine1</td><td>metaphlan</td><td>1</td><td>19491.419</td><td>5:24:51</td><td> 17510.25</td><td> 18052.73</td><td> 17439.26</td><td> 17446.44</td><td>    0.00</td><td>7266.23</td><td>106.21</td><td>  83.60</td><td>        0</td><td>      0.0</td></tr>\n",
       "\t<tr><td>marine1</td><td>motus    </td><td>1</td><td>19995.391</td><td>5:33:15</td><td>  9690.75</td><td>  9827.16</td><td>  9677.29</td><td>  9678.12</td><td>    0.00</td><td>   0.01</td><td>101.40</td><td> 315.39</td><td>        0</td><td>      0.0</td></tr>\n",
       "\t<tr><td>marine1</td><td>kraken   </td><td>1</td><td> 1557.388</td><td>0:25:57</td><td>295092.12</td><td>295126.74</td><td>295088.73</td><td>295089.21</td><td>65286.83</td><td>   0.00</td><td>101.33</td><td>1578.52</td><td>        0</td><td>      0.0</td></tr>\n",
       "\t<tr><td>marine1</td><td>sourmash </td><td>1</td><td> 6937.984</td><td>1:55:37</td><td> 46619.60</td><td> 46717.93</td><td> 44852.42</td><td> 45291.96</td><td>    2.85</td><td> 146.96</td><td> 99.12</td><td>5278.40</td><td>        0</td><td>      0.0</td></tr>\n",
       "\t<tr><td>marine2</td><td>singlem  </td><td>1</td><td> 4773.781</td><td>1:19:33</td><td>  1575.66</td><td>  3027.30</td><td>  1535.36</td><td>  1539.21</td><td>   64.31</td><td>1270.66</td><td> 82.71</td><td> 310.90</td><td>        0</td><td>      0.0</td></tr>\n",
       "\t<tr><td>marine2</td><td>metaphlan</td><td>1</td><td>23708.516</td><td>6:35:08</td><td> 17534.92</td><td> 18076.73</td><td> 17466.16</td><td> 17489.14</td><td>    0.00</td><td>8136.69</td><td>106.07</td><td>  76.41</td><td>        0</td><td>      0.0</td></tr>\n",
       "\t<tr><td>marine2</td><td>motus    </td><td>1</td><td>24815.764</td><td>6:53:35</td><td> 10295.04</td><td> 10445.59</td><td> 10281.78</td><td> 10285.16</td><td>    0.00</td><td>   0.01</td><td>101.29</td><td> 360.84</td><td>        0</td><td>      0.0</td></tr>\n",
       "\t<tr><td>marine2</td><td>kraken   </td><td>1</td><td> 1933.782</td><td>0:32:13</td><td>295182.16</td><td>295215.68</td><td>295178.14</td><td>295178.72</td><td>48569.02</td><td>   0.00</td><td>100.82</td><td>1949.97</td><td>        0</td><td>      0.0</td></tr>\n",
       "\t<tr><td>marine2</td><td>sourmash </td><td>1</td><td> 7064.168</td><td>1:57:44</td><td> 46055.32</td><td> 46148.81</td><td> 44293.91</td><td> 44879.32</td><td>    8.87</td><td> 151.81</td><td> 99.04</td><td>5147.07</td><td>        0</td><td>      0.0</td></tr>\n",
       "\t<tr><td>marine3</td><td>singlem  </td><td>1</td><td> 4701.105</td><td>1:18:21</td><td>  1593.25</td><td>  3156.69</td><td>  1567.19</td><td>  1572.14</td><td>   85.88</td><td>1080.43</td><td> 82.28</td><td> 290.87</td><td>        0</td><td>      0.0</td></tr>\n",
       "\t<tr><td>marine3</td><td>metaphlan</td><td>1</td><td>23092.789</td><td>6:24:52</td><td> 17509.99</td><td> 18052.73</td><td> 17439.22</td><td> 17455.13</td><td>    0.00</td><td>8135.93</td><td>106.08</td><td>  75.11</td><td>        0</td><td>      0.0</td></tr>\n",
       "\t<tr><td>marine3</td><td>motus    </td><td>1</td><td>23514.178</td><td>6:31:54</td><td> 10175.93</td><td> 10306.42</td><td> 10162.61</td><td> 10164.93</td><td>    0.63</td><td>   2.16</td><td>101.56</td><td> 384.82</td><td>        0</td><td>      0.0</td></tr>\n",
       "\t<tr><td>marine3</td><td>kraken   </td><td>1</td><td> 2200.262</td><td>0:36:40</td><td>295237.26</td><td>295273.51</td><td>295232.09</td><td>295232.55</td><td>93973.57</td><td>   0.00</td><td> 97.84</td><td>2153.10</td><td>        0</td><td>      0.0</td></tr>\n",
       "\t<tr><td>marine3</td><td>sourmash </td><td>1</td><td> 8489.810</td><td>2:21:29</td><td> 65982.52</td><td> 66087.39</td><td> 65971.82</td><td> 65971.91</td><td>  752.53</td><td> 169.72</td><td> 99.26</td><td>6612.14</td><td>        0</td><td>      0.0</td></tr>\n",
       "\t<tr><td>marine4</td><td>singlem  </td><td>1</td><td> 4037.655</td><td>1:07:17</td><td>  1565.39</td><td>  3029.07</td><td>  1526.86</td><td>  1529.88</td><td>   58.27</td><td> 923.75</td><td> 81.86</td><td> 238.87</td><td>        0</td><td>      0.0</td></tr>\n",
       "\t<tr><td>marine4</td><td>metaphlan</td><td>1</td><td>19330.653</td><td>5:22:10</td><td> 17511.53</td><td> 18052.73</td><td> 17440.94</td><td> 17453.04</td><td>    0.00</td><td>6909.02</td><td>106.24</td><td>  77.34</td><td>        0</td><td>      0.0</td></tr>\n",
       "\t<tr><td>marine4</td><td>motus    </td><td>1</td><td>19956.325</td><td>5:32:36</td><td>  9581.36</td><td>  9722.63</td><td>  9567.79</td><td>  9568.62</td><td>    0.01</td><td>   2.16</td><td>101.49</td><td> 327.58</td><td>        0</td><td>      0.0</td></tr>\n",
       "\t<tr><td>marine4</td><td>kraken   </td><td>1</td><td> 1594.332</td><td>0:26:34</td><td>295028.69</td><td>295069.68</td><td>295024.84</td><td>295025.22</td><td>65806.34</td><td>   0.00</td><td> 98.42</td><td>1569.51</td><td>        0</td><td>      0.0</td></tr>\n",
       "\t<tr><td>marine4</td><td>sourmash </td><td>1</td><td> 6312.876</td><td>1:45:12</td><td> 39920.58</td><td> 40024.54</td><td> 38154.12</td><td> 38349.59</td><td>    9.02</td><td> 137.43</td><td> 99.02</td><td>4701.86</td><td>        0</td><td>      0.0</td></tr>\n",
       "\t<tr><td>marine5</td><td>singlem  </td><td>1</td><td> 3863.665</td><td>1:04:23</td><td>  1577.42</td><td>  3008.48</td><td>  1548.57</td><td>  1551.80</td><td> 2490.05</td><td> 958.25</td><td> 80.90</td><td> 236.44</td><td>        0</td><td>      0.0</td></tr>\n",
       "\t<tr><td>marine5</td><td>metaphlan</td><td>1</td><td>18977.247</td><td>5:16:17</td><td> 17533.98</td><td> 18076.73</td><td> 17463.20</td><td> 17469.79</td><td>    0.00</td><td>6670.13</td><td>106.02</td><td>  72.65</td><td>        0</td><td>      0.0</td></tr>\n",
       "\t<tr><td>marine5</td><td>motus    </td><td>1</td><td>17972.890</td><td>4:59:32</td><td>  9294.82</td><td>  9456.22</td><td>  9281.19</td><td>  9281.93</td><td> 3553.74</td><td>   2.16</td><td>101.52</td><td> 298.63</td><td>        0</td><td>      0.0</td></tr>\n",
       "\t<tr><td>marine5</td><td>kraken   </td><td>1</td><td> 1650.436</td><td>0:27:30</td><td>294987.74</td><td>295027.25</td><td>294984.98</td><td>294985.34</td><td>63537.14</td><td>   0.00</td><td> 99.38</td><td>1640.34</td><td>        0</td><td>      0.0</td></tr>\n",
       "\t<tr><td>marine5</td><td>sourmash </td><td>1</td><td> 6847.447</td><td>1:54:07</td><td> 46922.29</td><td> 47028.58</td><td> 45155.13</td><td> 45447.98</td><td>   14.36</td><td> 140.93</td><td> 99.24</td><td>5319.81</td><td>        0</td><td>      0.0</td></tr>\n",
       "\t<tr><td>marine6</td><td>singlem  </td><td>1</td><td> 4172.069</td><td>1:09:32</td><td>  1553.78</td><td>  3193.18</td><td>  1528.64</td><td>  1533.13</td><td>   86.00</td><td>1103.91</td><td> 81.55</td><td> 275.00</td><td>        0</td><td>      0.0</td></tr>\n",
       "\t<tr><td>marine6</td><td>metaphlan</td><td>1</td><td>20062.817</td><td>5:34:22</td><td> 17542.72</td><td> 18076.73</td><td> 17472.47</td><td> 17484.51</td><td>    0.00</td><td>7187.17</td><td>106.14</td><td>  94.31</td><td>        0</td><td>      0.0</td></tr>\n",
       "\t<tr><td>marine6</td><td>motus    </td><td>1</td><td>21893.707</td><td>6:04:53</td><td>  9524.36</td><td>  9657.05</td><td>  9510.98</td><td>  9512.48</td><td>    0.00</td><td>   2.16</td><td>101.37</td><td> 313.79</td><td>        0</td><td>      0.0</td></tr>\n",
       "\t<tr><td>marine6</td><td>kraken   </td><td>1</td><td> 1619.426</td><td>0:26:59</td><td>295046.12</td><td>295081.32</td><td>295044.30</td><td>295044.73</td><td>70560.25</td><td>   0.00</td><td>100.52</td><td>1628.11</td><td>        0</td><td>      0.0</td></tr>\n",
       "\t<tr><td>marine6</td><td>sourmash </td><td>1</td><td> 5809.935</td><td>1:36:49</td><td> 50117.71</td><td> 50209.00</td><td> 48355.25</td><td> 48531.25</td><td>    2.51</td><td> 147.11</td><td> 99.21</td><td>4161.93</td><td>        0</td><td>      0.0</td></tr>\n",
       "\t<tr><td>marine7</td><td>singlem  </td><td>1</td><td> 4396.251</td><td>1:13:16</td><td>  1566.19</td><td>  2971.04</td><td>  1528.40</td><td>  1531.83</td><td>   38.01</td><td>1013.15</td><td> 82.37</td><td> 256.15</td><td>        0</td><td>      0.0</td></tr>\n",
       "\t<tr><td>marine7</td><td>metaphlan</td><td>1</td><td>20937.281</td><td>5:48:57</td><td> 17510.27</td><td> 18052.73</td><td> 17441.26</td><td> 17463.92</td><td>10479.28</td><td>7807.24</td><td>106.33</td><td>  97.77</td><td>        0</td><td>      0.0</td></tr>\n",
       "\t<tr><td>marine7</td><td>motus    </td><td>1</td><td>21982.878</td><td>6:06:22</td><td> 10122.83</td><td> 10272.19</td><td> 10109.45</td><td> 10110.90</td><td>    0.00</td><td>   0.01</td><td>101.57</td><td> 386.49</td><td>        0</td><td>      0.0</td></tr>\n",
       "\t<tr><td>marine7</td><td>kraken   </td><td>1</td><td> 1762.558</td><td>0:29:22</td><td>295129.78</td><td>295162.89</td><td>295124.80</td><td>295125.31</td><td>97604.13</td><td>   0.00</td><td>101.76</td><td>1793.60</td><td>        0</td><td>      0.0</td></tr>\n",
       "\t<tr><td>marine7</td><td>sourmash </td><td>1</td><td> 6899.367</td><td>1:54:59</td><td> 43452.24</td><td> 43545.11</td><td> 41690.49</td><td> 42041.99</td><td>    6.09</td><td> 144.79</td><td> 99.35</td><td>5120.17</td><td>        0</td><td>      0.0</td></tr>\n",
       "\t<tr><td>marine8</td><td>singlem  </td><td>1</td><td> 4240.423</td><td>1:10:40</td><td>  1609.73</td><td>  3151.81</td><td>  1585.04</td><td>  1587.61</td><td>  108.60</td><td>1222.36</td><td> 80.52</td><td> 339.91</td><td>        0</td><td>      0.0</td></tr>\n",
       "\t<tr><td>marine8</td><td>metaphlan</td><td>1</td><td>20423.990</td><td>5:40:23</td><td> 17534.00</td><td> 18076.74</td><td> 17463.27</td><td> 17475.56</td><td>    1.62</td><td>6874.25</td><td>105.78</td><td>  81.25</td><td>        0</td><td>      0.0</td></tr>\n",
       "\t<tr><td>marine8</td><td>motus    </td><td>1</td><td>20554.007</td><td>5:42:34</td><td>  9676.52</td><td>  9826.89</td><td>  9662.87</td><td>  9664.08</td><td>    0.00</td><td>   2.16</td><td>101.30</td><td> 349.90</td><td>        0</td><td>      0.0</td></tr>\n",
       "\t<tr><td>marine8</td><td>kraken   </td><td>1</td><td> 1645.437</td><td>0:27:25</td><td>295135.18</td><td>295170.97</td><td>295129.96</td><td>295130.38</td><td>77039.40</td><td>   0.00</td><td> 98.04</td><td>1613.18</td><td>        0</td><td>      0.0</td></tr>\n",
       "\t<tr><td>marine8</td><td>sourmash </td><td>1</td><td> 6423.582</td><td>1:47:03</td><td> 52987.77</td><td> 53082.11</td><td> 51225.84</td><td> 51476.87</td><td>  423.16</td><td> 150.83</td><td> 99.12</td><td>4834.85</td><td>        0</td><td>      0.0</td></tr>\n",
       "\t<tr><td>marine9</td><td>singlem  </td><td>1</td><td> 3880.609</td><td>1:04:40</td><td>  1559.92</td><td>  2996.28</td><td>  1528.21</td><td>  1531.45</td><td>   39.94</td><td>1049.05</td><td> 81.37</td><td> 212.09</td><td>        0</td><td>      0.0</td></tr>\n",
       "\t<tr><td>marine9</td><td>metaphlan</td><td>1</td><td>16480.840</td><td>4:34:40</td><td> 17547.24</td><td> 18076.73</td><td> 17509.85</td><td> 17523.05</td><td> 3610.42</td><td>6652.76</td><td>106.67</td><td>  87.89</td><td>        0</td><td>      0.0</td></tr>\n",
       "\t<tr><td>marine9</td><td>motus    </td><td>1</td><td>19890.263</td><td>5:31:30</td><td>  9277.84</td><td>  9427.69</td><td>  9264.55</td><td>  9265.39</td><td>    0.00</td><td>   2.16</td><td>101.40</td><td> 300.33</td><td>        0</td><td>      0.0</td></tr>\n",
       "\t<tr><td>marine9</td><td>kraken   </td><td>1</td><td> 1604.734</td><td>0:26:44</td><td>295039.33</td><td>295075.23</td><td>295034.90</td><td>295035.23</td><td>17742.11</td><td>   0.00</td><td> 98.51</td><td>1580.89</td><td>        0</td><td>      0.0</td></tr>\n",
       "\t<tr><td>marine9</td><td>sourmash </td><td>1</td><td> 6362.587</td><td>1:46:02</td><td> 38137.07</td><td> 38230.16</td><td> 36370.65</td><td> 36590.38</td><td>  229.33</td><td> 134.00</td><td> 99.19</td><td>4823.99</td><td>        0</td><td>      0.0</td></tr>\n",
       "</tbody>\n",
       "</table>\n"
      ],
      "text/latex": [
       "A data.table: 50 × 15\n",
       "\\begin{tabular}{lllllllllllllll}\n",
       " community & tool & threads & s & h:m:s & max\\_rss & max\\_vms & max\\_uss & max\\_pss & io\\_in & io\\_out & mean\\_load & cpu\\_time & V1 & rpm\\\\\n",
       " <chr> & <fct> & <fct> & <dbl> & <chr> & <dbl> & <dbl> & <dbl> & <dbl> & <dbl> & <dbl> & <dbl> & <dbl> & <int> & <dbl>\\\\\n",
       "\\hline\n",
       "\t marine0 & singlem   & 1 &  5536.106 & 1:32:16 &   1612.55 &   3158.88 &   1587.71 &   1591.02 &    64.15 & 1495.66 &  83.78 &  346.71 & 237109868 & 1284891.7\\\\\n",
       "\t marine0 & metaphlan & 1 & 24349.448 & 6:45:49 &  17523.12 &  18052.73 &  17485.55 &  17499.47 &     7.82 & 9705.83 & 106.70 &   94.03 & 237109868 &  292133.8\\\\\n",
       "\t marine0 & motus     & 1 & 26097.818 & 7:14:57 &  10893.61 &  11030.97 &  10886.74 &  10887.10 &     0.00 &    0.01 & 101.56 &  406.26 & 237109868 &  272562.9\\\\\n",
       "\t marine0 & kraken    & 1 &  2215.115 & 0:36:55 & 295166.14 & 295200.25 & 295161.32 & 295161.85 &  6035.12 &    0.00 & 100.86 & 2234.52 & 237109868 & 3211253.6\\\\\n",
       "\t marine0 & sourmash  & 1 &  7617.124 & 2:06:57 &  49766.79 &  49875.14 &  47998.55 &  48876.79 &    61.38 &  163.79 &  99.38 & 5400.24 & 237109868 &  933855.8\\\\\n",
       "\t marine1 & singlem   & 1 &  4180.836 & 1:09:40 &   1577.89 &   3000.46 &   1552.90 &   1557.52 &    85.96 & 1097.00 &  80.76 &  253.13 &         0 &       0.0\\\\\n",
       "\t marine1 & metaphlan & 1 & 19491.419 & 5:24:51 &  17510.25 &  18052.73 &  17439.26 &  17446.44 &     0.00 & 7266.23 & 106.21 &   83.60 &         0 &       0.0\\\\\n",
       "\t marine1 & motus     & 1 & 19995.391 & 5:33:15 &   9690.75 &   9827.16 &   9677.29 &   9678.12 &     0.00 &    0.01 & 101.40 &  315.39 &         0 &       0.0\\\\\n",
       "\t marine1 & kraken    & 1 &  1557.388 & 0:25:57 & 295092.12 & 295126.74 & 295088.73 & 295089.21 & 65286.83 &    0.00 & 101.33 & 1578.52 &         0 &       0.0\\\\\n",
       "\t marine1 & sourmash  & 1 &  6937.984 & 1:55:37 &  46619.60 &  46717.93 &  44852.42 &  45291.96 &     2.85 &  146.96 &  99.12 & 5278.40 &         0 &       0.0\\\\\n",
       "\t marine2 & singlem   & 1 &  4773.781 & 1:19:33 &   1575.66 &   3027.30 &   1535.36 &   1539.21 &    64.31 & 1270.66 &  82.71 &  310.90 &         0 &       0.0\\\\\n",
       "\t marine2 & metaphlan & 1 & 23708.516 & 6:35:08 &  17534.92 &  18076.73 &  17466.16 &  17489.14 &     0.00 & 8136.69 & 106.07 &   76.41 &         0 &       0.0\\\\\n",
       "\t marine2 & motus     & 1 & 24815.764 & 6:53:35 &  10295.04 &  10445.59 &  10281.78 &  10285.16 &     0.00 &    0.01 & 101.29 &  360.84 &         0 &       0.0\\\\\n",
       "\t marine2 & kraken    & 1 &  1933.782 & 0:32:13 & 295182.16 & 295215.68 & 295178.14 & 295178.72 & 48569.02 &    0.00 & 100.82 & 1949.97 &         0 &       0.0\\\\\n",
       "\t marine2 & sourmash  & 1 &  7064.168 & 1:57:44 &  46055.32 &  46148.81 &  44293.91 &  44879.32 &     8.87 &  151.81 &  99.04 & 5147.07 &         0 &       0.0\\\\\n",
       "\t marine3 & singlem   & 1 &  4701.105 & 1:18:21 &   1593.25 &   3156.69 &   1567.19 &   1572.14 &    85.88 & 1080.43 &  82.28 &  290.87 &         0 &       0.0\\\\\n",
       "\t marine3 & metaphlan & 1 & 23092.789 & 6:24:52 &  17509.99 &  18052.73 &  17439.22 &  17455.13 &     0.00 & 8135.93 & 106.08 &   75.11 &         0 &       0.0\\\\\n",
       "\t marine3 & motus     & 1 & 23514.178 & 6:31:54 &  10175.93 &  10306.42 &  10162.61 &  10164.93 &     0.63 &    2.16 & 101.56 &  384.82 &         0 &       0.0\\\\\n",
       "\t marine3 & kraken    & 1 &  2200.262 & 0:36:40 & 295237.26 & 295273.51 & 295232.09 & 295232.55 & 93973.57 &    0.00 &  97.84 & 2153.10 &         0 &       0.0\\\\\n",
       "\t marine3 & sourmash  & 1 &  8489.810 & 2:21:29 &  65982.52 &  66087.39 &  65971.82 &  65971.91 &   752.53 &  169.72 &  99.26 & 6612.14 &         0 &       0.0\\\\\n",
       "\t marine4 & singlem   & 1 &  4037.655 & 1:07:17 &   1565.39 &   3029.07 &   1526.86 &   1529.88 &    58.27 &  923.75 &  81.86 &  238.87 &         0 &       0.0\\\\\n",
       "\t marine4 & metaphlan & 1 & 19330.653 & 5:22:10 &  17511.53 &  18052.73 &  17440.94 &  17453.04 &     0.00 & 6909.02 & 106.24 &   77.34 &         0 &       0.0\\\\\n",
       "\t marine4 & motus     & 1 & 19956.325 & 5:32:36 &   9581.36 &   9722.63 &   9567.79 &   9568.62 &     0.01 &    2.16 & 101.49 &  327.58 &         0 &       0.0\\\\\n",
       "\t marine4 & kraken    & 1 &  1594.332 & 0:26:34 & 295028.69 & 295069.68 & 295024.84 & 295025.22 & 65806.34 &    0.00 &  98.42 & 1569.51 &         0 &       0.0\\\\\n",
       "\t marine4 & sourmash  & 1 &  6312.876 & 1:45:12 &  39920.58 &  40024.54 &  38154.12 &  38349.59 &     9.02 &  137.43 &  99.02 & 4701.86 &         0 &       0.0\\\\\n",
       "\t marine5 & singlem   & 1 &  3863.665 & 1:04:23 &   1577.42 &   3008.48 &   1548.57 &   1551.80 &  2490.05 &  958.25 &  80.90 &  236.44 &         0 &       0.0\\\\\n",
       "\t marine5 & metaphlan & 1 & 18977.247 & 5:16:17 &  17533.98 &  18076.73 &  17463.20 &  17469.79 &     0.00 & 6670.13 & 106.02 &   72.65 &         0 &       0.0\\\\\n",
       "\t marine5 & motus     & 1 & 17972.890 & 4:59:32 &   9294.82 &   9456.22 &   9281.19 &   9281.93 &  3553.74 &    2.16 & 101.52 &  298.63 &         0 &       0.0\\\\\n",
       "\t marine5 & kraken    & 1 &  1650.436 & 0:27:30 & 294987.74 & 295027.25 & 294984.98 & 294985.34 & 63537.14 &    0.00 &  99.38 & 1640.34 &         0 &       0.0\\\\\n",
       "\t marine5 & sourmash  & 1 &  6847.447 & 1:54:07 &  46922.29 &  47028.58 &  45155.13 &  45447.98 &    14.36 &  140.93 &  99.24 & 5319.81 &         0 &       0.0\\\\\n",
       "\t marine6 & singlem   & 1 &  4172.069 & 1:09:32 &   1553.78 &   3193.18 &   1528.64 &   1533.13 &    86.00 & 1103.91 &  81.55 &  275.00 &         0 &       0.0\\\\\n",
       "\t marine6 & metaphlan & 1 & 20062.817 & 5:34:22 &  17542.72 &  18076.73 &  17472.47 &  17484.51 &     0.00 & 7187.17 & 106.14 &   94.31 &         0 &       0.0\\\\\n",
       "\t marine6 & motus     & 1 & 21893.707 & 6:04:53 &   9524.36 &   9657.05 &   9510.98 &   9512.48 &     0.00 &    2.16 & 101.37 &  313.79 &         0 &       0.0\\\\\n",
       "\t marine6 & kraken    & 1 &  1619.426 & 0:26:59 & 295046.12 & 295081.32 & 295044.30 & 295044.73 & 70560.25 &    0.00 & 100.52 & 1628.11 &         0 &       0.0\\\\\n",
       "\t marine6 & sourmash  & 1 &  5809.935 & 1:36:49 &  50117.71 &  50209.00 &  48355.25 &  48531.25 &     2.51 &  147.11 &  99.21 & 4161.93 &         0 &       0.0\\\\\n",
       "\t marine7 & singlem   & 1 &  4396.251 & 1:13:16 &   1566.19 &   2971.04 &   1528.40 &   1531.83 &    38.01 & 1013.15 &  82.37 &  256.15 &         0 &       0.0\\\\\n",
       "\t marine7 & metaphlan & 1 & 20937.281 & 5:48:57 &  17510.27 &  18052.73 &  17441.26 &  17463.92 & 10479.28 & 7807.24 & 106.33 &   97.77 &         0 &       0.0\\\\\n",
       "\t marine7 & motus     & 1 & 21982.878 & 6:06:22 &  10122.83 &  10272.19 &  10109.45 &  10110.90 &     0.00 &    0.01 & 101.57 &  386.49 &         0 &       0.0\\\\\n",
       "\t marine7 & kraken    & 1 &  1762.558 & 0:29:22 & 295129.78 & 295162.89 & 295124.80 & 295125.31 & 97604.13 &    0.00 & 101.76 & 1793.60 &         0 &       0.0\\\\\n",
       "\t marine7 & sourmash  & 1 &  6899.367 & 1:54:59 &  43452.24 &  43545.11 &  41690.49 &  42041.99 &     6.09 &  144.79 &  99.35 & 5120.17 &         0 &       0.0\\\\\n",
       "\t marine8 & singlem   & 1 &  4240.423 & 1:10:40 &   1609.73 &   3151.81 &   1585.04 &   1587.61 &   108.60 & 1222.36 &  80.52 &  339.91 &         0 &       0.0\\\\\n",
       "\t marine8 & metaphlan & 1 & 20423.990 & 5:40:23 &  17534.00 &  18076.74 &  17463.27 &  17475.56 &     1.62 & 6874.25 & 105.78 &   81.25 &         0 &       0.0\\\\\n",
       "\t marine8 & motus     & 1 & 20554.007 & 5:42:34 &   9676.52 &   9826.89 &   9662.87 &   9664.08 &     0.00 &    2.16 & 101.30 &  349.90 &         0 &       0.0\\\\\n",
       "\t marine8 & kraken    & 1 &  1645.437 & 0:27:25 & 295135.18 & 295170.97 & 295129.96 & 295130.38 & 77039.40 &    0.00 &  98.04 & 1613.18 &         0 &       0.0\\\\\n",
       "\t marine8 & sourmash  & 1 &  6423.582 & 1:47:03 &  52987.77 &  53082.11 &  51225.84 &  51476.87 &   423.16 &  150.83 &  99.12 & 4834.85 &         0 &       0.0\\\\\n",
       "\t marine9 & singlem   & 1 &  3880.609 & 1:04:40 &   1559.92 &   2996.28 &   1528.21 &   1531.45 &    39.94 & 1049.05 &  81.37 &  212.09 &         0 &       0.0\\\\\n",
       "\t marine9 & metaphlan & 1 & 16480.840 & 4:34:40 &  17547.24 &  18076.73 &  17509.85 &  17523.05 &  3610.42 & 6652.76 & 106.67 &   87.89 &         0 &       0.0\\\\\n",
       "\t marine9 & motus     & 1 & 19890.263 & 5:31:30 &   9277.84 &   9427.69 &   9264.55 &   9265.39 &     0.00 &    2.16 & 101.40 &  300.33 &         0 &       0.0\\\\\n",
       "\t marine9 & kraken    & 1 &  1604.734 & 0:26:44 & 295039.33 & 295075.23 & 295034.90 & 295035.23 & 17742.11 &    0.00 &  98.51 & 1580.89 &         0 &       0.0\\\\\n",
       "\t marine9 & sourmash  & 1 &  6362.587 & 1:46:02 &  38137.07 &  38230.16 &  36370.65 &  36590.38 &   229.33 &  134.00 &  99.19 & 4823.99 &         0 &       0.0\\\\\n",
       "\\end{tabular}\n"
      ],
      "text/markdown": [
       "\n",
       "A data.table: 50 × 15\n",
       "\n",
       "| community &lt;chr&gt; | tool &lt;fct&gt; | threads &lt;fct&gt; | s &lt;dbl&gt; | h:m:s &lt;chr&gt; | max_rss &lt;dbl&gt; | max_vms &lt;dbl&gt; | max_uss &lt;dbl&gt; | max_pss &lt;dbl&gt; | io_in &lt;dbl&gt; | io_out &lt;dbl&gt; | mean_load &lt;dbl&gt; | cpu_time &lt;dbl&gt; | V1 &lt;int&gt; | rpm &lt;dbl&gt; |\n",
       "|---|---|---|---|---|---|---|---|---|---|---|---|---|---|---|\n",
       "| marine0 | singlem   | 1 |  5536.106 | 1:32:16 |   1612.55 |   3158.88 |   1587.71 |   1591.02 |    64.15 | 1495.66 |  83.78 |  346.71 | 237109868 | 1284891.7 |\n",
       "| marine0 | metaphlan | 1 | 24349.448 | 6:45:49 |  17523.12 |  18052.73 |  17485.55 |  17499.47 |     7.82 | 9705.83 | 106.70 |   94.03 | 237109868 |  292133.8 |\n",
       "| marine0 | motus     | 1 | 26097.818 | 7:14:57 |  10893.61 |  11030.97 |  10886.74 |  10887.10 |     0.00 |    0.01 | 101.56 |  406.26 | 237109868 |  272562.9 |\n",
       "| marine0 | kraken    | 1 |  2215.115 | 0:36:55 | 295166.14 | 295200.25 | 295161.32 | 295161.85 |  6035.12 |    0.00 | 100.86 | 2234.52 | 237109868 | 3211253.6 |\n",
       "| marine0 | sourmash  | 1 |  7617.124 | 2:06:57 |  49766.79 |  49875.14 |  47998.55 |  48876.79 |    61.38 |  163.79 |  99.38 | 5400.24 | 237109868 |  933855.8 |\n",
       "| marine1 | singlem   | 1 |  4180.836 | 1:09:40 |   1577.89 |   3000.46 |   1552.90 |   1557.52 |    85.96 | 1097.00 |  80.76 |  253.13 |         0 |       0.0 |\n",
       "| marine1 | metaphlan | 1 | 19491.419 | 5:24:51 |  17510.25 |  18052.73 |  17439.26 |  17446.44 |     0.00 | 7266.23 | 106.21 |   83.60 |         0 |       0.0 |\n",
       "| marine1 | motus     | 1 | 19995.391 | 5:33:15 |   9690.75 |   9827.16 |   9677.29 |   9678.12 |     0.00 |    0.01 | 101.40 |  315.39 |         0 |       0.0 |\n",
       "| marine1 | kraken    | 1 |  1557.388 | 0:25:57 | 295092.12 | 295126.74 | 295088.73 | 295089.21 | 65286.83 |    0.00 | 101.33 | 1578.52 |         0 |       0.0 |\n",
       "| marine1 | sourmash  | 1 |  6937.984 | 1:55:37 |  46619.60 |  46717.93 |  44852.42 |  45291.96 |     2.85 |  146.96 |  99.12 | 5278.40 |         0 |       0.0 |\n",
       "| marine2 | singlem   | 1 |  4773.781 | 1:19:33 |   1575.66 |   3027.30 |   1535.36 |   1539.21 |    64.31 | 1270.66 |  82.71 |  310.90 |         0 |       0.0 |\n",
       "| marine2 | metaphlan | 1 | 23708.516 | 6:35:08 |  17534.92 |  18076.73 |  17466.16 |  17489.14 |     0.00 | 8136.69 | 106.07 |   76.41 |         0 |       0.0 |\n",
       "| marine2 | motus     | 1 | 24815.764 | 6:53:35 |  10295.04 |  10445.59 |  10281.78 |  10285.16 |     0.00 |    0.01 | 101.29 |  360.84 |         0 |       0.0 |\n",
       "| marine2 | kraken    | 1 |  1933.782 | 0:32:13 | 295182.16 | 295215.68 | 295178.14 | 295178.72 | 48569.02 |    0.00 | 100.82 | 1949.97 |         0 |       0.0 |\n",
       "| marine2 | sourmash  | 1 |  7064.168 | 1:57:44 |  46055.32 |  46148.81 |  44293.91 |  44879.32 |     8.87 |  151.81 |  99.04 | 5147.07 |         0 |       0.0 |\n",
       "| marine3 | singlem   | 1 |  4701.105 | 1:18:21 |   1593.25 |   3156.69 |   1567.19 |   1572.14 |    85.88 | 1080.43 |  82.28 |  290.87 |         0 |       0.0 |\n",
       "| marine3 | metaphlan | 1 | 23092.789 | 6:24:52 |  17509.99 |  18052.73 |  17439.22 |  17455.13 |     0.00 | 8135.93 | 106.08 |   75.11 |         0 |       0.0 |\n",
       "| marine3 | motus     | 1 | 23514.178 | 6:31:54 |  10175.93 |  10306.42 |  10162.61 |  10164.93 |     0.63 |    2.16 | 101.56 |  384.82 |         0 |       0.0 |\n",
       "| marine3 | kraken    | 1 |  2200.262 | 0:36:40 | 295237.26 | 295273.51 | 295232.09 | 295232.55 | 93973.57 |    0.00 |  97.84 | 2153.10 |         0 |       0.0 |\n",
       "| marine3 | sourmash  | 1 |  8489.810 | 2:21:29 |  65982.52 |  66087.39 |  65971.82 |  65971.91 |   752.53 |  169.72 |  99.26 | 6612.14 |         0 |       0.0 |\n",
       "| marine4 | singlem   | 1 |  4037.655 | 1:07:17 |   1565.39 |   3029.07 |   1526.86 |   1529.88 |    58.27 |  923.75 |  81.86 |  238.87 |         0 |       0.0 |\n",
       "| marine4 | metaphlan | 1 | 19330.653 | 5:22:10 |  17511.53 |  18052.73 |  17440.94 |  17453.04 |     0.00 | 6909.02 | 106.24 |   77.34 |         0 |       0.0 |\n",
       "| marine4 | motus     | 1 | 19956.325 | 5:32:36 |   9581.36 |   9722.63 |   9567.79 |   9568.62 |     0.01 |    2.16 | 101.49 |  327.58 |         0 |       0.0 |\n",
       "| marine4 | kraken    | 1 |  1594.332 | 0:26:34 | 295028.69 | 295069.68 | 295024.84 | 295025.22 | 65806.34 |    0.00 |  98.42 | 1569.51 |         0 |       0.0 |\n",
       "| marine4 | sourmash  | 1 |  6312.876 | 1:45:12 |  39920.58 |  40024.54 |  38154.12 |  38349.59 |     9.02 |  137.43 |  99.02 | 4701.86 |         0 |       0.0 |\n",
       "| marine5 | singlem   | 1 |  3863.665 | 1:04:23 |   1577.42 |   3008.48 |   1548.57 |   1551.80 |  2490.05 |  958.25 |  80.90 |  236.44 |         0 |       0.0 |\n",
       "| marine5 | metaphlan | 1 | 18977.247 | 5:16:17 |  17533.98 |  18076.73 |  17463.20 |  17469.79 |     0.00 | 6670.13 | 106.02 |   72.65 |         0 |       0.0 |\n",
       "| marine5 | motus     | 1 | 17972.890 | 4:59:32 |   9294.82 |   9456.22 |   9281.19 |   9281.93 |  3553.74 |    2.16 | 101.52 |  298.63 |         0 |       0.0 |\n",
       "| marine5 | kraken    | 1 |  1650.436 | 0:27:30 | 294987.74 | 295027.25 | 294984.98 | 294985.34 | 63537.14 |    0.00 |  99.38 | 1640.34 |         0 |       0.0 |\n",
       "| marine5 | sourmash  | 1 |  6847.447 | 1:54:07 |  46922.29 |  47028.58 |  45155.13 |  45447.98 |    14.36 |  140.93 |  99.24 | 5319.81 |         0 |       0.0 |\n",
       "| marine6 | singlem   | 1 |  4172.069 | 1:09:32 |   1553.78 |   3193.18 |   1528.64 |   1533.13 |    86.00 | 1103.91 |  81.55 |  275.00 |         0 |       0.0 |\n",
       "| marine6 | metaphlan | 1 | 20062.817 | 5:34:22 |  17542.72 |  18076.73 |  17472.47 |  17484.51 |     0.00 | 7187.17 | 106.14 |   94.31 |         0 |       0.0 |\n",
       "| marine6 | motus     | 1 | 21893.707 | 6:04:53 |   9524.36 |   9657.05 |   9510.98 |   9512.48 |     0.00 |    2.16 | 101.37 |  313.79 |         0 |       0.0 |\n",
       "| marine6 | kraken    | 1 |  1619.426 | 0:26:59 | 295046.12 | 295081.32 | 295044.30 | 295044.73 | 70560.25 |    0.00 | 100.52 | 1628.11 |         0 |       0.0 |\n",
       "| marine6 | sourmash  | 1 |  5809.935 | 1:36:49 |  50117.71 |  50209.00 |  48355.25 |  48531.25 |     2.51 |  147.11 |  99.21 | 4161.93 |         0 |       0.0 |\n",
       "| marine7 | singlem   | 1 |  4396.251 | 1:13:16 |   1566.19 |   2971.04 |   1528.40 |   1531.83 |    38.01 | 1013.15 |  82.37 |  256.15 |         0 |       0.0 |\n",
       "| marine7 | metaphlan | 1 | 20937.281 | 5:48:57 |  17510.27 |  18052.73 |  17441.26 |  17463.92 | 10479.28 | 7807.24 | 106.33 |   97.77 |         0 |       0.0 |\n",
       "| marine7 | motus     | 1 | 21982.878 | 6:06:22 |  10122.83 |  10272.19 |  10109.45 |  10110.90 |     0.00 |    0.01 | 101.57 |  386.49 |         0 |       0.0 |\n",
       "| marine7 | kraken    | 1 |  1762.558 | 0:29:22 | 295129.78 | 295162.89 | 295124.80 | 295125.31 | 97604.13 |    0.00 | 101.76 | 1793.60 |         0 |       0.0 |\n",
       "| marine7 | sourmash  | 1 |  6899.367 | 1:54:59 |  43452.24 |  43545.11 |  41690.49 |  42041.99 |     6.09 |  144.79 |  99.35 | 5120.17 |         0 |       0.0 |\n",
       "| marine8 | singlem   | 1 |  4240.423 | 1:10:40 |   1609.73 |   3151.81 |   1585.04 |   1587.61 |   108.60 | 1222.36 |  80.52 |  339.91 |         0 |       0.0 |\n",
       "| marine8 | metaphlan | 1 | 20423.990 | 5:40:23 |  17534.00 |  18076.74 |  17463.27 |  17475.56 |     1.62 | 6874.25 | 105.78 |   81.25 |         0 |       0.0 |\n",
       "| marine8 | motus     | 1 | 20554.007 | 5:42:34 |   9676.52 |   9826.89 |   9662.87 |   9664.08 |     0.00 |    2.16 | 101.30 |  349.90 |         0 |       0.0 |\n",
       "| marine8 | kraken    | 1 |  1645.437 | 0:27:25 | 295135.18 | 295170.97 | 295129.96 | 295130.38 | 77039.40 |    0.00 |  98.04 | 1613.18 |         0 |       0.0 |\n",
       "| marine8 | sourmash  | 1 |  6423.582 | 1:47:03 |  52987.77 |  53082.11 |  51225.84 |  51476.87 |   423.16 |  150.83 |  99.12 | 4834.85 |         0 |       0.0 |\n",
       "| marine9 | singlem   | 1 |  3880.609 | 1:04:40 |   1559.92 |   2996.28 |   1528.21 |   1531.45 |    39.94 | 1049.05 |  81.37 |  212.09 |         0 |       0.0 |\n",
       "| marine9 | metaphlan | 1 | 16480.840 | 4:34:40 |  17547.24 |  18076.73 |  17509.85 |  17523.05 |  3610.42 | 6652.76 | 106.67 |   87.89 |         0 |       0.0 |\n",
       "| marine9 | motus     | 1 | 19890.263 | 5:31:30 |   9277.84 |   9427.69 |   9264.55 |   9265.39 |     0.00 |    2.16 | 101.40 |  300.33 |         0 |       0.0 |\n",
       "| marine9 | kraken    | 1 |  1604.734 | 0:26:44 | 295039.33 | 295075.23 | 295034.90 | 295035.23 | 17742.11 |    0.00 |  98.51 | 1580.89 |         0 |       0.0 |\n",
       "| marine9 | sourmash  | 1 |  6362.587 | 1:46:02 |  38137.07 |  38230.16 |  36370.65 |  36590.38 |   229.33 |  134.00 |  99.19 | 4823.99 |         0 |       0.0 |\n",
       "\n"
      ],
      "text/plain": [
       "   community tool      threads s         h:m:s   max_rss   max_vms   max_uss  \n",
       "1  marine0   singlem   1        5536.106 1:32:16   1612.55   3158.88   1587.71\n",
       "2  marine0   metaphlan 1       24349.448 6:45:49  17523.12  18052.73  17485.55\n",
       "3  marine0   motus     1       26097.818 7:14:57  10893.61  11030.97  10886.74\n",
       "4  marine0   kraken    1        2215.115 0:36:55 295166.14 295200.25 295161.32\n",
       "5  marine0   sourmash  1        7617.124 2:06:57  49766.79  49875.14  47998.55\n",
       "6  marine1   singlem   1        4180.836 1:09:40   1577.89   3000.46   1552.90\n",
       "7  marine1   metaphlan 1       19491.419 5:24:51  17510.25  18052.73  17439.26\n",
       "8  marine1   motus     1       19995.391 5:33:15   9690.75   9827.16   9677.29\n",
       "9  marine1   kraken    1        1557.388 0:25:57 295092.12 295126.74 295088.73\n",
       "10 marine1   sourmash  1        6937.984 1:55:37  46619.60  46717.93  44852.42\n",
       "11 marine2   singlem   1        4773.781 1:19:33   1575.66   3027.30   1535.36\n",
       "12 marine2   metaphlan 1       23708.516 6:35:08  17534.92  18076.73  17466.16\n",
       "13 marine2   motus     1       24815.764 6:53:35  10295.04  10445.59  10281.78\n",
       "14 marine2   kraken    1        1933.782 0:32:13 295182.16 295215.68 295178.14\n",
       "15 marine2   sourmash  1        7064.168 1:57:44  46055.32  46148.81  44293.91\n",
       "16 marine3   singlem   1        4701.105 1:18:21   1593.25   3156.69   1567.19\n",
       "17 marine3   metaphlan 1       23092.789 6:24:52  17509.99  18052.73  17439.22\n",
       "18 marine3   motus     1       23514.178 6:31:54  10175.93  10306.42  10162.61\n",
       "19 marine3   kraken    1        2200.262 0:36:40 295237.26 295273.51 295232.09\n",
       "20 marine3   sourmash  1        8489.810 2:21:29  65982.52  66087.39  65971.82\n",
       "21 marine4   singlem   1        4037.655 1:07:17   1565.39   3029.07   1526.86\n",
       "22 marine4   metaphlan 1       19330.653 5:22:10  17511.53  18052.73  17440.94\n",
       "23 marine4   motus     1       19956.325 5:32:36   9581.36   9722.63   9567.79\n",
       "24 marine4   kraken    1        1594.332 0:26:34 295028.69 295069.68 295024.84\n",
       "25 marine4   sourmash  1        6312.876 1:45:12  39920.58  40024.54  38154.12\n",
       "26 marine5   singlem   1        3863.665 1:04:23   1577.42   3008.48   1548.57\n",
       "27 marine5   metaphlan 1       18977.247 5:16:17  17533.98  18076.73  17463.20\n",
       "28 marine5   motus     1       17972.890 4:59:32   9294.82   9456.22   9281.19\n",
       "29 marine5   kraken    1        1650.436 0:27:30 294987.74 295027.25 294984.98\n",
       "30 marine5   sourmash  1        6847.447 1:54:07  46922.29  47028.58  45155.13\n",
       "31 marine6   singlem   1        4172.069 1:09:32   1553.78   3193.18   1528.64\n",
       "32 marine6   metaphlan 1       20062.817 5:34:22  17542.72  18076.73  17472.47\n",
       "33 marine6   motus     1       21893.707 6:04:53   9524.36   9657.05   9510.98\n",
       "34 marine6   kraken    1        1619.426 0:26:59 295046.12 295081.32 295044.30\n",
       "35 marine6   sourmash  1        5809.935 1:36:49  50117.71  50209.00  48355.25\n",
       "36 marine7   singlem   1        4396.251 1:13:16   1566.19   2971.04   1528.40\n",
       "37 marine7   metaphlan 1       20937.281 5:48:57  17510.27  18052.73  17441.26\n",
       "38 marine7   motus     1       21982.878 6:06:22  10122.83  10272.19  10109.45\n",
       "39 marine7   kraken    1        1762.558 0:29:22 295129.78 295162.89 295124.80\n",
       "40 marine7   sourmash  1        6899.367 1:54:59  43452.24  43545.11  41690.49\n",
       "41 marine8   singlem   1        4240.423 1:10:40   1609.73   3151.81   1585.04\n",
       "42 marine8   metaphlan 1       20423.990 5:40:23  17534.00  18076.74  17463.27\n",
       "43 marine8   motus     1       20554.007 5:42:34   9676.52   9826.89   9662.87\n",
       "44 marine8   kraken    1        1645.437 0:27:25 295135.18 295170.97 295129.96\n",
       "45 marine8   sourmash  1        6423.582 1:47:03  52987.77  53082.11  51225.84\n",
       "46 marine9   singlem   1        3880.609 1:04:40   1559.92   2996.28   1528.21\n",
       "47 marine9   metaphlan 1       16480.840 4:34:40  17547.24  18076.73  17509.85\n",
       "48 marine9   motus     1       19890.263 5:31:30   9277.84   9427.69   9264.55\n",
       "49 marine9   kraken    1        1604.734 0:26:44 295039.33 295075.23 295034.90\n",
       "50 marine9   sourmash  1        6362.587 1:46:02  38137.07  38230.16  36370.65\n",
       "   max_pss   io_in    io_out  mean_load cpu_time V1        rpm      \n",
       "1    1591.02    64.15 1495.66  83.78     346.71  237109868 1284891.7\n",
       "2   17499.47     7.82 9705.83 106.70      94.03  237109868  292133.8\n",
       "3   10887.10     0.00    0.01 101.56     406.26  237109868  272562.9\n",
       "4  295161.85  6035.12    0.00 100.86    2234.52  237109868 3211253.6\n",
       "5   48876.79    61.38  163.79  99.38    5400.24  237109868  933855.8\n",
       "6    1557.52    85.96 1097.00  80.76     253.13          0       0.0\n",
       "7   17446.44     0.00 7266.23 106.21      83.60          0       0.0\n",
       "8    9678.12     0.00    0.01 101.40     315.39          0       0.0\n",
       "9  295089.21 65286.83    0.00 101.33    1578.52          0       0.0\n",
       "10  45291.96     2.85  146.96  99.12    5278.40          0       0.0\n",
       "11   1539.21    64.31 1270.66  82.71     310.90          0       0.0\n",
       "12  17489.14     0.00 8136.69 106.07      76.41          0       0.0\n",
       "13  10285.16     0.00    0.01 101.29     360.84          0       0.0\n",
       "14 295178.72 48569.02    0.00 100.82    1949.97          0       0.0\n",
       "15  44879.32     8.87  151.81  99.04    5147.07          0       0.0\n",
       "16   1572.14    85.88 1080.43  82.28     290.87          0       0.0\n",
       "17  17455.13     0.00 8135.93 106.08      75.11          0       0.0\n",
       "18  10164.93     0.63    2.16 101.56     384.82          0       0.0\n",
       "19 295232.55 93973.57    0.00  97.84    2153.10          0       0.0\n",
       "20  65971.91   752.53  169.72  99.26    6612.14          0       0.0\n",
       "21   1529.88    58.27  923.75  81.86     238.87          0       0.0\n",
       "22  17453.04     0.00 6909.02 106.24      77.34          0       0.0\n",
       "23   9568.62     0.01    2.16 101.49     327.58          0       0.0\n",
       "24 295025.22 65806.34    0.00  98.42    1569.51          0       0.0\n",
       "25  38349.59     9.02  137.43  99.02    4701.86          0       0.0\n",
       "26   1551.80  2490.05  958.25  80.90     236.44          0       0.0\n",
       "27  17469.79     0.00 6670.13 106.02      72.65          0       0.0\n",
       "28   9281.93  3553.74    2.16 101.52     298.63          0       0.0\n",
       "29 294985.34 63537.14    0.00  99.38    1640.34          0       0.0\n",
       "30  45447.98    14.36  140.93  99.24    5319.81          0       0.0\n",
       "31   1533.13    86.00 1103.91  81.55     275.00          0       0.0\n",
       "32  17484.51     0.00 7187.17 106.14      94.31          0       0.0\n",
       "33   9512.48     0.00    2.16 101.37     313.79          0       0.0\n",
       "34 295044.73 70560.25    0.00 100.52    1628.11          0       0.0\n",
       "35  48531.25     2.51  147.11  99.21    4161.93          0       0.0\n",
       "36   1531.83    38.01 1013.15  82.37     256.15          0       0.0\n",
       "37  17463.92 10479.28 7807.24 106.33      97.77          0       0.0\n",
       "38  10110.90     0.00    0.01 101.57     386.49          0       0.0\n",
       "39 295125.31 97604.13    0.00 101.76    1793.60          0       0.0\n",
       "40  42041.99     6.09  144.79  99.35    5120.17          0       0.0\n",
       "41   1587.61   108.60 1222.36  80.52     339.91          0       0.0\n",
       "42  17475.56     1.62 6874.25 105.78      81.25          0       0.0\n",
       "43   9664.08     0.00    2.16 101.30     349.90          0       0.0\n",
       "44 295130.38 77039.40    0.00  98.04    1613.18          0       0.0\n",
       "45  51476.87   423.16  150.83  99.12    4834.85          0       0.0\n",
       "46   1531.45    39.94 1049.05  81.37     212.09          0       0.0\n",
       "47  17523.05  3610.42 6652.76 106.67      87.89          0       0.0\n",
       "48   9265.39     0.00    2.16 101.40     300.33          0       0.0\n",
       "49 295035.23 17742.11    0.00  98.51    1580.89          0       0.0\n",
       "50  36590.38   229.33  134.00  99.19    4823.99          0       0.0"
      ]
     },
     "metadata": {},
     "output_type": "display_data"
    }
   ],
   "source": [
    "rcm = merge(r2[threads==1], read_counts2, by='community')\n",
    "rcm[, rpm := (V1/4)/s*60 *2] # times 2 because we only have half the reads in count\n",
    "rcm[,]"
   ]
  },
  {
   "cell_type": "code",
   "execution_count": 29,
   "metadata": {
    "vscode": {
     "languageId": "r"
    }
   },
   "outputs": [],
   "source": [
    "# Write rc3\n",
    "fwrite(r2, 'runtime.csv', sep='\\t')"
   ]
  }
 ],
 "metadata": {
  "kernelspec": {
   "display_name": "R",
   "language": "R",
   "name": "ir"
  },
  "language_info": {
   "codemirror_mode": "r",
   "file_extension": ".r",
   "mimetype": "text/x-r-source",
   "name": "R",
   "pygments_lexer": "r",
   "version": "4.2.3"
  },
  "orig_nbformat": 4
 },
 "nbformat": 4,
 "nbformat_minor": 2
}
