{
 "cells": [
  {
   "cell_type": "code",
   "execution_count": 2,
   "metadata": {},
   "outputs": [],
   "source": [
    "import polars as pl\n",
    "from os.path import join"
   ]
  },
  {
   "cell_type": "code",
   "execution_count": 3,
   "metadata": {},
   "outputs": [],
   "source": [
    "numbers = list(range(10))\n",
    "coverage_defs = [join('coverage_definitions/coverage{}.tsv'.format(i)) for i in numbers]"
   ]
  },
  {
   "cell_type": "code",
   "execution_count": 4,
   "metadata": {},
   "outputs": [],
   "source": [
    "total_coverages = []\n",
    "for cov_file in coverage_defs:\n",
    "    df = pl.read_csv(cov_file, separator='\\t', has_header=False)\n",
    "    df = df.filter(df['column_1'].str.contains('Otu'))\n",
    "    total_coverage = df['column_2'].sum()\n",
    "    total_coverages.append(total_coverage)"
   ]
  },
  {
   "cell_type": "code",
   "execution_count": 5,
   "metadata": {},
   "outputs": [
    {
     "data": {
      "text/html": [
       "<div><style>\n",
       ".dataframe > thead > tr,\n",
       ".dataframe > tbody > tr {\n",
       "  text-align: right;\n",
       "  white-space: pre-wrap;\n",
       "}\n",
       "</style>\n",
       "<small>shape: (10, 2)</small><table border=\"1\" class=\"dataframe\"><thead><tr><th>sample</th><th>total_coverage</th></tr><tr><td>i64</td><td>f64</td></tr></thead><tbody><tr><td>0</td><td>1657.79682</td></tr><tr><td>1</td><td>1650.28354</td></tr><tr><td>2</td><td>1686.9465</td></tr><tr><td>3</td><td>1828.4964</td></tr><tr><td>4</td><td>1634.22324</td></tr><tr><td>5</td><td>1737.54842</td></tr><tr><td>6</td><td>1772.31032</td></tr><tr><td>7</td><td>1694.80384</td></tr><tr><td>8</td><td>1790.228</td></tr><tr><td>9</td><td>1597.09387</td></tr></tbody></table></div>"
      ],
      "text/plain": [
       "shape: (10, 2)\n",
       "┌────────┬────────────────┐\n",
       "│ sample ┆ total_coverage │\n",
       "│ ---    ┆ ---            │\n",
       "│ i64    ┆ f64            │\n",
       "╞════════╪════════════════╡\n",
       "│ 0      ┆ 1657.79682     │\n",
       "│ 1      ┆ 1650.28354     │\n",
       "│ 2      ┆ 1686.9465      │\n",
       "│ 3      ┆ 1828.4964      │\n",
       "│ 4      ┆ 1634.22324     │\n",
       "│ 5      ┆ 1737.54842     │\n",
       "│ 6      ┆ 1772.31032     │\n",
       "│ 7      ┆ 1694.80384     │\n",
       "│ 8      ┆ 1790.228       │\n",
       "│ 9      ┆ 1597.09387     │\n",
       "└────────┴────────────────┘"
      ]
     },
     "execution_count": 5,
     "metadata": {},
     "output_type": "execute_result"
    }
   ],
   "source": [
    "df = pl.DataFrame({\n",
    "    'sample': numbers,\n",
    "    'total_coverage': total_coverages,\n",
    "})\n",
    "df"
   ]
  },
  {
   "cell_type": "code",
   "execution_count": 6,
   "metadata": {},
   "outputs": [
    {
     "data": {
      "text/html": [
       "<div><style>\n",
       ".dataframe > thead > tr,\n",
       ".dataframe > tbody > tr {\n",
       "  text-align: right;\n",
       "  white-space: pre-wrap;\n",
       "}\n",
       "</style>\n",
       "<small>shape: (10, 3)</small><table border=\"1\" class=\"dataframe\"><thead><tr><th>sample</th><th>total_coverage</th><th>relabund0.35</th></tr><tr><td>i64</td><td>f64</td><td>f64</td></tr></thead><tbody><tr><td>0</td><td>1657.79682</td><td>0.021112</td></tr><tr><td>1</td><td>1650.28354</td><td>0.021208</td></tr><tr><td>2</td><td>1686.9465</td><td>0.020748</td></tr><tr><td>3</td><td>1828.4964</td><td>0.019141</td></tr><tr><td>4</td><td>1634.22324</td><td>0.021417</td></tr><tr><td>5</td><td>1737.54842</td><td>0.020143</td></tr><tr><td>6</td><td>1772.31032</td><td>0.019748</td></tr><tr><td>7</td><td>1694.80384</td><td>0.020651</td></tr><tr><td>8</td><td>1790.228</td><td>0.019551</td></tr><tr><td>9</td><td>1597.09387</td><td>0.021915</td></tr></tbody></table></div>"
      ],
      "text/plain": [
       "shape: (10, 3)\n",
       "┌────────┬────────────────┬──────────────┐\n",
       "│ sample ┆ total_coverage ┆ relabund0.35 │\n",
       "│ ---    ┆ ---            ┆ ---          │\n",
       "│ i64    ┆ f64            ┆ f64          │\n",
       "╞════════╪════════════════╪══════════════╡\n",
       "│ 0      ┆ 1657.79682     ┆ 0.021112     │\n",
       "│ 1      ┆ 1650.28354     ┆ 0.021208     │\n",
       "│ 2      ┆ 1686.9465      ┆ 0.020748     │\n",
       "│ 3      ┆ 1828.4964      ┆ 0.019141     │\n",
       "│ 4      ┆ 1634.22324     ┆ 0.021417     │\n",
       "│ 5      ┆ 1737.54842     ┆ 0.020143     │\n",
       "│ 6      ┆ 1772.31032     ┆ 0.019748     │\n",
       "│ 7      ┆ 1694.80384     ┆ 0.020651     │\n",
       "│ 8      ┆ 1790.228       ┆ 0.019551     │\n",
       "│ 9      ┆ 1597.09387     ┆ 0.021915     │\n",
       "└────────┴────────────────┴──────────────┘"
      ]
     },
     "execution_count": 6,
     "metadata": {},
     "output_type": "execute_result"
    }
   ],
   "source": [
    "df = df.with_columns((0.35 / pl.col('total_coverage')).alias('relabund0.35')*100)\n",
    "df"
   ]
  },
  {
   "cell_type": "code",
   "execution_count": 7,
   "metadata": {},
   "outputs": [
    {
     "data": {
      "text/html": [
       "<div><style>\n",
       ".dataframe > thead > tr,\n",
       ".dataframe > tbody > tr {\n",
       "  text-align: right;\n",
       "  white-space: pre-wrap;\n",
       "}\n",
       "</style>\n",
       "<small>shape: (1, 1)</small><table border=\"1\" class=\"dataframe\"><thead><tr><th>relabund0.35</th></tr><tr><td>f64</td></tr></thead><tbody><tr><td>0.020563</td></tr></tbody></table></div>"
      ],
      "text/plain": [
       "shape: (1, 1)\n",
       "┌──────────────┐\n",
       "│ relabund0.35 │\n",
       "│ ---          │\n",
       "│ f64          │\n",
       "╞══════════════╡\n",
       "│ 0.020563     │\n",
       "└──────────────┘"
      ]
     },
     "execution_count": 7,
     "metadata": {},
     "output_type": "execute_result"
    }
   ],
   "source": [
    "df.select(pl.col('relabund0.35').mean())"
   ]
  },
  {
   "cell_type": "markdown",
   "metadata": {},
   "source": [
    "# How many zero entries are there in each coverage file?"
   ]
  },
  {
   "cell_type": "code",
   "execution_count": 9,
   "metadata": {},
   "outputs": [
    {
     "data": {
      "text/plain": [
       "([388, 327, 348, 172, 349, 273, 267, 344, 245, 363], 307.6)"
      ]
     },
     "execution_count": 9,
     "metadata": {},
     "output_type": "execute_result"
    }
   ],
   "source": [
    "num_zeroes_list = []\n",
    "for cov_file in coverage_defs:\n",
    "    df = pl.read_csv(cov_file, separator='\\t', has_header=False)\n",
    "    df = df.filter(df['column_1'].str.contains('Otu'))\n",
    "    num_zeroes = len(df.filter(pl.col('column_2') == 0))\n",
    "    num_zeroes_list.append(num_zeroes)\n",
    "num_zeroes_list, sum(num_zeroes_list)/len(num_zeroes_list)"
   ]
  }
 ],
 "metadata": {
  "kernelspec": {
   "display_name": "mybase8",
   "language": "python",
   "name": "python3"
  },
  "language_info": {
   "codemirror_mode": {
    "name": "ipython",
    "version": 3
   },
   "file_extension": ".py",
   "mimetype": "text/x-python",
   "name": "python",
   "nbconvert_exporter": "python",
   "pygments_lexer": "ipython3",
   "version": "3.11.0"
  }
 },
 "nbformat": 4,
 "nbformat_minor": 2
}
