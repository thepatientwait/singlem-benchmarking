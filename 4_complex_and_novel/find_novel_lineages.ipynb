{
 "cells": [
  {
   "cell_type": "code",
   "execution_count": 1,
   "metadata": {},
   "outputs": [],
   "source": [
    "import polars as pl"
   ]
  },
  {
   "cell_type": "code",
   "execution_count": 2,
   "metadata": {},
   "outputs": [],
   "source": [
    "# Read r207 and r214 metadata\n",
    "gtdb_bac_metadata207 = pl.read_csv('/work/microbiome/db/gtdb/gtdb_release207/bac120_metadata_r207.tsv', separator='\\t', infer_schema_length=10000, ignore_errors=True).select('accession', 'gtdb_taxonomy')\n",
    "gtdb_arc_metadata207 = pl.read_csv('/work/microbiome/db/gtdb/gtdb_release207/ar53_metadata_r207.tsv', separator='\\t').select('accession', 'gtdb_taxonomy')\n",
    "r207 = pl.concat([gtdb_bac_metadata207, gtdb_arc_metadata207])\n",
    "\n",
    "# Read r214 metadata\n",
    "gtdb_bac_metadata214 = pl.read_csv('/work/microbiome/db/gtdb/gtdb_release214/bac120_metadata_r214.tsv', separator='\\t').select('accession', 'gtdb_taxonomy', 'gtdb_representative', 'checkm_completeness', 'checkm_contamination')\n",
    "gtdb_arc_metadata214 = pl.read_csv('/work/microbiome/db/gtdb/gtdb_release214/ar53_metadata_r214.tsv', separator='\\t').select('accession', 'gtdb_taxonomy', 'gtdb_representative', 'checkm_completeness', 'checkm_contamination')\n",
    "r214 = pl.concat([gtdb_bac_metadata214, gtdb_arc_metadata214])"
   ]
  },
  {
   "cell_type": "code",
   "execution_count": 23,
   "metadata": {},
   "outputs": [
    {
     "data": {
      "text/html": [
       "<div><style>\n",
       ".dataframe > thead > tr,\n",
       ".dataframe > tbody > tr {\n",
       "  text-align: right;\n",
       "  white-space: pre-wrap;\n",
       "}\n",
       "</style>\n",
       "<small>shape: (1, 3)</small><table border=\"1\" class=\"dataframe\"><thead><tr><th>accession</th><th>gtdb_taxonomy</th><th>accession_minimal</th></tr><tr><td>str</td><td>str</td><td>str</td></tr></thead><tbody><tr><td>&quot;RS_GCF_0002929…</td><td>&quot;d__Bacteria;p_…</td><td>&quot;000292915&quot;</td></tr></tbody></table></div>"
      ],
      "text/plain": [
       "shape: (1, 3)\n",
       "┌────────────────────┬───────────────────────────────────┬───────────────────┐\n",
       "│ accession          ┆ gtdb_taxonomy                     ┆ accession_minimal │\n",
       "│ ---                ┆ ---                               ┆ ---               │\n",
       "│ str                ┆ str                               ┆ str               │\n",
       "╞════════════════════╪═══════════════════════════════════╪═══════════════════╡\n",
       "│ RS_GCF_000292915.1 ┆ d__Bacteria;p__Proteobacteria;c_… ┆ 000292915         │\n",
       "└────────────────────┴───────────────────────────────────┴───────────────────┘"
      ]
     },
     "execution_count": 23,
     "metadata": {},
     "output_type": "execute_result"
    }
   ],
   "source": [
    "r207 = r207.with_columns(pl.col('accession').str.replace(r'.*_', '').str.replace(r'\\..*','').alias('accession_minimal'))\n",
    "r214 = r214.with_columns(pl.col('accession').str.replace(r'.*_', '').str.replace(r'\\..*','').alias('accession_minimal'))\n",
    "r207.filter(pl.col('accession_minimal')=='000292915') # This changed RS to GB or vice versa"
   ]
  },
  {
   "cell_type": "code",
   "execution_count": 24,
   "metadata": {},
   "outputs": [
    {
     "data": {
      "text/plain": [
       "((35006, 9),\n",
       " shape: (4, 9)\n",
       " ┌───────────┬───────────┬───────────┬───────────┬───┬───────────┬───────────┬───────────┬──────────┐\n",
       " │ accession ┆ gtdb_taxo ┆ accession ┆ accession ┆ … ┆ gtdb_repr ┆ checkm_co ┆ checkm_co ┆ accessio │\n",
       " │ ---       ┆ nomy      ┆ _minimal  ┆ _right    ┆   ┆ esentativ ┆ mpletenes ┆ ntaminati ┆ n_minima │\n",
       " │ str       ┆ ---       ┆ ---       ┆ ---       ┆   ┆ e         ┆ s         ┆ on        ┆ l_right  │\n",
       " │           ┆ str       ┆ str       ┆ str       ┆   ┆ ---       ┆ ---       ┆ ---       ┆ ---      │\n",
       " │           ┆           ┆           ┆           ┆   ┆ str       ┆ f64       ┆ f64       ┆ str      │\n",
       " ╞═══════════╪═══════════╪═══════════╪═══════════╪═══╪═══════════╪═══════════╪═══════════╪══════════╡\n",
       " │ GB_GCA_00 ┆ d__Bacter ┆ 000007325 ┆ GB_GCA_00 ┆ … ┆ t         ┆ 99.95     ┆ 0.0       ┆ 00000732 │\n",
       " │ 0007325.1 ┆ ia;p__Fus ┆           ┆ 0007325.1 ┆   ┆           ┆           ┆           ┆ 5        │\n",
       " │           ┆ obacterio ┆           ┆           ┆   ┆           ┆           ┆           ┆          │\n",
       " │           ┆ ta;c_…    ┆           ┆           ┆   ┆           ┆           ┆           ┆          │\n",
       " │ GB_GCA_00 ┆ d__Bacter ┆ 000008885 ┆ GB_GCA_00 ┆ … ┆ t         ┆ 100.0     ┆ 0.0       ┆ 00000888 │\n",
       " │ 0008885.1 ┆ ia;p__Pro ┆           ┆ 0008885.1 ┆   ┆           ┆           ┆           ┆ 5        │\n",
       " │           ┆ teobacter ┆           ┆           ┆   ┆           ┆           ┆           ┆          │\n",
       " │           ┆ ia;c_…    ┆           ┆           ┆   ┆           ┆           ┆           ┆          │\n",
       " │ GB_GCA_00 ┆ d__Bacter ┆ 000009845 ┆ GB_GCA_00 ┆ … ┆ t         ┆ 98.57     ┆ 0.0       ┆ 00000984 │\n",
       " │ 0009845.1 ┆ ia;p__Fir ┆           ┆ 0009845.1 ┆   ┆           ┆           ┆           ┆ 5        │\n",
       " │           ┆ micutes;c ┆           ┆           ┆   ┆           ┆           ┆           ┆          │\n",
       " │           ┆ __Bac…    ┆           ┆           ┆   ┆           ┆           ┆           ┆          │\n",
       " │ GB_GCA_00 ┆ d__Bacter ┆ 000010565 ┆ GB_GCA_00 ┆ … ┆ t         ┆ 100.0     ┆ 0.63      ┆ 00001056 │\n",
       " │ 0010565.1 ┆ ia;p__Fir ┆           ┆ 0010565.1 ┆   ┆           ┆           ┆           ┆ 5        │\n",
       " │           ┆ micutes_B ┆           ┆           ┆   ┆           ┆           ┆           ┆          │\n",
       " │           ┆ ;c__D…    ┆           ┆           ┆   ┆           ┆           ┆           ┆          │\n",
       " └───────────┴───────────┴───────────┴───────────┴───┴───────────┴───────────┴───────────┴──────────┘)"
      ]
     },
     "execution_count": 24,
     "metadata": {},
     "output_type": "execute_result"
    }
   ],
   "source": [
    "# Merge r207 and r214 metadata\n",
    "merged = r207.join(r214, on='accession_minimal', how='outer').filter(pl.col('gtdb_representative')=='t').filter(pl.col('checkm_completeness')-5*pl.col('checkm_contamination') > 90)\n",
    "merged.shape, merged[:4]"
   ]
  },
  {
   "cell_type": "code",
   "execution_count": 25,
   "metadata": {},
   "outputs": [
    {
     "data": {
      "text/plain": [
       "((7002, 2),\n",
       " shape: (4, 2)\n",
       " ┌────────────────────┬───────────────────────────────────┐\n",
       " │ accession_right    ┆ gtdb_taxonomy_right               │\n",
       " │ ---                ┆ ---                               │\n",
       " │ str                ┆ str                               │\n",
       " ╞════════════════════╪═══════════════════════════════════╡\n",
       " │ GB_GCA_000195205.2 ┆ d__Bacteria;p__Pseudomonadota;c_… │\n",
       " │ GB_GCA_001672075.1 ┆ d__Bacteria;p__Cyanobacteriota;c… │\n",
       " │ GB_GCA_003223065.1 ┆ d__Bacteria;p__Acidobacteriota;c… │\n",
       " │ GB_GCA_003934145.1 ┆ d__Bacteria;p__Chloroflexota;c__… │\n",
       " └────────────────────┴───────────────────────────────────┘)"
      ]
     },
     "execution_count": 25,
     "metadata": {},
     "output_type": "execute_result"
    }
   ],
   "source": [
    "# Get a list of genomes which are new in r214\n",
    "r214_news = merged.filter(pl.col('gtdb_taxonomy').is_null()).select('accession_right', 'gtdb_taxonomy_right')\n",
    "r214_news.shape, r214_news[:4]"
   ]
  },
  {
   "cell_type": "code",
   "execution_count": 26,
   "metadata": {},
   "outputs": [
    {
     "data": {
      "text/html": [
       "<div><style>\n",
       ".dataframe > thead > tr,\n",
       ".dataframe > tbody > tr {\n",
       "  text-align: right;\n",
       "  white-space: pre-wrap;\n",
       "}\n",
       "</style>\n",
       "<small>shape: (3, 2)</small><table border=\"1\" class=\"dataframe\"><thead><tr><th>accession</th><th>path</th></tr><tr><td>str</td><td>str</td></tr></thead><tbody><tr><td>&quot;GCF_916619195.…</td><td>&quot;./database/GCF…</td></tr><tr><td>&quot;GCF_916618895.…</td><td>&quot;./database/GCF…</td></tr><tr><td>&quot;GCF_916618745.…</td><td>&quot;./database/GCF…</td></tr></tbody></table></div>"
      ],
      "text/plain": [
       "shape: (3, 2)\n",
       "┌─────────────────┬───────────────────────────────────┐\n",
       "│ accession       ┆ path                              │\n",
       "│ ---             ┆ ---                               │\n",
       "│ str             ┆ str                               │\n",
       "╞═════════════════╪═══════════════════════════════════╡\n",
       "│ GCF_916619195.1 ┆ ./database/GCF/916/619/195/GCF_9… │\n",
       "│ GCF_916618895.1 ┆ ./database/GCF/916/618/895/GCF_9… │\n",
       "│ GCF_916618745.1 ┆ ./database/GCF/916/618/745/GCF_9… │\n",
       "└─────────────────┴───────────────────────────────────┘"
      ]
     },
     "execution_count": 26,
     "metadata": {},
     "output_type": "execute_result"
    }
   ],
   "source": [
    "paths = pl.read_csv('~/m/db/gtdb/gtdb_release214/genomic_files_reps/gtdb_genomes_reps_r214/out', has_header=False)\n",
    "paths = paths.with_columns(pl.col('column_1').str.replace(r'.*/', '').str.replace(r'_genomic.fna$','').alias('accession'), pl.col('column_1').alias('path')).select('accession', 'path')\n",
    "paths[:3]"
   ]
  },
  {
   "cell_type": "code",
   "execution_count": 27,
   "metadata": {},
   "outputs": [],
   "source": [
    "def show_all(df, width=200, max_col_width=True):\n",
    "    '''\n",
    "    Prints an entire polars dataframe in the console or notebook output.\n",
    "    Parameters\n",
    "    ----------\n",
    "    df : pl.DataFrame\n",
    "        The dataframe to be printed.\n",
    "    width : int, optional\n",
    "        The width of the printed dataframe.\n",
    "        Defaults to 200.\n",
    "    max_col_width : bool, optional\n",
    "        Whether to set the maximum column width.\n",
    "        i.e. it will print the full contents of the cells.\n",
    "        Defaults to True.\n",
    "    '''\n",
    "    with  pl.Config()  as  cfg:\n",
    "        cfg.set_tbl_cols(-1)\n",
    "        cfg.set_tbl_rows(-1)\n",
    "        cfg.set_tbl_width_chars(width)\n",
    "        if  max_col_width  or  len(df.columns) ==  1:\n",
    "            cfg.set_fmt_str_lengths(width)\n",
    "        print(df)"
   ]
  },
  {
   "cell_type": "code",
   "execution_count": 28,
   "metadata": {},
   "outputs": [
    {
     "name": "stdout",
     "output_type": "stream",
     "text": [
      "shape: (3, 3)\n",
      "┌────────────────────┬─────────────────────────────────────────────────────────────────────────────────────────────────────────────────────────────────────┬─────────────────┐\n",
      "│ accession_right    ┆ gtdb_taxonomy_right                                                                                                                 ┆ accession       │\n",
      "│ ---                ┆ ---                                                                                                                                 ┆ ---             │\n",
      "│ str                ┆ str                                                                                                                                 ┆ str             │\n",
      "╞════════════════════╪═════════════════════════════════════════════════════════════════════════════════════════════════════════════════════════════════════╪═════════════════╡\n",
      "│ GB_GCA_000195205.2 ┆ d__Bacteria;p__Pseudomonadota;c__Gammaproteobacteria;o__Burkholderiales;f__Burkholderiaceae;g__CAILRJ01;s__CAILRJ01 sp010365165     ┆ GCA_000195205.2 │\n",
      "│ GB_GCA_001672075.1 ┆ d__Bacteria;p__Cyanobacteriota;c__Cyanobacteriia;o__Cyanobacteriales;f__Nostocaceae;g__Dolichospermum;s__Dolichospermum sp001672075 ┆ GCA_001672075.1 │\n",
      "│ GB_GCA_003223065.1 ┆ d__Bacteria;p__Acidobacteriota;c__Terriglobia;o__Bryobacterales;f__Bryobacteraceae;g__Palsa-187;s__Palsa-187 sp003223065            ┆ GCA_003223065.1 │\n",
      "└────────────────────┴─────────────────────────────────────────────────────────────────────────────────────────────────────────────────────────────────────┴─────────────────┘\n",
      "shape: (3, 2)\n",
      "┌─────────────────┬────────────────────────────────────────────────────────┐\n",
      "│ accession       ┆ path                                                   │\n",
      "│ ---             ┆ ---                                                    │\n",
      "│ str             ┆ str                                                    │\n",
      "╞═════════════════╪════════════════════════════════════════════════════════╡\n",
      "│ GCF_916619195.1 ┆ ./database/GCF/916/619/195/GCF_916619195.1_genomic.fna │\n",
      "│ GCF_916618895.1 ┆ ./database/GCF/916/618/895/GCF_916618895.1_genomic.fna │\n",
      "│ GCF_916618745.1 ┆ ./database/GCF/916/618/745/GCF_916618745.1_genomic.fna │\n",
      "└─────────────────┴────────────────────────────────────────────────────────┘\n"
     ]
    }
   ],
   "source": [
    "show_all(r214_news.with_columns(pl.col('accession_right').str.replace(r'.._', '').alias('accession'))[:3])#.join(paths, on='accession', how='inner')\n",
    "show_all(paths[:3])"
   ]
  },
  {
   "cell_type": "code",
   "execution_count": 29,
   "metadata": {},
   "outputs": [
    {
     "data": {
      "text/plain": [
       "((7002, 4),\n",
       " shape: (3, 4)\n",
       " ┌────────────────────┬─────────────────────────────┬─────────────────┬─────────────────────────────┐\n",
       " │ accession_right    ┆ gtdb_taxonomy_right         ┆ accession       ┆ path                        │\n",
       " │ ---                ┆ ---                         ┆ ---             ┆ ---                         │\n",
       " │ str                ┆ str                         ┆ str             ┆ str                         │\n",
       " ╞════════════════════╪═════════════════════════════╪═════════════════╪═════════════════════════════╡\n",
       " │ RS_GCF_916619195.1 ┆ d__Bacteria;p__Pseudomonado ┆ GCF_916619195.1 ┆ ./database/GCF/916/619/195/ │\n",
       " │                    ┆ ta;c_…                      ┆                 ┆ GCF_9…                      │\n",
       " │ RS_GCF_916618895.1 ┆ d__Bacteria;p__Actinomyceto ┆ GCF_916618895.1 ┆ ./database/GCF/916/618/895/ │\n",
       " │                    ┆ ta;c_…                      ┆                 ┆ GCF_9…                      │\n",
       " │ RS_GCF_916618745.1 ┆ d__Bacteria;p__Pseudomonado ┆ GCF_916618745.1 ┆ ./database/GCF/916/618/745/ │\n",
       " │                    ┆ ta;c_…                      ┆                 ┆ GCF_9…                      │\n",
       " └────────────────────┴─────────────────────────────┴─────────────────┴─────────────────────────────┘)"
      ]
     },
     "execution_count": 29,
     "metadata": {},
     "output_type": "execute_result"
    }
   ],
   "source": [
    "m2 = r214_news.with_columns(pl.col('accession_right').str.replace(r'.._', '').alias('accession')).join(paths, on='accession', how='inner')\n",
    "m2.shape, m2[:3]"
   ]
  },
  {
   "cell_type": "code",
   "execution_count": 30,
   "metadata": {},
   "outputs": [
    {
     "name": "stdout",
     "output_type": "stream",
     "text": [
      "shape: (3, 5)\n",
      "┌────────────────────┬─────────────────────────────────────────────────────┬─────────────────┬────────────────────────────────────────────────────┬────────────────────────────────────────────────────┐\n",
      "│ accession_right    ┆ gtdb_taxonomy_right                                 ┆ accession       ┆ path                                               ┆ abspath                                            │\n",
      "│ ---                ┆ ---                                                 ┆ ---             ┆ ---                                                ┆ ---                                                │\n",
      "│ str                ┆ str                                                 ┆ str             ┆ str                                                ┆ str                                                │\n",
      "╞════════════════════╪═════════════════════════════════════════════════════╪═════════════════╪════════════════════════════════════════════════════╪════════════════════════════════════════════════════╡\n",
      "│ RS_GCF_916619195.1 ┆ d__Bacteria;p__Pseudomonadota;c__Alphaproteobacteri ┆ GCF_916619195.1 ┆ ./database/GCF/916/619/195/GCF_916619195.1_genomic ┆ /work/microbiome/db/gtdb/gtdb_release214/genomic_f │\n",
      "│                    ┆ a;o__DSM-16000;f__Inquilinaceae;g__Inquilinus;s__In ┆                 ┆ .fna                                               ┆ iles_reps/gtdb_genomes_reps_r214/./database/GCF/91 │\n",
      "│                    ┆ quilinus sp916619195                                ┆                 ┆                                                    ┆ 6/619/195/GCF_916619195.1_genomic.fna              │\n",
      "│ RS_GCF_916618895.1 ┆ d__Bacteria;p__Actinomycetota;c__Actinomycetia;o__A ┆ GCF_916618895.1 ┆ ./database/GCF/916/618/895/GCF_916618895.1_genomic ┆ /work/microbiome/db/gtdb/gtdb_release214/genomic_f │\n",
      "│                    ┆ ctinomycetales;f__Microbacteriaceae;g__Gulosibacter ┆                 ┆ .fna                                               ┆ iles_reps/gtdb_genomes_reps_r214/./database/GCF/91 │\n",
      "│                    ┆ ;s__Gulosibacter sp916618895                        ┆                 ┆                                                    ┆ 6/618/895/GCF_916618895.1_genomic.fna              │\n",
      "│ RS_GCF_916618745.1 ┆ d__Bacteria;p__Pseudomonadota;c__Gammaproteobacteri ┆ GCF_916618745.1 ┆ ./database/GCF/916/618/745/GCF_916618745.1_genomic ┆ /work/microbiome/db/gtdb/gtdb_release214/genomic_f │\n",
      "│                    ┆ a;o__Cardiobacteriales;f__Cardiobacteriaceae;g__Car ┆                 ┆ .fna                                               ┆ iles_reps/gtdb_genomes_reps_r214/./database/GCF/91 │\n",
      "│                    ┆ diobacterium;s__Cardiobacterium sp916618745         ┆                 ┆                                                    ┆ 6/618/745/GCF_916618745.1_genomic.fna              │\n",
      "└────────────────────┴─────────────────────────────────────────────────────┴─────────────────┴────────────────────────────────────────────────────┴────────────────────────────────────────────────────┘\n"
     ]
    }
   ],
   "source": [
    "m2 = m2.with_columns(('/work/microbiome/db/gtdb/gtdb_release214/genomic_files_reps/gtdb_genomes_reps_r214/'+pl.col('path')).alias('abspath'))\n",
    "show_all(m2[:3])"
   ]
  },
  {
   "cell_type": "code",
   "execution_count": 35,
   "metadata": {},
   "outputs": [],
   "source": [
    "# write gtdbtk batchfile of 1000 random choices. Commented out to avoid accidental overwrite.\n",
    "# m2.sample(1000).select(['abspath','accession_right']).write_csv('gtdbtk_batchfile.random1000.csv', include_header=False, separator='\\t')"
   ]
  }
 ],
 "metadata": {
  "kernelspec": {
   "display_name": "mybase8",
   "language": "python",
   "name": "python3"
  },
  "language_info": {
   "codemirror_mode": {
    "name": "ipython",
    "version": 3
   },
   "file_extension": ".py",
   "mimetype": "text/x-python",
   "name": "python",
   "nbconvert_exporter": "python",
   "pygments_lexer": "ipython3",
   "version": "3.11.0"
  }
 },
 "nbformat": 4,
 "nbformat_minor": 2
}
