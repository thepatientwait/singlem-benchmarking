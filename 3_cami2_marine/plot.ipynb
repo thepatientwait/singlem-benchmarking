{
 "cells": [
  {
   "cell_type": "code",
   "execution_count": 1,
   "metadata": {
    "execution": {
     "iopub.execute_input": "2023-07-09T21:42:01.369798Z",
     "iopub.status.busy": "2023-07-09T21:42:01.367572Z",
     "iopub.status.idle": "2023-07-09T21:42:01.681363Z",
     "shell.execute_reply": "2023-07-09T21:42:01.680038Z"
    },
    "vscode": {
     "languageId": "r"
    }
   },
   "outputs": [
    {
     "name": "stderr",
     "output_type": "stream",
     "text": [
      "Warning message:\n",
      "“package ‘ggplot2’ was built under R version 4.2.3”\n",
      "Warning message:\n",
      "“package ‘data.table’ was built under R version 4.2.3”\n"
     ]
    }
   ],
   "source": [
    "library(ggplot2)\n",
    "library(data.table)\n",
    "theme_set(theme_bw())"
   ]
  },
  {
   "cell_type": "code",
   "execution_count": 2,
   "metadata": {
    "execution": {
     "iopub.execute_input": "2023-07-09T21:42:01.704606Z",
     "iopub.status.busy": "2023-07-09T21:42:01.684249Z",
     "iopub.status.idle": "2023-07-09T21:42:01.711830Z",
     "shell.execute_reply": "2023-07-09T21:42:01.710735Z"
    },
    "vscode": {
     "languageId": "r"
    }
   },
   "outputs": [],
   "source": [
    "tools = c('singlem', 'metaphlan', 'motus', 'kraken', 'sourmash', 'kaiju', 'map2b', 'metabuli')\n",
    "# Tools that do not have the correct taxonomy are tested only at the domain level. eg. Kaiju has NCBI taxonomy and MAP2B uses GTDB v202, mOTUs sometimes has incompatible strings\n",
    "correct_taxonomy_tools = c('singlem', 'metaphlan', 'kraken', 'sourmash', 'metabuli')\n",
    "\n",
    "publication_names = data.table(\n",
    "    tool = tools,\n",
    "    publication_name = c('SingleM', 'MetaPhlAn', 'mOTUs', 'Kraken2', 'sourmash', 'Kaiju', 'MAP2B', 'Metabuli')\n",
    ")\n",
    "name_to_publication_name = function(names, correct_taxonomy_only=F){\n",
    "    to_return = c()\n",
    "    for (name in names){\n",
    "        to_return = c(to_return, publication_names[tool==name]$publication_name)\n",
    "    }\n",
    "    if (correct_taxonomy_only){\n",
    "        return(factor(to_return, levels=publication_names[tool %in% correct_taxonomy_tools]$publication_name))\n",
    "    } else {\n",
    "        return(factor(to_return, levels=publication_names$publication_name))\n",
    "    }\n",
    "}"
   ]
  },
  {
   "cell_type": "code",
   "execution_count": 3,
   "metadata": {
    "execution": {
     "iopub.execute_input": "2023-07-09T21:42:01.719081Z",
     "iopub.status.busy": "2023-07-09T21:42:01.715010Z",
     "iopub.status.idle": "2023-07-09T21:42:01.727071Z",
     "shell.execute_reply": "2023-07-09T21:42:01.725921Z"
    },
    "vscode": {
     "languageId": "r"
    }
   },
   "outputs": [],
   "source": [
    "# setwd('~/m/msingle/mess/124_singlem-benchmarking/3_cami2_marine/')\n",
    "# base_dir = './'\n",
    "# base_dir = 'full_run8/checkout/1_novel_strains/' # Directory created when run in local scratch through queuing system"
   ]
  },
  {
   "cell_type": "code",
   "execution_count": 4,
   "metadata": {
    "execution": {
     "iopub.execute_input": "2023-07-09T21:42:01.730862Z",
     "iopub.status.busy": "2023-07-09T21:42:01.729975Z",
     "iopub.status.idle": "2023-07-09T21:42:01.741493Z",
     "shell.execute_reply": "2023-07-09T21:42:01.740420Z"
    },
    "vscode": {
     "languageId": "r"
    }
   },
   "outputs": [
    {
     "data": {
      "text/html": [
       "<style>\n",
       ".list-inline {list-style: none; margin:0; padding: 0}\n",
       ".list-inline>li {display: inline-block}\n",
       ".list-inline>li:not(:last-child)::after {content: \"\\00b7\"; padding: 0 .5ex}\n",
       "</style>\n",
       "<ol class=list-inline><li>'marine0'</li><li>'marine1'</li><li>'marine2'</li><li>'marine3'</li><li>'marine4'</li><li>'marine5'</li><li>'marine6'</li><li>'marine7'</li><li>'marine8'</li><li>'marine9'</li></ol>\n"
      ],
      "text/latex": [
       "\\begin{enumerate*}\n",
       "\\item 'marine0'\n",
       "\\item 'marine1'\n",
       "\\item 'marine2'\n",
       "\\item 'marine3'\n",
       "\\item 'marine4'\n",
       "\\item 'marine5'\n",
       "\\item 'marine6'\n",
       "\\item 'marine7'\n",
       "\\item 'marine8'\n",
       "\\item 'marine9'\n",
       "\\end{enumerate*}\n"
      ],
      "text/markdown": [
       "1. 'marine0'\n",
       "2. 'marine1'\n",
       "3. 'marine2'\n",
       "4. 'marine3'\n",
       "5. 'marine4'\n",
       "6. 'marine5'\n",
       "7. 'marine6'\n",
       "8. 'marine7'\n",
       "9. 'marine8'\n",
       "10. 'marine9'\n",
       "\n",
       "\n"
      ],
      "text/plain": [
       " [1] \"marine0\" \"marine1\" \"marine2\" \"marine3\" \"marine4\" \"marine5\" \"marine6\"\n",
       " [8] \"marine7\" \"marine8\" \"marine9\""
      ]
     },
     "metadata": {},
     "output_type": "display_data"
    }
   ],
   "source": [
    "communities = gsub('^','marine',as.character(0:9))\n",
    "# communities = gsub('^','marine',as.character(6)) # debug\n",
    "communities"
   ]
  },
  {
   "cell_type": "code",
   "execution_count": 5,
   "metadata": {
    "execution": {
     "iopub.execute_input": "2023-07-09T21:42:01.744400Z",
     "iopub.status.busy": "2023-07-09T21:42:01.743527Z",
     "iopub.status.idle": "2023-07-09T21:42:01.768362Z",
     "shell.execute_reply": "2023-07-09T21:42:01.767223Z"
    },
    "vscode": {
     "languageId": "r"
    }
   },
   "outputs": [
    {
     "data": {
      "text/html": [
       "<table class=\"dataframe\">\n",
       "<caption>A data.table: 3 × 2</caption>\n",
       "<thead>\n",
       "\t<tr><th scope=col>tool</th><th scope=col>community</th></tr>\n",
       "\t<tr><th scope=col>&lt;fct&gt;</th><th scope=col>&lt;fct&gt;</th></tr>\n",
       "</thead>\n",
       "<tbody>\n",
       "\t<tr><td>singlem  </td><td>marine0</td></tr>\n",
       "\t<tr><td>metaphlan</td><td>marine0</td></tr>\n",
       "\t<tr><td>kraken   </td><td>marine0</td></tr>\n",
       "</tbody>\n",
       "</table>\n"
      ],
      "text/latex": [
       "A data.table: 3 × 2\n",
       "\\begin{tabular}{ll}\n",
       " tool & community\\\\\n",
       " <fct> & <fct>\\\\\n",
       "\\hline\n",
       "\t singlem   & marine0\\\\\n",
       "\t metaphlan & marine0\\\\\n",
       "\t kraken    & marine0\\\\\n",
       "\\end{tabular}\n"
      ],
      "text/markdown": [
       "\n",
       "A data.table: 3 × 2\n",
       "\n",
       "| tool &lt;fct&gt; | community &lt;fct&gt; |\n",
       "|---|---|\n",
       "| singlem   | marine0 |\n",
       "| metaphlan | marine0 |\n",
       "| kraken    | marine0 |\n",
       "\n"
      ],
      "text/plain": [
       "  tool      community\n",
       "1 singlem   marine0  \n",
       "2 metaphlan marine0  \n",
       "3 kraken    marine0  "
      ]
     },
     "metadata": {},
     "output_type": "display_data"
    }
   ],
   "source": [
    "d1 = data.table(expand.grid(correct_taxonomy_tools, communities))\n",
    "setnames(d1, c('tool', 'community'))\n",
    "d1[1:3]"
   ]
  },
  {
   "cell_type": "code",
   "execution_count": 6,
   "metadata": {
    "execution": {
     "iopub.execute_input": "2023-07-09T21:42:01.771260Z",
     "iopub.status.busy": "2023-07-09T21:42:01.770397Z",
     "iopub.status.idle": "2023-07-09T21:42:01.850051Z",
     "shell.execute_reply": "2023-07-09T21:42:01.848909Z"
    },
    "vscode": {
     "languageId": "r"
    }
   },
   "outputs": [
    {
     "data": {
      "text/html": [
       "<table class=\"dataframe\">\n",
       "<caption>A data.table: 3 × 7</caption>\n",
       "<thead>\n",
       "\t<tr><th scope=col>tool</th><th scope=col>community</th><th scope=col>tool</th><th scope=col>rank</th><th scope=col>metric</th><th scope=col>sample</th><th scope=col>value</th></tr>\n",
       "\t<tr><th scope=col>&lt;fct&gt;</th><th scope=col>&lt;fct&gt;</th><th scope=col>&lt;chr&gt;</th><th scope=col>&lt;chr&gt;</th><th scope=col>&lt;chr&gt;</th><th scope=col>&lt;chr&gt;</th><th scope=col>&lt;dbl&gt;</th></tr>\n",
       "</thead>\n",
       "<tbody>\n",
       "\t<tr><td>singlem</td><td>marine0</td><td>Gold standard</td><td>kingdom</td><td>Bray-Curtis distance</td><td>SAMPLEID</td><td>0</td></tr>\n",
       "\t<tr><td>singlem</td><td>marine0</td><td>Gold standard</td><td>phylum </td><td>Bray-Curtis distance</td><td>SAMPLEID</td><td>0</td></tr>\n",
       "\t<tr><td>singlem</td><td>marine0</td><td>Gold standard</td><td>class  </td><td>Bray-Curtis distance</td><td>SAMPLEID</td><td>0</td></tr>\n",
       "</tbody>\n",
       "</table>\n"
      ],
      "text/latex": [
       "A data.table: 3 × 7\n",
       "\\begin{tabular}{lllllll}\n",
       " tool & community & tool & rank & metric & sample & value\\\\\n",
       " <fct> & <fct> & <chr> & <chr> & <chr> & <chr> & <dbl>\\\\\n",
       "\\hline\n",
       "\t singlem & marine0 & Gold standard & kingdom & Bray-Curtis distance & SAMPLEID & 0\\\\\n",
       "\t singlem & marine0 & Gold standard & phylum  & Bray-Curtis distance & SAMPLEID & 0\\\\\n",
       "\t singlem & marine0 & Gold standard & class   & Bray-Curtis distance & SAMPLEID & 0\\\\\n",
       "\\end{tabular}\n"
      ],
      "text/markdown": [
       "\n",
       "A data.table: 3 × 7\n",
       "\n",
       "| tool &lt;fct&gt; | community &lt;fct&gt; | tool &lt;chr&gt; | rank &lt;chr&gt; | metric &lt;chr&gt; | sample &lt;chr&gt; | value &lt;dbl&gt; |\n",
       "|---|---|---|---|---|---|---|\n",
       "| singlem | marine0 | Gold standard | kingdom | Bray-Curtis distance | SAMPLEID | 0 |\n",
       "| singlem | marine0 | Gold standard | phylum  | Bray-Curtis distance | SAMPLEID | 0 |\n",
       "| singlem | marine0 | Gold standard | class   | Bray-Curtis distance | SAMPLEID | 0 |\n",
       "\n"
      ],
      "text/plain": [
       "  tool    community tool          rank    metric               sample   value\n",
       "1 singlem marine0   Gold standard kingdom Bray-Curtis distance SAMPLEID 0    \n",
       "2 singlem marine0   Gold standard phylum  Bray-Curtis distance SAMPLEID 0    \n",
       "3 singlem marine0   Gold standard class   Bray-Curtis distance SAMPLEID 0    "
      ]
     },
     "metadata": {},
     "output_type": "display_data"
    }
   ],
   "source": [
    "# output_singlem/opal/GCA_022615805.1_genomic.opal_report\n",
    "readit = function(tool, community){\n",
    "    to_read = paste('output_',tool,sep='','/opal/',community,'.opal_report')\n",
    "    # print(to_read)\n",
    "    return(fread(to_read))\n",
    "}\n",
    "d2 = d1[, readit(tool, community), by=list(tool,community)]\n",
    "d2[1:3]"
   ]
  },
  {
   "cell_type": "code",
   "execution_count": 7,
   "metadata": {
    "execution": {
     "iopub.execute_input": "2023-07-09T21:42:01.853835Z",
     "iopub.status.busy": "2023-07-09T21:42:01.852964Z",
     "iopub.status.idle": "2023-07-09T21:42:01.862511Z",
     "shell.execute_reply": "2023-07-09T21:42:01.861423Z"
    },
    "vscode": {
     "languageId": "r"
    }
   },
   "outputs": [
    {
     "data": {
      "text/html": [
       "<style>\n",
       ".list-inline {list-style: none; margin:0; padding: 0}\n",
       ".list-inline>li {display: inline-block}\n",
       ".list-inline>li:not(:last-child)::after {content: \"\\00b7\"; padding: 0 .5ex}\n",
       "</style>\n",
       "<ol class=list-inline><li>9100</li><li>7</li></ol>\n"
      ],
      "text/latex": [
       "\\begin{enumerate*}\n",
       "\\item 9100\n",
       "\\item 7\n",
       "\\end{enumerate*}\n"
      ],
      "text/markdown": [
       "1. 9100\n",
       "2. 7\n",
       "\n",
       "\n"
      ],
      "text/plain": [
       "[1] 9100    7"
      ]
     },
     "metadata": {},
     "output_type": "display_data"
    }
   ],
   "source": [
    "dim(d2)"
   ]
  },
  {
   "cell_type": "code",
   "execution_count": 8,
   "metadata": {
    "execution": {
     "iopub.execute_input": "2023-07-09T21:42:01.865572Z",
     "iopub.status.busy": "2023-07-09T21:42:01.864698Z",
     "iopub.status.idle": "2023-07-09T21:42:01.885555Z",
     "shell.execute_reply": "2023-07-09T21:42:01.884409Z"
    },
    "vscode": {
     "languageId": "r"
    }
   },
   "outputs": [
    {
     "data": {
      "text/html": [
       "<table class=\"dataframe\">\n",
       "<caption>A data.table: 3 × 5</caption>\n",
       "<thead>\n",
       "\t<tr><th scope=col>tool</th><th scope=col>community</th><th scope=col>rank</th><th scope=col>metric</th><th scope=col>value</th></tr>\n",
       "\t<tr><th scope=col>&lt;fct&gt;</th><th scope=col>&lt;fct&gt;</th><th scope=col>&lt;chr&gt;</th><th scope=col>&lt;chr&gt;</th><th scope=col>&lt;dbl&gt;</th></tr>\n",
       "</thead>\n",
       "<tbody>\n",
       "\t<tr><td>singlem</td><td>marine0</td><td>kingdom</td><td>Bray-Curtis distance</td><td>0.001003460</td></tr>\n",
       "\t<tr><td>singlem</td><td>marine0</td><td>phylum </td><td>Bray-Curtis distance</td><td>0.007422594</td></tr>\n",
       "\t<tr><td>singlem</td><td>marine0</td><td>class  </td><td>Bray-Curtis distance</td><td>0.009349926</td></tr>\n",
       "</tbody>\n",
       "</table>\n"
      ],
      "text/latex": [
       "A data.table: 3 × 5\n",
       "\\begin{tabular}{lllll}\n",
       " tool & community & rank & metric & value\\\\\n",
       " <fct> & <fct> & <chr> & <chr> & <dbl>\\\\\n",
       "\\hline\n",
       "\t singlem & marine0 & kingdom & Bray-Curtis distance & 0.001003460\\\\\n",
       "\t singlem & marine0 & phylum  & Bray-Curtis distance & 0.007422594\\\\\n",
       "\t singlem & marine0 & class   & Bray-Curtis distance & 0.009349926\\\\\n",
       "\\end{tabular}\n"
      ],
      "text/markdown": [
       "\n",
       "A data.table: 3 × 5\n",
       "\n",
       "| tool &lt;fct&gt; | community &lt;fct&gt; | rank &lt;chr&gt; | metric &lt;chr&gt; | value &lt;dbl&gt; |\n",
       "|---|---|---|---|---|\n",
       "| singlem | marine0 | kingdom | Bray-Curtis distance | 0.001003460 |\n",
       "| singlem | marine0 | phylum  | Bray-Curtis distance | 0.007422594 |\n",
       "| singlem | marine0 | class   | Bray-Curtis distance | 0.009349926 |\n",
       "\n"
      ],
      "text/plain": [
       "  tool    community rank    metric               value      \n",
       "1 singlem marine0   kingdom Bray-Curtis distance 0.001003460\n",
       "2 singlem marine0   phylum  Bray-Curtis distance 0.007422594\n",
       "3 singlem marine0   class   Bray-Curtis distance 0.009349926"
      ]
     },
     "metadata": {},
     "output_type": "display_data"
    },
    {
     "data": {
      "text/html": [
       "<style>\n",
       ".list-inline {list-style: none; margin:0; padding: 0}\n",
       ".list-inline>li {display: inline-block}\n",
       ".list-inline>li:not(:last-child)::after {content: \"\\00b7\"; padding: 0 .5ex}\n",
       "</style>\n",
       "<ol class=list-inline><li>4550</li><li>5</li></ol>\n"
      ],
      "text/latex": [
       "\\begin{enumerate*}\n",
       "\\item 4550\n",
       "\\item 5\n",
       "\\end{enumerate*}\n"
      ],
      "text/markdown": [
       "1. 4550\n",
       "2. 5\n",
       "\n",
       "\n"
      ],
      "text/plain": [
       "[1] 4550    5"
      ]
     },
     "metadata": {},
     "output_type": "display_data"
    }
   ],
   "source": [
    "setnames(d2, c('tool','community','blah','rank','metric','sample','value'))\n",
    "d3 = d2[blah != 'Gold standard'][,.(tool, community, rank, metric, value)]\n",
    "d3[1:3]\n",
    "dim(d3)"
   ]
  },
  {
   "cell_type": "code",
   "execution_count": 9,
   "metadata": {
    "execution": {
     "iopub.execute_input": "2023-07-09T21:42:01.888714Z",
     "iopub.status.busy": "2023-07-09T21:42:01.887801Z",
     "iopub.status.idle": "2023-07-09T21:42:01.914688Z",
     "shell.execute_reply": "2023-07-09T21:42:01.913488Z"
    },
    "vscode": {
     "languageId": "r"
    }
   },
   "outputs": [
    {
     "data": {
      "text/html": [
       "<style>\n",
       ".list-inline {list-style: none; margin:0; padding: 0}\n",
       ".list-inline>li {display: inline-block}\n",
       ".list-inline>li:not(:last-child)::after {content: \"\\00b7\"; padding: 0 .5ex}\n",
       "</style>\n",
       "<ol class=list-inline><li>350</li><li>5</li></ol>\n"
      ],
      "text/latex": [
       "\\begin{enumerate*}\n",
       "\\item 350\n",
       "\\item 5\n",
       "\\end{enumerate*}\n"
      ],
      "text/markdown": [
       "1. 350\n",
       "2. 5\n",
       "\n",
       "\n"
      ],
      "text/plain": [
       "[1] 350   5"
      ]
     },
     "metadata": {},
     "output_type": "display_data"
    },
    {
     "data": {
      "text/html": [
       "<table class=\"dataframe\">\n",
       "<caption>A data.table: 10 × 5</caption>\n",
       "<thead>\n",
       "\t<tr><th scope=col>tool</th><th scope=col>community</th><th scope=col>rank</th><th scope=col>metric</th><th scope=col>value</th></tr>\n",
       "\t<tr><th scope=col>&lt;fct&gt;</th><th scope=col>&lt;fct&gt;</th><th scope=col>&lt;chr&gt;</th><th scope=col>&lt;chr&gt;</th><th scope=col>&lt;dbl&gt;</th></tr>\n",
       "</thead>\n",
       "<tbody>\n",
       "\t<tr><td>singlem  </td><td>marine0</td><td>kingdom</td><td>Bray-Curtis distance</td><td>0.001003460</td></tr>\n",
       "\t<tr><td>singlem  </td><td>marine0</td><td>phylum </td><td>Bray-Curtis distance</td><td>0.007422594</td></tr>\n",
       "\t<tr><td>singlem  </td><td>marine0</td><td>class  </td><td>Bray-Curtis distance</td><td>0.009349926</td></tr>\n",
       "\t<tr><td>singlem  </td><td>marine0</td><td>order  </td><td>Bray-Curtis distance</td><td>0.018814001</td></tr>\n",
       "\t<tr><td>singlem  </td><td>marine0</td><td>family </td><td>Bray-Curtis distance</td><td>0.025485587</td></tr>\n",
       "\t<tr><td>singlem  </td><td>marine0</td><td>genus  </td><td>Bray-Curtis distance</td><td>0.039697274</td></tr>\n",
       "\t<tr><td>singlem  </td><td>marine0</td><td>species</td><td>Bray-Curtis distance</td><td>0.149309468</td></tr>\n",
       "\t<tr><td>metaphlan</td><td>marine0</td><td>kingdom</td><td>Bray-Curtis distance</td><td>0.008001919</td></tr>\n",
       "\t<tr><td>metaphlan</td><td>marine0</td><td>phylum </td><td>Bray-Curtis distance</td><td>0.019410133</td></tr>\n",
       "\t<tr><td>metaphlan</td><td>marine0</td><td>class  </td><td>Bray-Curtis distance</td><td>0.023148599</td></tr>\n",
       "</tbody>\n",
       "</table>\n"
      ],
      "text/latex": [
       "A data.table: 10 × 5\n",
       "\\begin{tabular}{lllll}\n",
       " tool & community & rank & metric & value\\\\\n",
       " <fct> & <fct> & <chr> & <chr> & <dbl>\\\\\n",
       "\\hline\n",
       "\t singlem   & marine0 & kingdom & Bray-Curtis distance & 0.001003460\\\\\n",
       "\t singlem   & marine0 & phylum  & Bray-Curtis distance & 0.007422594\\\\\n",
       "\t singlem   & marine0 & class   & Bray-Curtis distance & 0.009349926\\\\\n",
       "\t singlem   & marine0 & order   & Bray-Curtis distance & 0.018814001\\\\\n",
       "\t singlem   & marine0 & family  & Bray-Curtis distance & 0.025485587\\\\\n",
       "\t singlem   & marine0 & genus   & Bray-Curtis distance & 0.039697274\\\\\n",
       "\t singlem   & marine0 & species & Bray-Curtis distance & 0.149309468\\\\\n",
       "\t metaphlan & marine0 & kingdom & Bray-Curtis distance & 0.008001919\\\\\n",
       "\t metaphlan & marine0 & phylum  & Bray-Curtis distance & 0.019410133\\\\\n",
       "\t metaphlan & marine0 & class   & Bray-Curtis distance & 0.023148599\\\\\n",
       "\\end{tabular}\n"
      ],
      "text/markdown": [
       "\n",
       "A data.table: 10 × 5\n",
       "\n",
       "| tool &lt;fct&gt; | community &lt;fct&gt; | rank &lt;chr&gt; | metric &lt;chr&gt; | value &lt;dbl&gt; |\n",
       "|---|---|---|---|---|\n",
       "| singlem   | marine0 | kingdom | Bray-Curtis distance | 0.001003460 |\n",
       "| singlem   | marine0 | phylum  | Bray-Curtis distance | 0.007422594 |\n",
       "| singlem   | marine0 | class   | Bray-Curtis distance | 0.009349926 |\n",
       "| singlem   | marine0 | order   | Bray-Curtis distance | 0.018814001 |\n",
       "| singlem   | marine0 | family  | Bray-Curtis distance | 0.025485587 |\n",
       "| singlem   | marine0 | genus   | Bray-Curtis distance | 0.039697274 |\n",
       "| singlem   | marine0 | species | Bray-Curtis distance | 0.149309468 |\n",
       "| metaphlan | marine0 | kingdom | Bray-Curtis distance | 0.008001919 |\n",
       "| metaphlan | marine0 | phylum  | Bray-Curtis distance | 0.019410133 |\n",
       "| metaphlan | marine0 | class   | Bray-Curtis distance | 0.023148599 |\n",
       "\n"
      ],
      "text/plain": [
       "   tool      community rank    metric               value      \n",
       "1  singlem   marine0   kingdom Bray-Curtis distance 0.001003460\n",
       "2  singlem   marine0   phylum  Bray-Curtis distance 0.007422594\n",
       "3  singlem   marine0   class   Bray-Curtis distance 0.009349926\n",
       "4  singlem   marine0   order   Bray-Curtis distance 0.018814001\n",
       "5  singlem   marine0   family  Bray-Curtis distance 0.025485587\n",
       "6  singlem   marine0   genus   Bray-Curtis distance 0.039697274\n",
       "7  singlem   marine0   species Bray-Curtis distance 0.149309468\n",
       "8  metaphlan marine0   kingdom Bray-Curtis distance 0.008001919\n",
       "9  metaphlan marine0   phylum  Bray-Curtis distance 0.019410133\n",
       "10 metaphlan marine0   class   Bray-Curtis distance 0.023148599"
      ]
     },
     "metadata": {},
     "output_type": "display_data"
    }
   ],
   "source": [
    "bc = d3[metric=='Bray-Curtis distance']\n",
    "dim(bc)\n",
    "bc[1:10]"
   ]
  },
  {
   "cell_type": "code",
   "execution_count": 10,
   "metadata": {
    "execution": {
     "iopub.execute_input": "2023-07-09T21:42:01.918323Z",
     "iopub.status.busy": "2023-07-09T21:42:01.917425Z",
     "iopub.status.idle": "2023-07-09T21:42:01.933757Z",
     "shell.execute_reply": "2023-07-09T21:42:01.932655Z"
    },
    "vscode": {
     "languageId": "r"
    }
   },
   "outputs": [
    {
     "data": {
      "text/html": [
       "<table class=\"dataframe\">\n",
       "<caption>A data.table: 3 × 5</caption>\n",
       "<thead>\n",
       "\t<tr><th scope=col>tool</th><th scope=col>community</th><th scope=col>rank</th><th scope=col>metric</th><th scope=col>value</th></tr>\n",
       "\t<tr><th scope=col>&lt;fct&gt;</th><th scope=col>&lt;fct&gt;</th><th scope=col>&lt;fct&gt;</th><th scope=col>&lt;chr&gt;</th><th scope=col>&lt;dbl&gt;</th></tr>\n",
       "</thead>\n",
       "<tbody>\n",
       "\t<tr><td>singlem</td><td>marine0</td><td>kingdom</td><td>Bray-Curtis distance</td><td>0.001003460</td></tr>\n",
       "\t<tr><td>singlem</td><td>marine0</td><td>phylum </td><td>Bray-Curtis distance</td><td>0.007422594</td></tr>\n",
       "\t<tr><td>singlem</td><td>marine0</td><td>class  </td><td>Bray-Curtis distance</td><td>0.009349926</td></tr>\n",
       "</tbody>\n",
       "</table>\n"
      ],
      "text/latex": [
       "A data.table: 3 × 5\n",
       "\\begin{tabular}{lllll}\n",
       " tool & community & rank & metric & value\\\\\n",
       " <fct> & <fct> & <fct> & <chr> & <dbl>\\\\\n",
       "\\hline\n",
       "\t singlem & marine0 & kingdom & Bray-Curtis distance & 0.001003460\\\\\n",
       "\t singlem & marine0 & phylum  & Bray-Curtis distance & 0.007422594\\\\\n",
       "\t singlem & marine0 & class   & Bray-Curtis distance & 0.009349926\\\\\n",
       "\\end{tabular}\n"
      ],
      "text/markdown": [
       "\n",
       "A data.table: 3 × 5\n",
       "\n",
       "| tool &lt;fct&gt; | community &lt;fct&gt; | rank &lt;fct&gt; | metric &lt;chr&gt; | value &lt;dbl&gt; |\n",
       "|---|---|---|---|---|\n",
       "| singlem | marine0 | kingdom | Bray-Curtis distance | 0.001003460 |\n",
       "| singlem | marine0 | phylum  | Bray-Curtis distance | 0.007422594 |\n",
       "| singlem | marine0 | class   | Bray-Curtis distance | 0.009349926 |\n",
       "\n"
      ],
      "text/plain": [
       "  tool    community rank    metric               value      \n",
       "1 singlem marine0   kingdom Bray-Curtis distance 0.001003460\n",
       "2 singlem marine0   phylum  Bray-Curtis distance 0.007422594\n",
       "3 singlem marine0   class   Bray-Curtis distance 0.009349926"
      ]
     },
     "metadata": {},
     "output_type": "display_data"
    }
   ],
   "source": [
    "orders = c('kingdom','phylum','class','order','family','genus','species')\n",
    "bc[, rank := factor(rank, levels=orders)]\n",
    "bc[1:3]"
   ]
  },
  {
   "cell_type": "code",
   "execution_count": 11,
   "metadata": {
    "execution": {
     "iopub.execute_input": "2023-07-09T21:42:01.937334Z",
     "iopub.status.busy": "2023-07-09T21:42:01.936461Z",
     "iopub.status.idle": "2023-07-09T21:42:02.010878Z",
     "shell.execute_reply": "2023-07-09T21:42:02.008224Z"
    },
    "vscode": {
     "languageId": "r"
    }
   },
   "outputs": [
    {
     "data": {
      "text/html": [
       "<table class=\"dataframe\">\n",
       "<caption>A data.table: 5 × 2</caption>\n",
       "<thead>\n",
       "\t<tr><th scope=col>tool</th><th scope=col>V1</th></tr>\n",
       "\t<tr><th scope=col>&lt;fct&gt;</th><th scope=col>&lt;dbl&gt;</th></tr>\n",
       "</thead>\n",
       "<tbody>\n",
       "\t<tr><td>singlem  </td><td>0.03914333</td></tr>\n",
       "\t<tr><td>metaphlan</td><td>0.04414917</td></tr>\n",
       "\t<tr><td>kraken   </td><td>0.12923947</td></tr>\n",
       "\t<tr><td>sourmash </td><td>0.13383459</td></tr>\n",
       "\t<tr><td>metabuli </td><td>0.16727833</td></tr>\n",
       "</tbody>\n",
       "</table>\n"
      ],
      "text/latex": [
       "A data.table: 5 × 2\n",
       "\\begin{tabular}{ll}\n",
       " tool & V1\\\\\n",
       " <fct> & <dbl>\\\\\n",
       "\\hline\n",
       "\t singlem   & 0.03914333\\\\\n",
       "\t metaphlan & 0.04414917\\\\\n",
       "\t kraken    & 0.12923947\\\\\n",
       "\t sourmash  & 0.13383459\\\\\n",
       "\t metabuli  & 0.16727833\\\\\n",
       "\\end{tabular}\n"
      ],
      "text/markdown": [
       "\n",
       "A data.table: 5 × 2\n",
       "\n",
       "| tool &lt;fct&gt; | V1 &lt;dbl&gt; |\n",
       "|---|---|\n",
       "| singlem   | 0.03914333 |\n",
       "| metaphlan | 0.04414917 |\n",
       "| kraken    | 0.12923947 |\n",
       "| sourmash  | 0.13383459 |\n",
       "| metabuli  | 0.16727833 |\n",
       "\n"
      ],
      "text/plain": [
       "  tool      V1        \n",
       "1 singlem   0.03914333\n",
       "2 metaphlan 0.04414917\n",
       "3 kraken    0.12923947\n",
       "4 sourmash  0.13383459\n",
       "5 metabuli  0.16727833"
      ]
     },
     "metadata": {},
     "output_type": "display_data"
    }
   ],
   "source": [
    "average_bc = bc[tool %in% correct_taxonomy_tools][, mean(value), by=list(tool)][order(V1)]\n",
    "average_bc"
   ]
  },
  {
   "cell_type": "code",
   "execution_count": 12,
   "metadata": {
    "execution": {
     "iopub.execute_input": "2023-07-09T21:42:02.015466Z",
     "iopub.status.busy": "2023-07-09T21:42:02.014530Z",
     "iopub.status.idle": "2023-07-09T21:42:02.984473Z",
     "shell.execute_reply": "2023-07-09T21:42:02.983211Z"
    },
    "vscode": {
     "languageId": "r"
    }
   },
   "outputs": [],
   "source": [
    "bcc = bc[tool %in% correct_taxonomy_tools]\n",
    "bcc[, tool2 := name_to_publication_name(tool, correct_taxonomy_only=T)]"
   ]
  },
  {
   "cell_type": "code",
   "execution_count": 13,
   "metadata": {
    "vscode": {
     "languageId": "r"
    }
   },
   "outputs": [
    {
     "name": "stderr",
     "output_type": "stream",
     "text": [
      "Warning message:\n",
      "“\u001b[1m\u001b[22m`qplot()` was deprecated in ggplot2 3.4.0.”\n",
      "Warning message:\n",
      "“\u001b[1m\u001b[22mThe `size` argument of `element_rect()` is deprecated as of ggplot2 3.4.0.\n",
      "\u001b[36mℹ\u001b[39m Please use the `linewidth` argument instead.”\n"
     ]
    },
    {
     "data": {
      "image/png": "[encoded data removed]",
      "text/plain": [
       "plot without title"
      ]
     },
     "metadata": {
      "image/png": {
       "height": 420,
       "width": 420
      }
     },
     "output_type": "display_data"
    }
   ],
   "source": [
    "# Remove figure legend title, and put the legend in bottom left of plot, with a bounding box\n",
    "qplot(data=bcc, rank, value, ylim=c(0.6,0), geom='boxplot', colour=tool, ylab='Bray-Curtis dissimilarity') + theme(axis.text.x = element_text(angle = 45, hjust = 1))+theme(legend.title=element_blank()) + theme(legend.position=c(0.2,0.2)) + theme(legend.background = element_rect(colour = \"black\", size = 0.3))"
   ]
  },
  {
   "cell_type": "code",
   "execution_count": 14,
   "metadata": {
    "execution": {
     "iopub.execute_input": "2023-07-09T21:42:02.989007Z",
     "iopub.status.busy": "2023-07-09T21:42:02.987975Z",
     "iopub.status.idle": "2023-07-09T21:42:03.051882Z",
     "shell.execute_reply": "2023-07-09T21:42:03.050584Z"
    },
    "vscode": {
     "languageId": "r"
    }
   },
   "outputs": [
    {
     "data": {
      "text/html": [
       "<table class=\"dataframe\">\n",
       "<caption>A data.table: 5 × 2</caption>\n",
       "<thead>\n",
       "\t<tr><th scope=col>tool</th><th scope=col>V1</th></tr>\n",
       "\t<tr><th scope=col>&lt;fct&gt;</th><th scope=col>&lt;dbl&gt;</th></tr>\n",
       "</thead>\n",
       "<tbody>\n",
       "\t<tr><td>metabuli </td><td>0.42614009</td></tr>\n",
       "\t<tr><td>sourmash </td><td>0.23753515</td></tr>\n",
       "\t<tr><td>kraken   </td><td>0.20172044</td></tr>\n",
       "\t<tr><td>singlem  </td><td>0.16755522</td></tr>\n",
       "\t<tr><td>metaphlan</td><td>0.08452814</td></tr>\n",
       "</tbody>\n",
       "</table>\n"
      ],
      "text/latex": [
       "A data.table: 5 × 2\n",
       "\\begin{tabular}{ll}\n",
       " tool & V1\\\\\n",
       " <fct> & <dbl>\\\\\n",
       "\\hline\n",
       "\t metabuli  & 0.42614009\\\\\n",
       "\t sourmash  & 0.23753515\\\\\n",
       "\t kraken    & 0.20172044\\\\\n",
       "\t singlem   & 0.16755522\\\\\n",
       "\t metaphlan & 0.08452814\\\\\n",
       "\\end{tabular}\n"
      ],
      "text/markdown": [
       "\n",
       "A data.table: 5 × 2\n",
       "\n",
       "| tool &lt;fct&gt; | V1 &lt;dbl&gt; |\n",
       "|---|---|\n",
       "| metabuli  | 0.42614009 |\n",
       "| sourmash  | 0.23753515 |\n",
       "| kraken    | 0.20172044 |\n",
       "| singlem   | 0.16755522 |\n",
       "| metaphlan | 0.08452814 |\n",
       "\n"
      ],
      "text/plain": [
       "  tool      V1        \n",
       "1 metabuli  0.42614009\n",
       "2 sourmash  0.23753515\n",
       "3 kraken    0.20172044\n",
       "4 singlem   0.16755522\n",
       "5 metaphlan 0.08452814"
      ]
     },
     "metadata": {},
     "output_type": "display_data"
    },
    {
     "data": {
      "text/html": [
       "0.0830270825817057"
      ],
      "text/latex": [
       "0.0830270825817057"
      ],
      "text/markdown": [
       "0.0830270825817057"
      ],
      "text/plain": [
       "[1] 0.08302708"
      ]
     },
     "metadata": {},
     "output_type": "display_data"
    }
   ],
   "source": [
    "# How much better is singlem than the next best tool?\n",
    "means = bcc[rank=='species', mean(value), by=tool][order(-V1)]\n",
    "means\n",
    "means[tool=='singlem', V1] - means[tool!='singlem', min(V1)]"
   ]
  },
  {
   "cell_type": "code",
   "execution_count": 15,
   "metadata": {
    "execution": {
     "iopub.execute_input": "2023-07-09T21:42:03.055887Z",
     "iopub.status.busy": "2023-07-09T21:42:03.054867Z",
     "iopub.status.idle": "2023-07-09T21:42:03.069914Z",
     "shell.execute_reply": "2023-07-09T21:42:03.068621Z"
    },
    "vscode": {
     "languageId": "r"
    }
   },
   "outputs": [],
   "source": [
    "# write out bc\n",
    "fwrite(d3, 'accuracy_results.csv', sep='\\t')"
   ]
  },
  {
   "cell_type": "code",
   "execution_count": 16,
   "metadata": {
    "vscode": {
     "languageId": "r"
    }
   },
   "outputs": [
    {
     "data": {
      "text/html": [
       "<table class=\"dataframe\">\n",
       "<caption>A data.table: 5 × 2</caption>\n",
       "<thead>\n",
       "\t<tr><th scope=col>tool</th><th scope=col>V1</th></tr>\n",
       "\t<tr><th scope=col>&lt;fct&gt;</th><th scope=col>&lt;dbl&gt;</th></tr>\n",
       "</thead>\n",
       "<tbody>\n",
       "\t<tr><td>sourmash </td><td>0.19606085</td></tr>\n",
       "\t<tr><td>metabuli </td><td>0.18741800</td></tr>\n",
       "\t<tr><td>kraken   </td><td>0.17155405</td></tr>\n",
       "\t<tr><td>metaphlan</td><td>0.06277543</td></tr>\n",
       "\t<tr><td>singlem  </td><td>0.04135619</td></tr>\n",
       "</tbody>\n",
       "</table>\n"
      ],
      "text/latex": [
       "A data.table: 5 × 2\n",
       "\\begin{tabular}{ll}\n",
       " tool & V1\\\\\n",
       " <fct> & <dbl>\\\\\n",
       "\\hline\n",
       "\t sourmash  & 0.19606085\\\\\n",
       "\t metabuli  & 0.18741800\\\\\n",
       "\t kraken    & 0.17155405\\\\\n",
       "\t metaphlan & 0.06277543\\\\\n",
       "\t singlem   & 0.04135619\\\\\n",
       "\\end{tabular}\n"
      ],
      "text/markdown": [
       "\n",
       "A data.table: 5 × 2\n",
       "\n",
       "| tool &lt;fct&gt; | V1 &lt;dbl&gt; |\n",
       "|---|---|\n",
       "| sourmash  | 0.19606085 |\n",
       "| metabuli  | 0.18741800 |\n",
       "| kraken    | 0.17155405 |\n",
       "| metaphlan | 0.06277543 |\n",
       "| singlem   | 0.04135619 |\n",
       "\n"
      ],
      "text/plain": [
       "  tool      V1        \n",
       "1 sourmash  0.19606085\n",
       "2 metabuli  0.18741800\n",
       "3 kraken    0.17155405\n",
       "4 metaphlan 0.06277543\n",
       "5 singlem   0.04135619"
      ]
     },
     "metadata": {},
     "output_type": "display_data"
    }
   ],
   "source": [
    "d3[metric=='Bray-Curtis distance'][rank=='genus'][,.(mean(value)), by=.(tool)][order(-V1)]"
   ]
  },
  {
   "cell_type": "code",
   "execution_count": 17,
   "metadata": {
    "vscode": {
     "languageId": "r"
    }
   },
   "outputs": [
    {
     "data": {
      "text/html": [
       "<table class=\"dataframe\">\n",
       "<caption>A data.table: 5 × 2</caption>\n",
       "<thead>\n",
       "\t<tr><th scope=col>tool</th><th scope=col>V1</th></tr>\n",
       "\t<tr><th scope=col>&lt;fct&gt;</th><th scope=col>&lt;dbl&gt;</th></tr>\n",
       "</thead>\n",
       "<tbody>\n",
       "\t<tr><td>metaphlan</td><td>0.9257511</td></tr>\n",
       "\t<tr><td>singlem  </td><td>0.7157610</td></tr>\n",
       "\t<tr><td>sourmash </td><td>0.5392531</td></tr>\n",
       "\t<tr><td>kraken   </td><td>0.3369859</td></tr>\n",
       "\t<tr><td>metabuli </td><td>0.1213895</td></tr>\n",
       "</tbody>\n",
       "</table>\n"
      ],
      "text/latex": [
       "A data.table: 5 × 2\n",
       "\\begin{tabular}{ll}\n",
       " tool & V1\\\\\n",
       " <fct> & <dbl>\\\\\n",
       "\\hline\n",
       "\t metaphlan & 0.9257511\\\\\n",
       "\t singlem   & 0.7157610\\\\\n",
       "\t sourmash  & 0.5392531\\\\\n",
       "\t kraken    & 0.3369859\\\\\n",
       "\t metabuli  & 0.1213895\\\\\n",
       "\\end{tabular}\n"
      ],
      "text/markdown": [
       "\n",
       "A data.table: 5 × 2\n",
       "\n",
       "| tool &lt;fct&gt; | V1 &lt;dbl&gt; |\n",
       "|---|---|\n",
       "| metaphlan | 0.9257511 |\n",
       "| singlem   | 0.7157610 |\n",
       "| sourmash  | 0.5392531 |\n",
       "| kraken    | 0.3369859 |\n",
       "| metabuli  | 0.1213895 |\n",
       "\n"
      ],
      "text/plain": [
       "  tool      V1       \n",
       "1 metaphlan 0.9257511\n",
       "2 singlem   0.7157610\n",
       "3 sourmash  0.5392531\n",
       "4 kraken    0.3369859\n",
       "5 metabuli  0.1213895"
      ]
     },
     "metadata": {},
     "output_type": "display_data"
    }
   ],
   "source": [
    "d3[metric=='F1 score'][rank=='species'][,.(mean(value)), by=.(tool)][order(-V1)]"
   ]
  },
  {
   "cell_type": "code",
   "execution_count": 18,
   "metadata": {
    "vscode": {
     "languageId": "r"
    }
   },
   "outputs": [
    {
     "data": {
      "text/html": [
       "<table class=\"dataframe\">\n",
       "<caption>A data.table: 5 × 2</caption>\n",
       "<thead>\n",
       "\t<tr><th scope=col>tool</th><th scope=col>V1</th></tr>\n",
       "\t<tr><th scope=col>&lt;fct&gt;</th><th scope=col>&lt;dbl&gt;</th></tr>\n",
       "</thead>\n",
       "<tbody>\n",
       "\t<tr><td>metaphlan</td><td>0.9754939</td></tr>\n",
       "\t<tr><td>singlem  </td><td>0.8663457</td></tr>\n",
       "\t<tr><td>kraken   </td><td>0.6384775</td></tr>\n",
       "\t<tr><td>sourmash </td><td>0.6133644</td></tr>\n",
       "\t<tr><td>metabuli </td><td>0.2191415</td></tr>\n",
       "</tbody>\n",
       "</table>\n"
      ],
      "text/latex": [
       "A data.table: 5 × 2\n",
       "\\begin{tabular}{ll}\n",
       " tool & V1\\\\\n",
       " <fct> & <dbl>\\\\\n",
       "\\hline\n",
       "\t metaphlan & 0.9754939\\\\\n",
       "\t singlem   & 0.8663457\\\\\n",
       "\t kraken    & 0.6384775\\\\\n",
       "\t sourmash  & 0.6133644\\\\\n",
       "\t metabuli  & 0.2191415\\\\\n",
       "\\end{tabular}\n"
      ],
      "text/markdown": [
       "\n",
       "A data.table: 5 × 2\n",
       "\n",
       "| tool &lt;fct&gt; | V1 &lt;dbl&gt; |\n",
       "|---|---|\n",
       "| metaphlan | 0.9754939 |\n",
       "| singlem   | 0.8663457 |\n",
       "| kraken    | 0.6384775 |\n",
       "| sourmash  | 0.6133644 |\n",
       "| metabuli  | 0.2191415 |\n",
       "\n"
      ],
      "text/plain": [
       "  tool      V1       \n",
       "1 metaphlan 0.9754939\n",
       "2 singlem   0.8663457\n",
       "3 kraken    0.6384775\n",
       "4 sourmash  0.6133644\n",
       "5 metabuli  0.2191415"
      ]
     },
     "metadata": {},
     "output_type": "display_data"
    }
   ],
   "source": [
    "d3[metric=='F1 score'][rank=='genus'][,.(mean(value)), by=.(tool)][order(-V1)]"
   ]
  },
  {
   "cell_type": "code",
   "execution_count": 19,
   "metadata": {
    "vscode": {
     "languageId": "r"
    }
   },
   "outputs": [
    {
     "data": {
      "text/html": [
       "<table class=\"dataframe\">\n",
       "<caption>A data.table: 5 × 2</caption>\n",
       "<thead>\n",
       "\t<tr><th scope=col>tool</th><th scope=col>V1</th></tr>\n",
       "\t<tr><th scope=col>&lt;fct&gt;</th><th scope=col>&lt;dbl&gt;</th></tr>\n",
       "</thead>\n",
       "<tbody>\n",
       "\t<tr><td>sourmash </td><td>0.9626887</td></tr>\n",
       "\t<tr><td>singlem  </td><td>0.9622377</td></tr>\n",
       "\t<tr><td>metaphlan</td><td>0.9444546</td></tr>\n",
       "\t<tr><td>kraken   </td><td>0.2037769</td></tr>\n",
       "\t<tr><td>metabuli </td><td>0.0672677</td></tr>\n",
       "</tbody>\n",
       "</table>\n"
      ],
      "text/latex": [
       "A data.table: 5 × 2\n",
       "\\begin{tabular}{ll}\n",
       " tool & V1\\\\\n",
       " <fct> & <dbl>\\\\\n",
       "\\hline\n",
       "\t sourmash  & 0.9626887\\\\\n",
       "\t singlem   & 0.9622377\\\\\n",
       "\t metaphlan & 0.9444546\\\\\n",
       "\t kraken    & 0.2037769\\\\\n",
       "\t metabuli  & 0.0672677\\\\\n",
       "\\end{tabular}\n"
      ],
      "text/markdown": [
       "\n",
       "A data.table: 5 × 2\n",
       "\n",
       "| tool &lt;fct&gt; | V1 &lt;dbl&gt; |\n",
       "|---|---|\n",
       "| sourmash  | 0.9626887 |\n",
       "| singlem   | 0.9622377 |\n",
       "| metaphlan | 0.9444546 |\n",
       "| kraken    | 0.2037769 |\n",
       "| metabuli  | 0.0672677 |\n",
       "\n"
      ],
      "text/plain": [
       "  tool      V1       \n",
       "1 sourmash  0.9626887\n",
       "2 singlem   0.9622377\n",
       "3 metaphlan 0.9444546\n",
       "4 kraken    0.2037769\n",
       "5 metabuli  0.0672677"
      ]
     },
     "metadata": {},
     "output_type": "display_data"
    }
   ],
   "source": [
    "d3[metric=='Purity'][rank=='species'][,.(mean(value)), by=.(tool)][order(-V1)]"
   ]
  },
  {
   "cell_type": "code",
   "execution_count": 20,
   "metadata": {
    "vscode": {
     "languageId": "r"
    }
   },
   "outputs": [
    {
     "data": {
      "text/html": [
       "<table class=\"dataframe\">\n",
       "<caption>A data.table: 5 × 2</caption>\n",
       "<thead>\n",
       "\t<tr><th scope=col>tool</th><th scope=col>V1</th></tr>\n",
       "\t<tr><th scope=col>&lt;fct&gt;</th><th scope=col>&lt;dbl&gt;</th></tr>\n",
       "</thead>\n",
       "<tbody>\n",
       "\t<tr><td>kraken   </td><td>0.9939173</td></tr>\n",
       "\t<tr><td>metaphlan</td><td>0.9078069</td></tr>\n",
       "\t<tr><td>metabuli </td><td>0.6309737</td></tr>\n",
       "\t<tr><td>singlem  </td><td>0.5712804</td></tr>\n",
       "\t<tr><td>sourmash </td><td>0.3758449</td></tr>\n",
       "</tbody>\n",
       "</table>\n"
      ],
      "text/latex": [
       "A data.table: 5 × 2\n",
       "\\begin{tabular}{ll}\n",
       " tool & V1\\\\\n",
       " <fct> & <dbl>\\\\\n",
       "\\hline\n",
       "\t kraken    & 0.9939173\\\\\n",
       "\t metaphlan & 0.9078069\\\\\n",
       "\t metabuli  & 0.6309737\\\\\n",
       "\t singlem   & 0.5712804\\\\\n",
       "\t sourmash  & 0.3758449\\\\\n",
       "\\end{tabular}\n"
      ],
      "text/markdown": [
       "\n",
       "A data.table: 5 × 2\n",
       "\n",
       "| tool &lt;fct&gt; | V1 &lt;dbl&gt; |\n",
       "|---|---|\n",
       "| kraken    | 0.9939173 |\n",
       "| metaphlan | 0.9078069 |\n",
       "| metabuli  | 0.6309737 |\n",
       "| singlem   | 0.5712804 |\n",
       "| sourmash  | 0.3758449 |\n",
       "\n"
      ],
      "text/plain": [
       "  tool      V1       \n",
       "1 kraken    0.9939173\n",
       "2 metaphlan 0.9078069\n",
       "3 metabuli  0.6309737\n",
       "4 singlem   0.5712804\n",
       "5 sourmash  0.3758449"
      ]
     },
     "metadata": {},
     "output_type": "display_data"
    }
   ],
   "source": [
    "d3[metric=='Completeness'][rank=='species'][,.(mean(value)), by=.(tool)][order(-V1)]"
   ]
  },
  {
   "cell_type": "code",
   "execution_count": 21,
   "metadata": {
    "vscode": {
     "languageId": "r"
    }
   },
   "outputs": [
    {
     "data": {
      "text/html": [
       "<table class=\"dataframe\">\n",
       "<caption>A data.table: 5 × 2</caption>\n",
       "<thead>\n",
       "\t<tr><th scope=col>tool</th><th scope=col>V1</th></tr>\n",
       "\t<tr><th scope=col>&lt;fct&gt;</th><th scope=col>&lt;dbl&gt;</th></tr>\n",
       "</thead>\n",
       "<tbody>\n",
       "\t<tr><td>kraken   </td><td>0.9915413</td></tr>\n",
       "\t<tr><td>metabuli </td><td>0.9573970</td></tr>\n",
       "\t<tr><td>metaphlan</td><td>0.9522063</td></tr>\n",
       "\t<tr><td>singlem  </td><td>0.7688222</td></tr>\n",
       "\t<tr><td>sourmash </td><td>0.4435420</td></tr>\n",
       "</tbody>\n",
       "</table>\n"
      ],
      "text/latex": [
       "A data.table: 5 × 2\n",
       "\\begin{tabular}{ll}\n",
       " tool & V1\\\\\n",
       " <fct> & <dbl>\\\\\n",
       "\\hline\n",
       "\t kraken    & 0.9915413\\\\\n",
       "\t metabuli  & 0.9573970\\\\\n",
       "\t metaphlan & 0.9522063\\\\\n",
       "\t singlem   & 0.7688222\\\\\n",
       "\t sourmash  & 0.4435420\\\\\n",
       "\\end{tabular}\n"
      ],
      "text/markdown": [
       "\n",
       "A data.table: 5 × 2\n",
       "\n",
       "| tool &lt;fct&gt; | V1 &lt;dbl&gt; |\n",
       "|---|---|\n",
       "| kraken    | 0.9915413 |\n",
       "| metabuli  | 0.9573970 |\n",
       "| metaphlan | 0.9522063 |\n",
       "| singlem   | 0.7688222 |\n",
       "| sourmash  | 0.4435420 |\n",
       "\n"
      ],
      "text/plain": [
       "  tool      V1       \n",
       "1 kraken    0.9915413\n",
       "2 metabuli  0.9573970\n",
       "3 metaphlan 0.9522063\n",
       "4 singlem   0.7688222\n",
       "5 sourmash  0.4435420"
      ]
     },
     "metadata": {},
     "output_type": "display_data"
    }
   ],
   "source": [
    "d3[metric=='Completeness'][rank=='genus'][,.(mean(value)), by=.(tool)][order(-V1)]"
   ]
  },
  {
   "cell_type": "code",
   "execution_count": 22,
   "metadata": {
    "vscode": {
     "languageId": "r"
    }
   },
   "outputs": [
    {
     "data": {
      "text/html": [
       "<table class=\"dataframe\">\n",
       "<caption>A data.table: 3 × 3</caption>\n",
       "<thead>\n",
       "\t<tr><th scope=col>sample</th><th scope=col>coverage</th><th scope=col>taxonomy</th></tr>\n",
       "\t<tr><th scope=col>&lt;chr&gt;</th><th scope=col>&lt;dbl&gt;</th><th scope=col>&lt;chr&gt;</th></tr>\n",
       "</thead>\n",
       "<tbody>\n",
       "\t<tr><td>marine7</td><td>134.52649</td><td>Root; d__Bacteria; p__Proteobacteria; c__Gammaproteobacteria; o__Nitrococcales; f__Nitrococcaceae; g__Spiribacter; s__Spiribacter curvatus          </td></tr>\n",
       "\t<tr><td>marine7</td><td> 92.06454</td><td>Root; d__Archaea; p__Thermoproteota; c__Thermoproteia; o__Sulfolobales; f__Pyrodictiaceae; g__Hyperthermus; s__Hyperthermus butylicus               </td></tr>\n",
       "\t<tr><td>marine7</td><td> 75.66944</td><td>Root; d__Bacteria; p__Proteobacteria; c__Gammaproteobacteria; o__Nitrosococcales; f__Nitrosococcaceae; g__Nitrosococcus; s__Nitrosococcus halophilus</td></tr>\n",
       "</tbody>\n",
       "</table>\n"
      ],
      "text/latex": [
       "A data.table: 3 × 3\n",
       "\\begin{tabular}{lll}\n",
       " sample & coverage & taxonomy\\\\\n",
       " <chr> & <dbl> & <chr>\\\\\n",
       "\\hline\n",
       "\t marine7 & 134.52649 & Root; d\\_\\_Bacteria; p\\_\\_Proteobacteria; c\\_\\_Gammaproteobacteria; o\\_\\_Nitrococcales; f\\_\\_Nitrococcaceae; g\\_\\_Spiribacter; s\\_\\_Spiribacter curvatus          \\\\\n",
       "\t marine7 &  92.06454 & Root; d\\_\\_Archaea; p\\_\\_Thermoproteota; c\\_\\_Thermoproteia; o\\_\\_Sulfolobales; f\\_\\_Pyrodictiaceae; g\\_\\_Hyperthermus; s\\_\\_Hyperthermus butylicus               \\\\\n",
       "\t marine7 &  75.66944 & Root; d\\_\\_Bacteria; p\\_\\_Proteobacteria; c\\_\\_Gammaproteobacteria; o\\_\\_Nitrosococcales; f\\_\\_Nitrosococcaceae; g\\_\\_Nitrosococcus; s\\_\\_Nitrosococcus halophilus\\\\\n",
       "\\end{tabular}\n"
      ],
      "text/markdown": [
       "\n",
       "A data.table: 3 × 3\n",
       "\n",
       "| sample &lt;chr&gt; | coverage &lt;dbl&gt; | taxonomy &lt;chr&gt; |\n",
       "|---|---|---|\n",
       "| marine7 | 134.52649 | Root; d__Bacteria; p__Proteobacteria; c__Gammaproteobacteria; o__Nitrococcales; f__Nitrococcaceae; g__Spiribacter; s__Spiribacter curvatus           |\n",
       "| marine7 |  92.06454 | Root; d__Archaea; p__Thermoproteota; c__Thermoproteia; o__Sulfolobales; f__Pyrodictiaceae; g__Hyperthermus; s__Hyperthermus butylicus                |\n",
       "| marine7 |  75.66944 | Root; d__Bacteria; p__Proteobacteria; c__Gammaproteobacteria; o__Nitrosococcales; f__Nitrosococcaceae; g__Nitrosococcus; s__Nitrosococcus halophilus |\n",
       "\n"
      ],
      "text/plain": [
       "  sample  coverage \n",
       "1 marine7 134.52649\n",
       "2 marine7  92.06454\n",
       "3 marine7  75.66944\n",
       "  taxonomy                                                                                                                                            \n",
       "1 Root; d__Bacteria; p__Proteobacteria; c__Gammaproteobacteria; o__Nitrococcales; f__Nitrococcaceae; g__Spiribacter; s__Spiribacter curvatus          \n",
       "2 Root; d__Archaea; p__Thermoproteota; c__Thermoproteia; o__Sulfolobales; f__Pyrodictiaceae; g__Hyperthermus; s__Hyperthermus butylicus               \n",
       "3 Root; d__Bacteria; p__Proteobacteria; c__Gammaproteobacteria; o__Nitrosococcales; f__Nitrosococcaceae; g__Nitrosococcus; s__Nitrosococcus halophilus"
      ]
     },
     "metadata": {},
     "output_type": "display_data"
    },
    {
     "data": {
      "text/html": [
       "<table class=\"dataframe\">\n",
       "<caption>A data.table: 3 × 3</caption>\n",
       "<thead>\n",
       "\t<tr><th scope=col>sample</th><th scope=col>coverage</th><th scope=col>taxonomy</th></tr>\n",
       "\t<tr><th scope=col>&lt;chr&gt;</th><th scope=col>&lt;dbl&gt;</th><th scope=col>&lt;chr&gt;</th></tr>\n",
       "</thead>\n",
       "<tbody>\n",
       "\t<tr><td>marine7.1</td><td>111.03</td><td>Root; d__Bacteria; p__Proteobacteria; c__Gammaproteobacteria; o__Nitrococcales; f__Nitrococcaceae; g__Spiribacter; s__Spiribacter curvatus          </td></tr>\n",
       "\t<tr><td>marine7.1</td><td> 73.49</td><td>Root; d__Archaea; p__Thermoproteota; c__Thermoproteia; o__Sulfolobales; f__Pyrodictiaceae; g__Hyperthermus; s__Hyperthermus butylicus               </td></tr>\n",
       "\t<tr><td>marine7.1</td><td> 63.56</td><td>Root; d__Bacteria; p__Proteobacteria; c__Gammaproteobacteria; o__Nitrosococcales; f__Nitrosococcaceae; g__Nitrosococcus; s__Nitrosococcus halophilus</td></tr>\n",
       "</tbody>\n",
       "</table>\n"
      ],
      "text/latex": [
       "A data.table: 3 × 3\n",
       "\\begin{tabular}{lll}\n",
       " sample & coverage & taxonomy\\\\\n",
       " <chr> & <dbl> & <chr>\\\\\n",
       "\\hline\n",
       "\t marine7.1 & 111.03 & Root; d\\_\\_Bacteria; p\\_\\_Proteobacteria; c\\_\\_Gammaproteobacteria; o\\_\\_Nitrococcales; f\\_\\_Nitrococcaceae; g\\_\\_Spiribacter; s\\_\\_Spiribacter curvatus          \\\\\n",
       "\t marine7.1 &  73.49 & Root; d\\_\\_Archaea; p\\_\\_Thermoproteota; c\\_\\_Thermoproteia; o\\_\\_Sulfolobales; f\\_\\_Pyrodictiaceae; g\\_\\_Hyperthermus; s\\_\\_Hyperthermus butylicus               \\\\\n",
       "\t marine7.1 &  63.56 & Root; d\\_\\_Bacteria; p\\_\\_Proteobacteria; c\\_\\_Gammaproteobacteria; o\\_\\_Nitrosococcales; f\\_\\_Nitrosococcaceae; g\\_\\_Nitrosococcus; s\\_\\_Nitrosococcus halophilus\\\\\n",
       "\\end{tabular}\n"
      ],
      "text/markdown": [
       "\n",
       "A data.table: 3 × 3\n",
       "\n",
       "| sample &lt;chr&gt; | coverage &lt;dbl&gt; | taxonomy &lt;chr&gt; |\n",
       "|---|---|---|\n",
       "| marine7.1 | 111.03 | Root; d__Bacteria; p__Proteobacteria; c__Gammaproteobacteria; o__Nitrococcales; f__Nitrococcaceae; g__Spiribacter; s__Spiribacter curvatus           |\n",
       "| marine7.1 |  73.49 | Root; d__Archaea; p__Thermoproteota; c__Thermoproteia; o__Sulfolobales; f__Pyrodictiaceae; g__Hyperthermus; s__Hyperthermus butylicus                |\n",
       "| marine7.1 |  63.56 | Root; d__Bacteria; p__Proteobacteria; c__Gammaproteobacteria; o__Nitrosococcales; f__Nitrosococcaceae; g__Nitrosococcus; s__Nitrosococcus halophilus |\n",
       "\n"
      ],
      "text/plain": [
       "  sample    coverage\n",
       "1 marine7.1 111.03  \n",
       "2 marine7.1  73.49  \n",
       "3 marine7.1  63.56  \n",
       "  taxonomy                                                                                                                                            \n",
       "1 Root; d__Bacteria; p__Proteobacteria; c__Gammaproteobacteria; o__Nitrococcales; f__Nitrococcaceae; g__Spiribacter; s__Spiribacter curvatus          \n",
       "2 Root; d__Archaea; p__Thermoproteota; c__Thermoproteia; o__Sulfolobales; f__Pyrodictiaceae; g__Hyperthermus; s__Hyperthermus butylicus               \n",
       "3 Root; d__Bacteria; p__Proteobacteria; c__Gammaproteobacteria; o__Nitrosococcales; f__Nitrosococcaceae; g__Nitrosococcus; s__Nitrosococcus halophilus"
      ]
     },
     "metadata": {},
     "output_type": "display_data"
    }
   ],
   "source": [
    "# What is the reason for the lower F1 score (really completeness) of SingleM on CAMI ?\n",
    "\n",
    "# Take marine7 as an example\n",
    "# Read gold standard condensed\n",
    "gs = fread('truths/marine7.condensed')[order(-coverage)]\n",
    "gs[, taxonomy := gsub(';','; ',taxonomy)]\n",
    "sm = fread('output_singlem/singlem/marine7.profile')[order(-coverage)]\n",
    "gs[1:3]\n",
    "\n",
    "sm_species = sm[grep('s__', taxonomy)][order(-coverage)]\n",
    "sm_species[1:3]"
   ]
  },
  {
   "cell_type": "code",
   "execution_count": 23,
   "metadata": {
    "vscode": {
     "languageId": "r"
    }
   },
   "outputs": [
    {
     "name": "stderr",
     "output_type": "stream",
     "text": [
      "Warning message:\n",
      "“\u001b[1m\u001b[22mRemoved 57 rows containing missing values (`geom_point()`).”\n",
      "Warning message:\n",
      "“\u001b[1m\u001b[22mRemoved 63 rows containing missing values (`geom_point()`).”\n"
     ]
    },
    {
     "data": {
      "image/png": "[encoded data removed]",
      "text/plain": [
       "plot without title"
      ]
     },
     "metadata": {
      "image/png": {
       "height": 420,
       "width": 420
      }
     },
     "output_type": "display_data"
    },
    {
     "data": {
      "image/png": "[encoded data removed]",
      "text/plain": [
       "plot without title"
      ]
     },
     "metadata": {
      "image/png": {
       "height": 420,
       "width": 420
      }
     },
     "output_type": "display_data"
    }
   ],
   "source": [
    "# So just a coverage thing?\n",
    "qplot(data=merge(gs, sm_species, by='taxonomy'), coverage.x, coverage.y)+geom_abline(intercept=0, slope=1)+xlim(c(0,5))+ylim(c(0,5))\n",
    "m = merge(gs, sm_species, by='taxonomy', all.x=T)\n",
    "m[is.na(coverage.y), coverage.y := 0]\n",
    "qplot(data=m, coverage.x, coverage.y)+geom_abline(intercept=0, slope=1)+xlim(c(0,5))+ylim(c(0,5))"
   ]
  },
  {
   "cell_type": "code",
   "execution_count": 25,
   "metadata": {
    "vscode": {
     "languageId": "r"
    }
   },
   "outputs": [
    {
     "data": {
      "image/png": "[encoded data removed]",
      "text/plain": [
       "plot without title"
      ]
     },
     "metadata": {
      "image/png": {
       "height": 420,
       "width": 420
      }
     },
     "output_type": "display_data"
    }
   ],
   "source": [
    "qplot(data=m, coverage.x, coverage.y)+geom_abline(intercept=0, slope=1)"
   ]
  },
  {
   "cell_type": "code",
   "execution_count": 24,
   "metadata": {
    "vscode": {
     "languageId": "r"
    }
   },
   "outputs": [
    {
     "data": {
      "text/html": [
       "150"
      ],
      "text/latex": [
       "150"
      ],
      "text/markdown": [
       "150"
      ],
      "text/plain": [
       "[1] 150"
      ]
     },
     "metadata": {},
     "output_type": "display_data"
    }
   ],
   "source": [
    "# What length are the reads?\n",
    "# $ fastq_count.sh marine7.1.fq.gz\n",
    "# marine7.1.fq.gz 16645651        2496847650\n",
    "2496847650/16645651"
   ]
  }
 ],
 "metadata": {
  "kernelspec": {
   "display_name": "R",
   "language": "R",
   "name": "ir"
  },
  "language_info": {
   "codemirror_mode": "r",
   "file_extension": ".r",
   "mimetype": "text/x-r-source",
   "name": "R",
   "pygments_lexer": "r",
   "version": "4.2.1"
  }
 },
 "nbformat": 4,
 "nbformat_minor": 2
}
